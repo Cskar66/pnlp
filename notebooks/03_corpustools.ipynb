{
 "cells": [
  {
   "cell_type": "markdown",
   "metadata": {},
   "source": [
    "# Chapter 3: Corpus Processing Tools\n",
    "A description of regular expressions and efficient tools to process text"
   ]
  },
  {
   "cell_type": "markdown",
   "metadata": {},
   "source": [
    "Programs from the book: [Python for Natural Language Processing](https://link.springer.com/book/9783031575488)\n",
    "\n",
    "__Author__: Pierre Nugues"
   ]
  },
  {
   "cell_type": "markdown",
   "metadata": {},
   "source": [
    "## Modules \n",
    "We use the `regex` module to have a better Unicode support"
   ]
  },
  {
   "cell_type": "code",
   "execution_count": 1,
   "metadata": {},
   "outputs": [],
   "source": [
    "import regex as re\n"
   ]
  },
  {
   "cell_type": "markdown",
   "metadata": {},
   "source": [
    "## The Corpora\n",
    "Adjust the paths of your files"
   ]
  },
  {
   "cell_type": "code",
   "execution_count": 2,
   "metadata": {},
   "outputs": [],
   "source": [
    "odyssey_file = '../../corpus/odyssey.mb.txt'\n",
    "iliad_file = '../../corpus/iliad.mb.txt'\n",
    "selma_file = '../../corpus/Selma.txt'\n"
   ]
  },
  {
   "cell_type": "code",
   "execution_count": 3,
   "metadata": {},
   "outputs": [
    {
     "data": {
      "text/plain": [
       "'The Iliad\\nBy Homer\\n\\n\\nTranslated by Samuel Butler\\n\\n--------------------------------------------------'"
      ]
     },
     "execution_count": 3,
     "metadata": {},
     "output_type": "execute_result"
    }
   ],
   "source": [
    "iliad = open(iliad_file).read()\n",
    "iliad[:100]\n"
   ]
  },
  {
   "cell_type": "code",
   "execution_count": 4,
   "metadata": {},
   "outputs": [
    {
     "data": {
      "text/plain": [
       "'The Odyssey\\nBy Homer\\n\\n\\nTranslated by Samuel Butler\\n\\n------------------------------------------------'"
      ]
     },
     "execution_count": 4,
     "metadata": {},
     "output_type": "execute_result"
    }
   ],
   "source": [
    "odyssey = open(odyssey_file).read()\n",
    "odyssey[:100]\n"
   ]
  },
  {
   "cell_type": "code",
   "execution_count": 5,
   "metadata": {},
   "outputs": [
    {
     "data": {
      "text/plain": [
       "'Nils Holgerssons underbara resa genom Sverige\\nSelma Lagerlöf\\n\\nInnehåll\\n\\tDen kristna dagvisan - Sveri'"
      ]
     },
     "execution_count": 5,
     "metadata": {},
     "output_type": "execute_result"
    }
   ],
   "source": [
    "selma = open(selma_file).read()\n",
    "selma[:100]\n"
   ]
  },
  {
   "cell_type": "markdown",
   "metadata": {},
   "source": [
    "## Matching one occurrence"
   ]
  },
  {
   "cell_type": "markdown",
   "metadata": {},
   "source": [
    "#### A first match with `re.search()`"
   ]
  },
  {
   "cell_type": "code",
   "execution_count": 6,
   "metadata": {},
   "outputs": [],
   "source": [
    "line = 'The aerial acceleration alerted the ace pilot'\n"
   ]
  },
  {
   "cell_type": "code",
   "execution_count": 7,
   "metadata": {},
   "outputs": [
    {
     "data": {
      "text/plain": [
       "<regex.Match object; span=(4, 6), match='ae'>"
      ]
     },
     "execution_count": 7,
     "metadata": {},
     "output_type": "execute_result"
    }
   ],
   "source": [
    "match = re.search('ac*e', line)\n",
    "match      # <regex.Match object; span=(4, 6), match='ae'>\n"
   ]
  },
  {
   "cell_type": "markdown",
   "metadata": {},
   "source": [
    "#### Getting the match value"
   ]
  },
  {
   "cell_type": "code",
   "execution_count": 8,
   "metadata": {},
   "outputs": [
    {
     "data": {
      "text/plain": [
       "'ae'"
      ]
     },
     "execution_count": 8,
     "metadata": {},
     "output_type": "execute_result"
    }
   ],
   "source": [
    "match.group()  # ae\n"
   ]
  },
  {
   "cell_type": "markdown",
   "metadata": {},
   "source": [
    "## Getting all the matches"
   ]
  },
  {
   "cell_type": "markdown",
   "metadata": {},
   "source": [
    "#### The list of all the strings with `ac*e`, `ac?e`, `ac+e`, `ac{2}e`, `ac{2,}e`, and `a.e`"
   ]
  },
  {
   "cell_type": "code",
   "execution_count": 9,
   "metadata": {},
   "outputs": [
    {
     "data": {
      "text/plain": [
       "['ae', 'acce', 'ace']"
      ]
     },
     "execution_count": 9,
     "metadata": {},
     "output_type": "execute_result"
    }
   ],
   "source": [
    "match_list = re.findall('ac*e', line)   # ['ae', 'acce', 'ace']\n",
    "match_list\n"
   ]
  },
  {
   "cell_type": "code",
   "execution_count": 10,
   "metadata": {},
   "outputs": [
    {
     "data": {
      "text/plain": [
       "['ae', 'ace']"
      ]
     },
     "execution_count": 10,
     "metadata": {},
     "output_type": "execute_result"
    }
   ],
   "source": [
    "re.findall('ac?e', line)  # ['ae', 'ace']\n"
   ]
  },
  {
   "cell_type": "code",
   "execution_count": 11,
   "metadata": {},
   "outputs": [
    {
     "data": {
      "text/plain": [
       "['acce', 'ace']"
      ]
     },
     "execution_count": 11,
     "metadata": {},
     "output_type": "execute_result"
    }
   ],
   "source": [
    "re.findall('ac+e', line)\n"
   ]
  },
  {
   "cell_type": "code",
   "execution_count": 12,
   "metadata": {},
   "outputs": [
    {
     "data": {
      "text/plain": [
       "['acce']"
      ]
     },
     "execution_count": 12,
     "metadata": {},
     "output_type": "execute_result"
    }
   ],
   "source": [
    "re.findall('ac{2}e', line)\n"
   ]
  },
  {
   "cell_type": "code",
   "execution_count": 13,
   "metadata": {},
   "outputs": [
    {
     "data": {
      "text/plain": [
       "['acce']"
      ]
     },
     "execution_count": 13,
     "metadata": {},
     "output_type": "execute_result"
    }
   ],
   "source": [
    "re.findall('ac{2,}e', line)\n"
   ]
  },
  {
   "cell_type": "code",
   "execution_count": 14,
   "metadata": {},
   "outputs": [
    {
     "data": {
      "text/plain": [
       "['ale', 'ace']"
      ]
     },
     "execution_count": 14,
     "metadata": {},
     "output_type": "execute_result"
    }
   ],
   "source": [
    "re.findall('a.e', line)\n"
   ]
  },
  {
   "cell_type": "markdown",
   "metadata": {},
   "source": [
    "#### The match groups (the objects) with the `finditer()` iterator"
   ]
  },
  {
   "cell_type": "code",
   "execution_count": 15,
   "metadata": {},
   "outputs": [
    {
     "data": {
      "text/plain": [
       "[<regex.Match object; span=(4, 6), match='ae'>,\n",
       " <regex.Match object; span=(11, 15), match='acce'>,\n",
       " <regex.Match object; span=(36, 39), match='ace'>]"
      ]
     },
     "execution_count": 15,
     "metadata": {},
     "output_type": "execute_result"
    }
   ],
   "source": [
    "match_iter = re.finditer('ac*e', line)\n",
    "list(match_iter)\n"
   ]
  },
  {
   "cell_type": "markdown",
   "metadata": {},
   "source": [
    "## Nonprintable characters and modifiers\n",
    "#### Start of a string"
   ]
  },
  {
   "cell_type": "code",
   "execution_count": 16,
   "metadata": {},
   "outputs": [],
   "source": [
    "iliad_opening = \"\"\"Sing, O goddess, the anger of Achilles \n",
    "son of Peleus, that brought countless ills upon the Achaeans.\n",
    "\"\"\".strip()\n"
   ]
  },
  {
   "cell_type": "code",
   "execution_count": 17,
   "metadata": {},
   "outputs": [
    {
     "data": {
      "text/plain": [
       "['S']"
      ]
     },
     "execution_count": 17,
     "metadata": {},
     "output_type": "execute_result"
    }
   ],
   "source": [
    "re.findall('^S', iliad_opening)  # m/^S/g\n"
   ]
  },
  {
   "cell_type": "code",
   "execution_count": 18,
   "metadata": {},
   "outputs": [
    {
     "data": {
      "text/plain": [
       "[]"
      ]
     },
     "execution_count": 18,
     "metadata": {},
     "output_type": "execute_result"
    }
   ],
   "source": [
    "re.findall('^s', iliad_opening)  # m/^s/g\n"
   ]
  },
  {
   "cell_type": "markdown",
   "metadata": {},
   "source": [
    "#### The case-insensitive modifier"
   ]
  },
  {
   "cell_type": "markdown",
   "metadata": {},
   "source": [
    "We did not match `S`. We can make the regex case-insensitive"
   ]
  },
  {
   "cell_type": "code",
   "execution_count": 19,
   "metadata": {},
   "outputs": [
    {
     "data": {
      "text/plain": [
       "['S']"
      ]
     },
     "execution_count": 19,
     "metadata": {},
     "output_type": "execute_result"
    }
   ],
   "source": [
    "re.findall('^s', iliad_opening, re.I)  # m/^s/ig\n"
   ]
  },
  {
   "cell_type": "markdown",
   "metadata": {},
   "source": [
    "#### Case insensitive and multiline"
   ]
  },
  {
   "cell_type": "markdown",
   "metadata": {},
   "source": [
    "The start anchor `^` corresponds to the unique start a string. With the multiline modifier, `re.M` a `\\n` also defines a start position"
   ]
  },
  {
   "cell_type": "code",
   "execution_count": 20,
   "metadata": {},
   "outputs": [
    {
     "data": {
      "text/plain": [
       "['S', 's']"
      ]
     },
     "execution_count": 20,
     "metadata": {},
     "output_type": "execute_result"
    }
   ],
   "source": [
    "re.findall('^s', iliad_opening, re.I | re.M)  # m/^s/img\n"
   ]
  },
  {
   "cell_type": "markdown",
   "metadata": {},
   "source": [
    "#### Getting all the matches"
   ]
  },
  {
   "cell_type": "code",
   "execution_count": 21,
   "metadata": {},
   "outputs": [
    {
     "data": {
      "text/plain": [
       "'Sing, O goddess, the anger of Achilles \\nson of Peleus, that brought countless ills upon the Achaeans.'"
      ]
     },
     "execution_count": 21,
     "metadata": {},
     "output_type": "execute_result"
    }
   ],
   "source": [
    "iliad_opening = \"\"\"Sing, O goddess, the anger of Achilles \n",
    "son of Peleus, that brought countless ills upon the Achaeans.\n",
    "\"\"\".strip()\n",
    "iliad_opening\n"
   ]
  },
  {
   "cell_type": "code",
   "execution_count": 22,
   "metadata": {},
   "outputs": [
    {
     "name": "stdout",
     "output_type": "stream",
     "text": [
      "['S', 's']\n"
     ]
    }
   ],
   "source": [
    "match_list = re.findall('^s', iliad_opening, re.I | re.M)\n",
    "print(match_list)\n"
   ]
  },
  {
   "cell_type": "markdown",
   "metadata": {},
   "source": [
    "#### Getting all the matches with `finditer()`"
   ]
  },
  {
   "cell_type": "code",
   "execution_count": 23,
   "metadata": {},
   "outputs": [
    {
     "data": {
      "text/plain": [
       "<_regex.Scanner at 0x105f1d810>"
      ]
     },
     "execution_count": 23,
     "metadata": {},
     "output_type": "execute_result"
    }
   ],
   "source": [
    "match_list = re.finditer('^s', iliad_opening, re.I | re.M)\n",
    "match_list\n"
   ]
  },
  {
   "cell_type": "code",
   "execution_count": 24,
   "metadata": {},
   "outputs": [
    {
     "data": {
      "text/plain": [
       "[<regex.Match object; span=(0, 1), match='S'>,\n",
       " <regex.Match object; span=(40, 41), match='s'>]"
      ]
     },
     "execution_count": 24,
     "metadata": {},
     "output_type": "execute_result"
    }
   ],
   "source": [
    "list(match_list)\n"
   ]
  },
  {
   "cell_type": "markdown",
   "metadata": {
    "tags": []
   },
   "source": [
    "## Substitution"
   ]
  },
  {
   "cell_type": "markdown",
   "metadata": {},
   "source": [
    "#### Global replacement: `s/pattern/replacement/g`"
   ]
  },
  {
   "cell_type": "code",
   "execution_count": 25,
   "metadata": {},
   "outputs": [
    {
     "name": "stdout",
     "output_type": "stream",
     "text": [
      "Sing, O goddEZ, the anger of AchillEZ \n",
      "son of Peleus, that brought countlEZ ills upon the Achaeans.\n"
     ]
    }
   ],
   "source": [
    "print(re.sub('es+', 'EZ', iliad_opening))  # s/es+/EZ/g\n"
   ]
  },
  {
   "cell_type": "markdown",
   "metadata": {},
   "source": [
    " \n",
    "#### Just one replacement: s/regex/replacement/"
   ]
  },
  {
   "cell_type": "code",
   "execution_count": 26,
   "metadata": {},
   "outputs": [
    {
     "name": "stdout",
     "output_type": "stream",
     "text": [
      "Sing, O goddEZ, the anger of Achilles \n",
      "son of Peleus, that brought countless ills upon the Achaeans.\n"
     ]
    }
   ],
   "source": [
    "print(re.sub('es+', 'EZ', iliad_opening, 1))  # s/es+/EZ/g\n"
   ]
  },
  {
   "cell_type": "markdown",
   "metadata": {},
   "source": [
    "## Backreferences"
   ]
  },
  {
   "cell_type": "code",
   "execution_count": 27,
   "metadata": {},
   "outputs": [
    {
     "data": {
      "text/plain": [
       "'The aerial acceleration alerted the ace pilot'"
      ]
     },
     "execution_count": 27,
     "metadata": {},
     "output_type": "execute_result"
    }
   ],
   "source": [
    "line\n"
   ]
  },
  {
   "cell_type": "code",
   "execution_count": 28,
   "metadata": {},
   "outputs": [
    {
     "data": {
      "text/plain": [
       "<regex.Match object; span=(11, 15), match='acce'>"
      ]
     },
     "execution_count": 28,
     "metadata": {},
     "output_type": "execute_result"
    }
   ],
   "source": [
    "re.search('ac+e', line)\n"
   ]
  },
  {
   "cell_type": "code",
   "execution_count": 29,
   "metadata": {},
   "outputs": [],
   "source": [
    "match = re.search('a(c+)e', line)\n"
   ]
  },
  {
   "cell_type": "markdown",
   "metadata": {},
   "source": [
    "The back-reference"
   ]
  },
  {
   "cell_type": "code",
   "execution_count": 30,
   "metadata": {},
   "outputs": [
    {
     "data": {
      "text/plain": [
       "'cc'"
      ]
     },
     "execution_count": 30,
     "metadata": {},
     "output_type": "execute_result"
    }
   ],
   "source": [
    "match.group(1)\n"
   ]
  },
  {
   "cell_type": "markdown",
   "metadata": {},
   "source": [
    "The whole pattern"
   ]
  },
  {
   "cell_type": "code",
   "execution_count": 31,
   "metadata": {},
   "outputs": [
    {
     "data": {
      "text/plain": [
       "'acce'"
      ]
     },
     "execution_count": 31,
     "metadata": {},
     "output_type": "execute_result"
    }
   ],
   "source": [
    "match.group()\n"
   ]
  },
  {
   "cell_type": "markdown",
   "metadata": {},
   "source": [
    "Equivalent to"
   ]
  },
  {
   "cell_type": "code",
   "execution_count": 32,
   "metadata": {},
   "outputs": [
    {
     "data": {
      "text/plain": [
       "'acce'"
      ]
     },
     "execution_count": 32,
     "metadata": {},
     "output_type": "execute_result"
    }
   ],
   "source": [
    "match.group(0)\n"
   ]
  },
  {
   "cell_type": "markdown",
   "metadata": {},
   "source": [
    "More back references"
   ]
  },
  {
   "cell_type": "code",
   "execution_count": 33,
   "metadata": {},
   "outputs": [],
   "source": [
    "match = re.search('(.)(c+)e', line)\n"
   ]
  },
  {
   "cell_type": "markdown",
   "metadata": {},
   "source": [
    "Back reference 1, `(.)` stored in `\\1`"
   ]
  },
  {
   "cell_type": "code",
   "execution_count": 34,
   "metadata": {},
   "outputs": [
    {
     "data": {
      "text/plain": [
       "'a'"
      ]
     },
     "execution_count": 34,
     "metadata": {},
     "output_type": "execute_result"
    }
   ],
   "source": [
    "match.group(1)\n"
   ]
  },
  {
   "cell_type": "markdown",
   "metadata": {},
   "source": [
    "Backreference 2, `(c+)` stored in `\\2`"
   ]
  },
  {
   "cell_type": "code",
   "execution_count": 35,
   "metadata": {},
   "outputs": [
    {
     "data": {
      "text/plain": [
       "'cc'"
      ]
     },
     "execution_count": 35,
     "metadata": {},
     "output_type": "execute_result"
    }
   ],
   "source": [
    "match.group(2)\n"
   ]
  },
  {
   "cell_type": "markdown",
   "metadata": {},
   "source": [
    "Matching a sequence of three identical characters"
   ]
  },
  {
   "cell_type": "code",
   "execution_count": 36,
   "metadata": {},
   "outputs": [
    {
     "data": {
      "text/plain": [
       "'c'"
      ]
     },
     "execution_count": 36,
     "metadata": {},
     "output_type": "execute_result"
    }
   ],
   "source": [
    "match = re.search(r'(.)\\1\\1', 'accceleration')\n",
    "match.group(1)                # 'c'\n"
   ]
  },
  {
   "cell_type": "markdown",
   "metadata": {},
   "source": [
    "#### Raw Strings and The `r` prefix"
   ]
  },
  {
   "cell_type": "code",
   "execution_count": 37,
   "metadata": {},
   "outputs": [
    {
     "data": {
      "text/plain": [
       "'\\x01'"
      ]
     },
     "execution_count": 37,
     "metadata": {},
     "output_type": "execute_result"
    }
   ],
   "source": [
    "'\\1'\n"
   ]
  },
  {
   "cell_type": "code",
   "execution_count": 38,
   "metadata": {},
   "outputs": [
    {
     "data": {
      "text/plain": [
       "'a'"
      ]
     },
     "execution_count": 38,
     "metadata": {},
     "output_type": "execute_result"
    }
   ],
   "source": [
    "'\\141'\n"
   ]
  },
  {
   "cell_type": "code",
   "execution_count": 39,
   "metadata": {},
   "outputs": [
    {
     "data": {
      "text/plain": [
       "'\\\\1'"
      ]
     },
     "execution_count": 39,
     "metadata": {},
     "output_type": "execute_result"
    }
   ],
   "source": [
    "r'\\1'\n"
   ]
  },
  {
   "cell_type": "code",
   "execution_count": 40,
   "metadata": {},
   "outputs": [
    {
     "data": {
      "text/plain": [
       "'\\\\141'"
      ]
     },
     "execution_count": 40,
     "metadata": {},
     "output_type": "execute_result"
    }
   ],
   "source": [
    "r'\\141'\n"
   ]
  },
  {
   "cell_type": "code",
   "execution_count": 41,
   "metadata": {},
   "outputs": [
    {
     "data": {
      "text/plain": [
       "'Sing, O goddess, the anger of Achilles \\nson of Peleus, that brought countless ills upon the Achaeans.'"
      ]
     },
     "execution_count": 41,
     "metadata": {},
     "output_type": "execute_result"
    }
   ],
   "source": [
    "iliad_opening\n"
   ]
  },
  {
   "cell_type": "code",
   "execution_count": 42,
   "metadata": {},
   "outputs": [
    {
     "data": {
      "text/plain": [
       "'\\\\n'"
      ]
     },
     "execution_count": 42,
     "metadata": {},
     "output_type": "execute_result"
    }
   ],
   "source": [
    "r'\\n'\n"
   ]
  },
  {
   "cell_type": "code",
   "execution_count": 43,
   "metadata": {},
   "outputs": [
    {
     "data": {
      "text/plain": [
       "'Sing, O goddess, the anger of Achilles son of Peleus, that brought countless ills upon the Achaeans.'"
      ]
     },
     "execution_count": 43,
     "metadata": {},
     "output_type": "execute_result"
    }
   ],
   "source": [
    "re.sub(' +\\n', ' ', iliad_opening)\n"
   ]
  },
  {
   "cell_type": "markdown",
   "metadata": {},
   "source": [
    "## Python escape sequences"
   ]
  },
  {
   "cell_type": "code",
   "execution_count": 44,
   "metadata": {},
   "outputs": [
    {
     "data": {
      "text/plain": [
       "<regex.Match object; span=(13, 20), match='100\\t200'>"
      ]
     },
     "execution_count": 44,
     "metadata": {},
     "output_type": "execute_result"
    }
   ],
   "source": [
    "re.search(r'\\p{N}+\\t\\p{N}+', 'Frequencies: 100\t200\t300')\n"
   ]
  },
  {
   "cell_type": "code",
   "execution_count": 45,
   "metadata": {},
   "outputs": [
    {
     "data": {
      "text/plain": [
       "<regex.Match object; span=(6, 7), match='@'>"
      ]
     },
     "execution_count": 45,
     "metadata": {},
     "output_type": "execute_result"
    }
   ],
   "source": [
    "re.search('\\N{COMMERCIAL AT}', 'pierre@dot.com')\n"
   ]
  },
  {
   "cell_type": "markdown",
   "metadata": {},
   "source": [
    " ### Substitutions"
   ]
  },
  {
   "cell_type": "markdown",
   "metadata": {},
   "source": [
    "#### Multiple backreferences `m/\\$ *([0-9]+)\\.?([0-9]*)/`"
   ]
  },
  {
   "cell_type": "code",
   "execution_count": 46,
   "metadata": {},
   "outputs": [],
   "source": [
    "price = \"We'll buy it for $72.40\"\n"
   ]
  },
  {
   "cell_type": "code",
   "execution_count": 47,
   "metadata": {},
   "outputs": [
    {
     "data": {
      "text/plain": [
       "'$72.40'"
      ]
     },
     "execution_count": 47,
     "metadata": {},
     "output_type": "execute_result"
    }
   ],
   "source": [
    "match = re.search(r'\\$ *([0-9]+)\\.?([0-9]*)', price)\n",
    "match.group()  # ’$72.40’ The entire match\n"
   ]
  },
  {
   "cell_type": "code",
   "execution_count": 48,
   "metadata": {},
   "outputs": [
    {
     "data": {
      "text/plain": [
       "'72'"
      ]
     },
     "execution_count": 48,
     "metadata": {},
     "output_type": "execute_result"
    }
   ],
   "source": [
    "match.group(1)  # ’72’ The first group\n"
   ]
  },
  {
   "cell_type": "code",
   "execution_count": 49,
   "metadata": {},
   "outputs": [
    {
     "data": {
      "text/plain": [
       "'40'"
      ]
     },
     "execution_count": 49,
     "metadata": {},
     "output_type": "execute_result"
    }
   ],
   "source": [
    "match.group(2)  # ’40’ The second group\n"
   ]
  },
  {
   "cell_type": "markdown",
   "metadata": {},
   "source": [
    "#### Substitutions `s/\\$ *([0-9]+)\\.?([0-9]*)/\\1 dollars and \\2 cents/g`"
   ]
  },
  {
   "cell_type": "code",
   "execution_count": 50,
   "metadata": {},
   "outputs": [
    {
     "data": {
      "text/plain": [
       "\"We'll buy it for 72 dollars and 40 cents\""
      ]
     },
     "execution_count": 50,
     "metadata": {},
     "output_type": "execute_result"
    }
   ],
   "source": [
    "re.sub(r'\\$ *([0-9]+)\\.?([0-9]*)',\n",
    "       r'\\1 dollars and \\2 cents', price)\n",
    "# We’ll buy it for 72 dollars and 40 cents\n"
   ]
  },
  {
   "cell_type": "markdown",
   "metadata": {},
   "source": [
    "## Matching objects"
   ]
  },
  {
   "cell_type": "code",
   "execution_count": 51,
   "metadata": {},
   "outputs": [],
   "source": [
    "price = \"We'll buy it for $72.40\"\n"
   ]
  },
  {
   "cell_type": "code",
   "execution_count": 52,
   "metadata": {},
   "outputs": [
    {
     "data": {
      "text/plain": [
       "<regex.Match object; span=(17, 23), match='$72.40'>"
      ]
     },
     "execution_count": 52,
     "metadata": {},
     "output_type": "execute_result"
    }
   ],
   "source": [
    "match = re.search(r'\\$ *([0-9]+)\\.?([0-9]*)', price)\n",
    "match\n"
   ]
  },
  {
   "cell_type": "markdown",
   "metadata": {},
   "source": [
    "#### Input"
   ]
  },
  {
   "cell_type": "code",
   "execution_count": 53,
   "metadata": {},
   "outputs": [
    {
     "data": {
      "text/plain": [
       "\"We'll buy it for $72.40\""
      ]
     },
     "execution_count": 53,
     "metadata": {},
     "output_type": "execute_result"
    }
   ],
   "source": [
    "match.string            # We’ll buy it for $72.40\n"
   ]
  },
  {
   "cell_type": "markdown",
   "metadata": {},
   "source": [
    "#### Groups"
   ]
  },
  {
   "cell_type": "code",
   "execution_count": 54,
   "metadata": {},
   "outputs": [
    {
     "data": {
      "text/plain": [
       "('72', '40')"
      ]
     },
     "execution_count": 54,
     "metadata": {},
     "output_type": "execute_result"
    }
   ],
   "source": [
    "match.groups()          # (’72’, ’40’)\n"
   ]
  },
  {
   "cell_type": "code",
   "execution_count": 55,
   "metadata": {},
   "outputs": [
    {
     "data": {
      "text/plain": [
       "'$72.40'"
      ]
     },
     "execution_count": 55,
     "metadata": {},
     "output_type": "execute_result"
    }
   ],
   "source": [
    "match.group(0)          # '$72.40'\n"
   ]
  },
  {
   "cell_type": "code",
   "execution_count": 56,
   "metadata": {},
   "outputs": [
    {
     "data": {
      "text/plain": [
       "'72'"
      ]
     },
     "execution_count": 56,
     "metadata": {},
     "output_type": "execute_result"
    }
   ],
   "source": [
    "match.group(1)\n"
   ]
  },
  {
   "cell_type": "code",
   "execution_count": 57,
   "metadata": {},
   "outputs": [
    {
     "data": {
      "text/plain": [
       "'40'"
      ]
     },
     "execution_count": 57,
     "metadata": {},
     "output_type": "execute_result"
    }
   ],
   "source": [
    "match.group(2)\n"
   ]
  },
  {
   "cell_type": "markdown",
   "metadata": {},
   "source": [
    "#### Match objects: The indices"
   ]
  },
  {
   "cell_type": "code",
   "execution_count": 58,
   "metadata": {},
   "outputs": [
    {
     "data": {
      "text/plain": [
       "17"
      ]
     },
     "execution_count": 58,
     "metadata": {},
     "output_type": "execute_result"
    }
   ],
   "source": [
    "match.start(0)\n"
   ]
  },
  {
   "cell_type": "code",
   "execution_count": 59,
   "metadata": {},
   "outputs": [
    {
     "data": {
      "text/plain": [
       "23"
      ]
     },
     "execution_count": 59,
     "metadata": {},
     "output_type": "execute_result"
    }
   ],
   "source": [
    "match.end(0)\n"
   ]
  },
  {
   "cell_type": "code",
   "execution_count": 60,
   "metadata": {},
   "outputs": [
    {
     "data": {
      "text/plain": [
       "18"
      ]
     },
     "execution_count": 60,
     "metadata": {},
     "output_type": "execute_result"
    }
   ],
   "source": [
    "match.start(1)\n"
   ]
  },
  {
   "cell_type": "code",
   "execution_count": 61,
   "metadata": {},
   "outputs": [
    {
     "data": {
      "text/plain": [
       "20"
      ]
     },
     "execution_count": 61,
     "metadata": {},
     "output_type": "execute_result"
    }
   ],
   "source": [
    "match.end(1)\n"
   ]
  },
  {
   "cell_type": "markdown",
   "metadata": {},
   "source": [
    "#### Example"
   ]
  },
  {
   "cell_type": "code",
   "execution_count": 62,
   "metadata": {},
   "outputs": [
    {
     "data": {
      "text/plain": [
       "'Tell me, O muse, of that ingenious hero\\n  who travelled far and wide after he had sacked\\n  the famous town of Troy.'"
      ]
     },
     "execution_count": 62,
     "metadata": {},
     "output_type": "execute_result"
    }
   ],
   "source": [
    "odyssey_opening = \"\"\"Tell me, O muse, of that ingenious hero\n",
    "  who travelled far and wide after he had sacked\n",
    "  the famous town of Troy.\"\"\".strip()\n",
    "odyssey_opening\n"
   ]
  },
  {
   "cell_type": "code",
   "execution_count": 63,
   "metadata": {},
   "outputs": [
    {
     "data": {
      "text/plain": [
       "<regex.Match object; span=(7, 16), match=', O muse,'>"
      ]
     },
     "execution_count": 63,
     "metadata": {},
     "output_type": "execute_result"
    }
   ],
   "source": [
    "match = re.search(',.*,', odyssey_opening, re.S)\n",
    "match\n"
   ]
  },
  {
   "cell_type": "code",
   "execution_count": 64,
   "metadata": {},
   "outputs": [
    {
     "data": {
      "text/plain": [
       "'Tell me'"
      ]
     },
     "execution_count": 64,
     "metadata": {},
     "output_type": "execute_result"
    }
   ],
   "source": [
    "odyssey_opening[0:match.start()]             # ’Tell me’\n"
   ]
  },
  {
   "cell_type": "code",
   "execution_count": 65,
   "metadata": {},
   "outputs": [
    {
     "data": {
      "text/plain": [
       "', O muse,'"
      ]
     },
     "execution_count": 65,
     "metadata": {},
     "output_type": "execute_result"
    }
   ],
   "source": [
    "odyssey_opening[match.start():match.end()]   # ’, O muse,’\n"
   ]
  },
  {
   "cell_type": "code",
   "execution_count": 66,
   "metadata": {},
   "outputs": [
    {
     "data": {
      "text/plain": [
       "' of that ingenious hero\\n  who travelled far and wide after he had sacked\\n  the famous town of Troy.'"
      ]
     },
     "execution_count": 66,
     "metadata": {},
     "output_type": "execute_result"
    }
   ],
   "source": [
    "odyssey_opening[match.end():]   # ’of that ingenious hero\n",
    "#  who travelled far and wide after he had sacked\n",
    "#  the famous town of Troy.’\n"
   ]
  },
  {
   "cell_type": "markdown",
   "metadata": {},
   "source": [
    "### Parameterable Regular Expressions"
   ]
  },
  {
   "cell_type": "code",
   "execution_count": 67,
   "metadata": {},
   "outputs": [],
   "source": [
    "string = 'my string'\n",
    "width = 20\n"
   ]
  },
  {
   "cell_type": "code",
   "execution_count": 68,
   "metadata": {},
   "outputs": [],
   "source": [
    "def make_regex(string, width):\n",
    "    return ('.{{0,{width}}}{string}.{{0,{width}}}'\n",
    "            .format(string=string, width=width))\n"
   ]
  },
  {
   "cell_type": "code",
   "execution_count": 69,
   "metadata": {},
   "outputs": [
    {
     "data": {
      "text/plain": [
       "'.{0,20}my string.{0,20}'"
      ]
     },
     "execution_count": 69,
     "metadata": {},
     "output_type": "execute_result"
    }
   ],
   "source": [
    "make_regex(string, width)\n"
   ]
  },
  {
   "cell_type": "code",
   "execution_count": 70,
   "metadata": {},
   "outputs": [],
   "source": [
    "def make_regex(string, width):\n",
    "    string = re.escape(string)\n",
    "    return ('.{{0,{width}}}{string}.{{0,{width}}}'\n",
    "            .format(string=string, width=width))\n"
   ]
  },
  {
   "cell_type": "code",
   "execution_count": 71,
   "metadata": {},
   "outputs": [],
   "source": [
    "string = 'my string.'\n",
    "width = 20\n"
   ]
  },
  {
   "cell_type": "code",
   "execution_count": 72,
   "metadata": {},
   "outputs": [
    {
     "data": {
      "text/plain": [
       "'.{0,20}my\\\\ string\\\\..{0,20}'"
      ]
     },
     "execution_count": 72,
     "metadata": {},
     "output_type": "execute_result"
    }
   ],
   "source": [
    "make_regex(string, width)\n"
   ]
  },
  {
   "cell_type": "code",
   "execution_count": 73,
   "metadata": {},
   "outputs": [
    {
     "data": {
      "text/plain": [
       "' of his\\nmother Penelope, who persist i'"
      ]
     },
     "execution_count": 73,
     "metadata": {},
     "output_type": "execute_result"
    }
   ],
   "source": [
    "pattern = make_regex('Penelope', 15)\n",
    "re.search(pattern, odyssey, re.S).group()\n"
   ]
  },
  {
   "cell_type": "markdown",
   "metadata": {},
   "source": [
    "## Concordances: `.{0,15}Nils Holgersson.{0,15}`"
   ]
  },
  {
   "cell_type": "code",
   "execution_count": 74,
   "metadata": {},
   "outputs": [],
   "source": [
    "pattern = 'Nils Holgersson.'\n",
    "#pattern = 'Penelope'\n",
    "#pattern = 'the Achaeans'\n",
    "width = 25\n",
    "text = odyssey\n",
    "text = selma\n"
   ]
  },
  {
   "cell_type": "code",
   "execution_count": 75,
   "metadata": {},
   "outputs": [
    {
     "data": {
      "text/plain": [
       "'Nils\\\\s+Holgersson.'"
      ]
     },
     "execution_count": 75,
     "metadata": {},
     "output_type": "execute_result"
    }
   ],
   "source": [
    "# spaces match tabs and newlines\n",
    "pattern = re.sub(' ', r'\\\\s+', pattern)\n",
    "pattern\n"
   ]
  },
  {
   "cell_type": "code",
   "execution_count": 76,
   "metadata": {},
   "outputs": [],
   "source": [
    "# Replaces newlines with spaces in the text\n",
    "text = re.sub(r'\\s+', ' ', text)\n"
   ]
  },
  {
   "cell_type": "code",
   "execution_count": 77,
   "metadata": {},
   "outputs": [
    {
     "name": "stdout",
     "output_type": "stream",
     "text": [
      "\n",
      "! Se på Tummetott! Se på Nils Holgersson Tummetott!\" Genast vände \n",
      "r,\" sade han. \"Jag heter Nils Holgersson och är son till en husman\n",
      "lden. \"Inte är det värt, Nils Holgersson, att du är ängslig eller \n",
      " i dem. På den tiden, då Nils Holgersson drog omkring med vildgäss\n",
      "ulle allt visa honom vad Nils Holgersson från Västra Vemmenhög var\n",
      "om ägde rum det året, då Nils Holgersson for omkring med vildgässe\n",
      "m vad det kan kosta dem. Nils Holgersson hade inte haft förstånd p\n",
      "de det inte mer sägas om Nils Holgersson, att han inte tyckte om n\n",
      " Rosenbom?\" För där stod Nils Holgersson mitt uppe på Rosenboms na\n",
      " Med ens fingo de syn på Nils Holgersson, och då sköt den store vi\n",
      "vila. När vildgässen och Nils Holgersson äntligen hade letat sig f\n",
      " slags arbetare. Men vad Nils Holgersson inte så, det var, att sta\n",
      "nde han fråga, och om då Nils Holgersson sade nej, började han gen\n",
      "de lille Mats, och om nu Nils Holgersson också hade tegat, så hade\n",
      "åg så försmädlig ut, att Nils Holgersson kastade sig över honom fö\n",
      " brodern. Och inte ville Nils Holgersson slåss med en tös, utan ha\n",
      "örkar. På den tiden, när Nils Holgersson for omkring med vildgässe\n",
      " ryckte omkull honom. Om Nils Holgersson genast hade ropat på hjäl\n",
      "u reda dig på egen hand, Nils Holgersson,\" sade han då till sig sj\n",
      "r satte Fumle-Drumle ner Nils Holgersson på bottnen av en sandgrop\n",
      "mlingarna. - \"Jo, jag är Nils Holgersson från Västra Vemmenhög, so\n",
      "rakten. På den tiden, då Nils Holgersson for omkring med vildgässe\n",
      "Jo, det står - Det står: Nils Holgersson fr. V. Vemmenhög.\" \"Det v\n",
      "rr Tolv år ungefär innan Nils Holgersson hade börjat sin resa omkr\n",
      "och leta efter föda, men Nils Holgersson hade på morgonen tappat s\n",
      "ill i Närke det året, då Nils Holgersson for fram över landskapet,\n",
      "hade flyttat tassen över Nils Holgerssons ansikte, så att den stac\n",
      " 29 april Denna dag fick Nils Holgersson se södra Dalarna. Vildgäs\n",
      "rliga sjön. Det året, då Nils Holgersson for med vildgässen genom \n",
      "t skänka upptäckten till Nils Holgersson. Det var ju både det trol\n",
      " som sången varade, stod Nils Holgersson och lyssnade till den, me\n",
      "ova på en vassrugge. Vad Nils Holgersson angår, så var han för hun\n",
      "e svårt för en sådan som Nils Holgersson att finna en farkost. Han\n",
      "r de hade kommit mittför Nils Holgersson, slogo de sig ner på ett \n",
      "g 5 maj På dem tiden, då Nils Holgersson drog genom landet med vil\n",
      "an vara bra lycklig. Att Nils Holgersson, som för ett par timmar s\n",
      " afton. Och således hade Nils Holgersson fått se studenterna, när \n",
      "nger under marschen. Men Nils Holgersson hade tyckt, att det inte \n",
      "och glädja så som dessa. Nils Holgersson hade mest sett på student\n",
      "m, stannade han. \"Jag är Nils Holgersson från Västra Vemmenhög,\" s\n",
      " Ett par år före det, då Nils Holgersson drog omkring med vildgäss\n",
      " detsamma fattade han om Nils Holgersson med sin stora fot, höjde \n",
      "t ingen mer än den lilla Nils Holgersson, som följde henne. Solen \n",
      " voro klädda med is, och Nils Holgersson ville följa henne dit in,\n",
      "t Lappland är mitt!\" Men Nils Holgersson hade blivit så ängslig, n\n",
      " över klippväggarna, och Nils Holgersson kunde förstå, att det var\n",
      "s Sjukdomen Det året, då Nils Holgersson for omkring med vildgässe\n",
      "jligt att undgå den. Vad Nils Holgersson beträffar, så hade han ha\n",
      "hade hon slagit klorna i Nils Holgerssons skuldra och hackade efte\n",
      "g, att just det året, då Nils Holgersson for omkring med vildgässe\n",
      " lönt att vara bedrövad, Nils Holgersson,\" sade solen. \"Världen är\n",
      "åga om han inte kunde ge Nils Holgersson bättre villkor. 'Det önsk\n",
      "du vill,' sade han. 'Men Nils Holgersson blir det ändå så, som jag\n",
      "a haft av honom. Ja, säg Nils Holgersson, att föräldrarna redan ha\n",
      "Västergötland. Den lille Nils Holgersson hade krupit upp på en lan\n",
      "a honom sämre. Den lille Nils Holgersson hade följt med barnen hel\n",
      "e bara störa.\" Då tyckte Nils Holgersson, att när ingen annan gjor\n",
      "n färdig att följa det.\" Nils Holgersson sprang raskt neråt vägen \n",
      "rott mellan de unga. Vad Nils Holgersson beträffar, så hade han in\n",
      "on gav sig tid att se på Nils Holgersson, innan hon stötte till. H\n",
      " ändå alldeles olik. Den Nils Holgersson, som hade farit bort i vå\n",
      " tro det. Välkommen hem, Nils Holgersson, välkommen hem! Det här v\n",
      "mig här på gården,\" sade Nils Holgersson. \"Min egen mor tror, att \n",
      "n riktigt sjukdom,\" sade Nils Holgersson. \"Jag får försöka ställa \n",
      "in kniv här på din hov?\" Nils Holgersson var nätt och jämnt färdig\n",
      "sslingen, som var så lik Nils Holgersson, att om det inte var han \n",
      "pojken fanns i närheten. Nils Holgersson hörde honom nog, men han \n",
      "ottrar ihop ett tack för Nils Holgersson? Vad skulle det ha blivit\n"
     ]
    }
   ],
   "source": [
    "for match in re.finditer(pattern, text):\n",
    "    print(text[match.start() - width:match.end() + width])\n"
   ]
  },
  {
   "cell_type": "markdown",
   "metadata": {},
   "source": [
    "### Lookahead"
   ]
  },
  {
   "cell_type": "code",
   "execution_count": 78,
   "metadata": {},
   "outputs": [
    {
     "data": {
      "text/plain": [
       "'Meanwhile great Ajax kept on trying to drive a spear into Hector, but Hector was so skilful that he held his broad shoulders well under cover of his ox-hide shield, ever on the look-out for the whizzing of the arrows and the heavy thud of the spears.'"
      ]
     },
     "execution_count": 78,
     "metadata": {},
     "output_type": "execute_result"
    }
   ],
   "source": [
    "la_text = 'Meanwhile great Ajax kept on trying to drive a spear into Hector, but Hector was so skilful that he held his broad shoulders well under cover of his ox-hide shield, ever on the look-out for the whizzing of the arrows and the heavy thud of the spears.'\n",
    "la_text\n"
   ]
  },
  {
   "cell_type": "code",
   "execution_count": 79,
   "metadata": {},
   "outputs": [],
   "source": [
    "string = 'Hector'\n",
    "width = 20\n"
   ]
  },
  {
   "cell_type": "code",
   "execution_count": 80,
   "metadata": {},
   "outputs": [
    {
     "data": {
      "text/plain": [
       "'.{0,20}Hector.{0,20}'"
      ]
     },
     "execution_count": 80,
     "metadata": {},
     "output_type": "execute_result"
    }
   ],
   "source": [
    "pattern = make_regex(string, width)\n",
    "pattern\n"
   ]
  },
  {
   "cell_type": "code",
   "execution_count": 81,
   "metadata": {},
   "outputs": [
    {
     "name": "stdout",
     "output_type": "stream",
     "text": [
      " drive a spear into Hector, but Hector was so \n"
     ]
    }
   ],
   "source": [
    "for match in re.finditer(pattern, la_text):\n",
    "    print(match.group())\n"
   ]
  },
  {
   "cell_type": "code",
   "execution_count": 82,
   "metadata": {},
   "outputs": [],
   "source": [
    "la_pattern = '.{0,20}Hector(?=(.{0,20}))'\n"
   ]
  },
  {
   "cell_type": "code",
   "execution_count": 83,
   "metadata": {},
   "outputs": [
    {
     "data": {
      "text/plain": [
       "<regex.Match object; span=(38, 64), match=' drive a spear into Hector'>"
      ]
     },
     "execution_count": 83,
     "metadata": {},
     "output_type": "execute_result"
    }
   ],
   "source": [
    "re.search(la_pattern, la_text)"
   ]
  },
  {
   "cell_type": "code",
   "execution_count": 84,
   "metadata": {},
   "outputs": [
    {
     "name": "stdout",
     "output_type": "stream",
     "text": [
      " drive a spear into Hector , but Hector was so \n",
      ", but Hector  was so skilful that\n"
     ]
    }
   ],
   "source": [
    "for match in re.finditer(la_pattern, la_text):\n",
    "    print(match.group(0), match.group(1))\n"
   ]
  },
  {
   "cell_type": "code",
   "execution_count": 85,
   "metadata": {},
   "outputs": [],
   "source": [
    "la_pattern = '(?<=(.{0,20}))Hector(?=(.{0,20}))'\n"
   ]
  },
  {
   "cell_type": "code",
   "execution_count": 86,
   "metadata": {},
   "outputs": [
    {
     "name": "stdout",
     "output_type": "stream",
     "text": [
      " drive a spear into  Hector , but Hector was so \n",
      "ar into Hector, but  Hector  was so skilful that\n"
     ]
    }
   ],
   "source": [
    "for match in re.finditer(la_pattern, la_text):\n",
    "    print(match.group(1), match.group(0), match.group(2))\n"
   ]
  },
  {
   "cell_type": "markdown",
   "metadata": {},
   "source": [
    "## Min-edit"
   ]
  },
  {
   "cell_type": "code",
   "execution_count": 87,
   "metadata": {},
   "outputs": [],
   "source": [
    "[source, target] = ('language', 'lineage')\n"
   ]
  },
  {
   "cell_type": "code",
   "execution_count": 88,
   "metadata": {},
   "outputs": [],
   "source": [
    "length_s = len(source) + 1\n",
    "length_t = len(target) + 1\n",
    "\n",
    "# Initialize first row and column\n",
    "table = [None] * length_s\n",
    "\n",
    "for i in range(length_s):\n",
    "    table[i] = [None] * length_t\n",
    "    table[i][0] = i\n",
    "for j in range(length_t):\n",
    "    table[0][j] = j\n"
   ]
  },
  {
   "cell_type": "code",
   "execution_count": 89,
   "metadata": {},
   "outputs": [
    {
     "data": {
      "text/plain": [
       "[[0, 1, 2, 3, 4, 5, 6, 7],\n",
       " [1, None, None, None, None, None, None, None],\n",
       " [2, None, None, None, None, None, None, None],\n",
       " [3, None, None, None, None, None, None, None],\n",
       " [4, None, None, None, None, None, None, None],\n",
       " [5, None, None, None, None, None, None, None],\n",
       " [6, None, None, None, None, None, None, None],\n",
       " [7, None, None, None, None, None, None, None],\n",
       " [8, None, None, None, None, None, None, None]]"
      ]
     },
     "execution_count": 89,
     "metadata": {},
     "output_type": "execute_result"
    }
   ],
   "source": [
    "table\n"
   ]
  },
  {
   "cell_type": "code",
   "execution_count": 90,
   "metadata": {},
   "outputs": [],
   "source": [
    "# Fills the table. Start index of rows and columns is 1\n",
    "for i in range(1, length_s):\n",
    "    for j in range(1, length_t):\n",
    "        # Is it a copy or a substitution?\n",
    "        cost = 0 if source[i - 1] == target[j - 1] else 2\n",
    "        # Computes the minimum\n",
    "        minimum = table[i - 1][j - 1] + cost\n",
    "        if minimum > table[i][j - 1] + 1:\n",
    "            minimum = table[i][j - 1] + 1\n",
    "        if minimum > table[i - 1][j] + 1:\n",
    "            minimum = table[i - 1][j] + 1\n",
    "        table[i][j] = minimum\n"
   ]
  },
  {
   "cell_type": "code",
   "execution_count": 91,
   "metadata": {},
   "outputs": [
    {
     "data": {
      "text/plain": [
       "[[0, 1, 2, 3, 4, 5, 6, 7],\n",
       " [1, 0, 1, 2, 3, 4, 5, 6],\n",
       " [2, 1, 2, 3, 4, 3, 4, 5],\n",
       " [3, 2, 3, 2, 3, 4, 5, 6],\n",
       " [4, 3, 4, 3, 4, 5, 4, 5],\n",
       " [5, 4, 5, 4, 5, 6, 5, 6],\n",
       " [6, 5, 6, 5, 6, 5, 6, 7],\n",
       " [7, 6, 7, 6, 7, 6, 5, 6],\n",
       " [8, 7, 8, 7, 6, 7, 6, 5]]"
      ]
     },
     "execution_count": 91,
     "metadata": {},
     "output_type": "execute_result"
    }
   ],
   "source": [
    "table\n"
   ]
  },
  {
   "cell_type": "code",
   "execution_count": 92,
   "metadata": {},
   "outputs": [
    {
     "name": "stdout",
     "output_type": "stream",
     "text": [
      "7  6  5  6  5  6  7  6  5  \n",
      "6  5  4  5  4  5  6  5  6  \n",
      "5  4  3  4  5  6  5  6  7  \n",
      "4  3  4  3  4  5  6  7  6  \n",
      "3  2  3  2  3  4  5  6  7  \n",
      "2  1  2  3  4  5  6  7  8  \n",
      "1  0  1  2  3  4  5  6  7  \n",
      "0  1  2  3  4  5  6  7  8  \n"
     ]
    }
   ],
   "source": [
    "for j in range(length_t):\n",
    "    for i in range(length_s):\n",
    "        print(table[i][length_t - j - 1], \" \", end='')\n",
    "    print()\n"
   ]
  },
  {
   "cell_type": "code",
   "execution_count": 93,
   "metadata": {},
   "outputs": [
    {
     "data": {
      "text/plain": [
       "('Minimum distance: ', 5)"
      ]
     },
     "execution_count": 93,
     "metadata": {},
     "output_type": "execute_result"
    }
   ],
   "source": [
    "'Minimum distance: ', table[length_s - 1][length_t - 1]\n"
   ]
  },
  {
   "cell_type": "code",
   "execution_count": null,
   "metadata": {},
   "outputs": [],
   "source": []
  }
 ],
 "metadata": {
  "anaconda-cloud": {},
  "kernelspec": {
   "display_name": "Python 3.9.12 ('base')",
   "language": "python",
   "name": "python3"
  },
  "language_info": {
   "codemirror_mode": {
    "name": "ipython",
    "version": 3
   },
   "file_extension": ".py",
   "mimetype": "text/x-python",
   "name": "python",
   "nbconvert_exporter": "python",
   "pygments_lexer": "ipython3",
   "version": "3.11.7"
  },
  "vscode": {
   "interpreter": {
    "hash": "b97b11a820675205aae8f1d7f2a3f22bbd3a2c30189f44042310baf5b4cd1987"
   }
  }
 },
 "nbformat": 4,
 "nbformat_minor": 4
}
