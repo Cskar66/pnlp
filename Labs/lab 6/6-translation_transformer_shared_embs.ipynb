{
 "cells": [
  {
   "cell_type": "markdown",
   "metadata": {},
   "source": [
    "# Character-level Encoder-Decoder Transformer\n",
    "In this notebook, you will create a machine-translation system that will accept a sentence in a language of your choice and translate it in another language also of your choice.\n",
    "\n",
    "As architecture, you will use the transformer described in _Attention Is All You Need_ (https://arxiv.org/abs/1706.03762). The complete programming from scratch of such an architecture would take more time than that of a lab. That is why the notebook contains all the code. You will merely run separate modules and assemble them. In the end, this will result in a complete encoder-decoder. \n",
    "\n",
    "You will train this encoder-decoder for a translation task and you will observe its performance. To make training possible, you will use characters as input and output instead of words or subwords.\n",
    "\n",
    "The power of the student's computers vary greatly. In consequence, depending on your machine, reduce the size of the dataset and simplify the architecture (use less stacks, less heads) as much as you need to be able to run the program quickly. After the lab, should you wish it, feel free to improve the program and build a more realistic translation system.\n",
    "\n",
    "Finally, please do not run the cells blindly. The objective of the lab is that you understand the transformer by executing it step-by-step. The instructors will ask you to explain a few cells.\n",
    "\n",
    "Acknowledgments: As starting point to write the notebook, we used a tutorial from PyTorch available at: https://pytorch.org/tutorials/beginner/translation_transformer.html?highlight=translation\n",
    "\n",
    "We modified it to remove the torchtext dependencies and use a character input.\n",
    "\n",
    "__Pierre Nugues__ and __Marcus Klang__\n",
    "\n",
    "History: \n",
    "- V1, Pierre, creation from PyTorch tutorial\n",
    "- V2, Marcus, answering questions and improvements notably dataloader\n",
    "- V3, Pierre, separate train and val, cleaning\n",
    "- V4, Pierre, shared embeddings"
   ]
  },
  {
   "cell_type": "markdown",
   "metadata": {},
   "source": [
    "## Upgrading the Program\n",
    "Should you prefer to run a more elaborate version of the translator with subwords instead of characters, please replace this notebook with `Translator_2_EDAN70_corr.ipynb` available from https://github.com/pernillaastrom/edan70/tree/main. It is the result of a student project. Note that the execution is slightly more complex and may take more time.\n",
    "\n",
    "When showing your results, just tell the assistant which program you run: Either this standard version or the upgraded one."
   ]
  },
  {
   "cell_type": "markdown",
   "metadata": {},
   "source": [
    "## Introduction\n",
    "This program shows how to implement a basic character-level translation model with a transformer. You will translate the sentences from English to French or another language character by character. Note that a more elaborate model would use words or subwords.\n",
    "\n",
    "### Summary of the algorithm\n",
    "- We start with input sequences from a language (e.g. English sentences)\n",
    "    and corresponding target sequences from another language\n",
    "    (e.g. French sentences).\n",
    "- A transformer encoder encodes the source sentence. The result is called `memory` in the program;\n",
    "- A transformer decoder uses the encoded source sentence and an auto-regressive process to generate the target sequence.\n",
    "- The loss is the cross-entropy ebtween the decoded characters and the target ones\n",
    "- In inference mode, when we decode unknown input sequences using these steps:\n",
    "    - Encode the input sequence (`memory`)\n",
    "    - Feed the decoder with the encoded sequence \n",
    "    - Start with a target sequence of size 1\n",
    "        (just the start-of-sequence character)\n",
    "    - Sample the next character using these predictions\n",
    "        (we simply use argmax, the second output of `torch.max()`).\n",
    "    - Append the sampled character to the target sequence\n",
    "    - Repeat until we generate the end-of-sequence character or we\n",
    "        hit the character limit."
   ]
  },
  {
   "cell_type": "markdown",
   "metadata": {},
   "source": [
    "## Download the data"
   ]
  },
  {
   "cell_type": "markdown",
   "metadata": {},
   "source": [
    "Have a look at the http://www.manythings.org/anki/ site and select a corpus with at least 10,000 pairs. You should understand the target language well. Ideally, it should be your mother tongue.\n",
    "Then uncomment and run the lines below."
   ]
  },
  {
   "cell_type": "code",
   "execution_count": 1,
   "metadata": {},
   "outputs": [],
   "source": [
    "#!curl -O http://www.manythings.org/anki/fra-eng.zip\n",
    "#!unzip fra-eng.zip"
   ]
  },
  {
   "cell_type": "markdown",
   "metadata": {},
   "source": [
    "## Imports"
   ]
  },
  {
   "cell_type": "code",
   "execution_count": 2,
   "metadata": {},
   "outputs": [],
   "source": [
    "from torch import Tensor\n",
    "import torch\n",
    "import torch.nn as nn\n",
    "from torch.nn import Transformer\n",
    "from torch.utils.data import dataset\n",
    "from torch.nn.utils.rnn import pad_sequence\n",
    "\n",
    "import random\n",
    "import numpy as np\n",
    "import math\n",
    "\n",
    "import matplotlib.pyplot as plt\n",
    "from tqdm import tqdm"
   ]
  },
  {
   "cell_type": "code",
   "execution_count": 3,
   "metadata": {},
   "outputs": [
    {
     "data": {
      "text/plain": [
       "<torch._C.Generator at 0x7f2f4f0c2990>"
      ]
     },
     "execution_count": 3,
     "metadata": {},
     "output_type": "execute_result"
    }
   ],
   "source": [
    "random.seed(1234)\n",
    "np.random.seed(1234)\n",
    "torch.manual_seed(1234)"
   ]
  },
  {
   "cell_type": "markdown",
   "metadata": {},
   "source": [
    "## Architecture\n",
    "We select the computing architecture"
   ]
  },
  {
   "cell_type": "code",
   "execution_count": 4,
   "metadata": {},
   "outputs": [
    {
     "data": {
      "text/plain": [
       "device(type='cuda')"
      ]
     },
     "execution_count": 4,
     "metadata": {},
     "output_type": "execute_result"
    }
   ],
   "source": [
    "if torch.cuda.is_available():\n",
    "    device = 'cuda'\n",
    "# elif torch.backends.mps.is_available():\n",
    "#    device = 'mps'\n",
    "else:\n",
    "    device = 'cpu'\n",
    "DEVICE = torch.device(device)\n",
    "DEVICE"
   ]
  },
  {
   "cell_type": "markdown",
   "metadata": {},
   "source": [
    "## Dataset"
   ]
  },
  {
   "cell_type": "markdown",
   "metadata": {},
   "source": [
    "### Creating the pairs"
   ]
  },
  {
   "cell_type": "code",
   "execution_count": 5,
   "metadata": {},
   "outputs": [],
   "source": [
    "data_path = 'swe-eng/swe.txt'"
   ]
  },
  {
   "cell_type": "code",
   "execution_count": 6,
   "metadata": {},
   "outputs": [],
   "source": [
    "with open(data_path, \"r\", encoding=\"utf-8\") as f:\n",
    "    lines = f.read().split(\"\\n\")"
   ]
  },
  {
   "cell_type": "code",
   "execution_count": 7,
   "metadata": {},
   "outputs": [
    {
     "data": {
      "text/plain": [
       "25526"
      ]
     },
     "execution_count": 7,
     "metadata": {},
     "output_type": "execute_result"
    }
   ],
   "source": [
    "len(lines)"
   ]
  },
  {
   "cell_type": "code",
   "execution_count": 8,
   "metadata": {},
   "outputs": [],
   "source": [
    "num_samples = 25000  # Number of samples to train on."
   ]
  },
  {
   "cell_type": "code",
   "execution_count": 9,
   "metadata": {},
   "outputs": [],
   "source": [
    "input_texts = []\n",
    "target_texts = []"
   ]
  },
  {
   "cell_type": "code",
   "execution_count": 10,
   "metadata": {},
   "outputs": [],
   "source": [
    "for line in lines[: min(num_samples, len(lines) - 1)]:\n",
    "    input_text, target_text, _ = line.split(\"\\t\")\n",
    "    input_texts.append(input_text)\n",
    "    target_texts.append(target_text)"
   ]
  },
  {
   "cell_type": "code",
   "execution_count": 11,
   "metadata": {},
   "outputs": [
    {
     "data": {
      "text/plain": [
       "\"I'm honest.\""
      ]
     },
     "execution_count": 11,
     "metadata": {},
     "output_type": "execute_result"
    }
   ],
   "source": [
    "input_texts[500]"
   ]
  },
  {
   "cell_type": "code",
   "execution_count": 12,
   "metadata": {},
   "outputs": [
    {
     "data": {
      "text/plain": [
       "'Jag är ärlig.'"
      ]
     },
     "execution_count": 12,
     "metadata": {},
     "output_type": "execute_result"
    }
   ],
   "source": [
    "target_texts[500]"
   ]
  },
  {
   "cell_type": "markdown",
   "metadata": {},
   "source": [
    "### Train/Validation"
   ]
  },
  {
   "cell_type": "markdown",
   "metadata": {},
   "source": [
    "Percentage train/validation"
   ]
  },
  {
   "cell_type": "code",
   "execution_count": 13,
   "metadata": {},
   "outputs": [
    {
     "data": {
      "text/plain": [
       "20000"
      ]
     },
     "execution_count": 13,
     "metadata": {},
     "output_type": "execute_result"
    }
   ],
   "source": [
    "TRAIN_PERCENTAGE = 0.8\n",
    "train_val = int(TRAIN_PERCENTAGE * num_samples)\n",
    "train_val"
   ]
  },
  {
   "cell_type": "markdown",
   "metadata": {},
   "source": [
    "We shuffle the lists"
   ]
  },
  {
   "cell_type": "code",
   "execution_count": 14,
   "metadata": {},
   "outputs": [],
   "source": [
    "text_pairs = list(zip(input_texts, target_texts))\n",
    "random.shuffle(text_pairs)\n",
    "input_texts, target_texts = zip(*text_pairs)\n",
    "input_texts, target_texts = list(input_texts), list(target_texts)"
   ]
  },
  {
   "cell_type": "code",
   "execution_count": 15,
   "metadata": {},
   "outputs": [
    {
     "data": {
      "text/plain": [
       "5000"
      ]
     },
     "execution_count": 15,
     "metadata": {},
     "output_type": "execute_result"
    }
   ],
   "source": [
    "train_input_texts = input_texts[:train_val]\n",
    "train_target_texts = target_texts[:train_val]\n",
    "\n",
    "val_input_texts = input_texts[train_val:]\n",
    "val_target_texts = target_texts[train_val:]\n",
    "len(val_input_texts)"
   ]
  },
  {
   "cell_type": "markdown",
   "metadata": {},
   "source": [
    "### Characters"
   ]
  },
  {
   "cell_type": "code",
   "execution_count": 16,
   "metadata": {},
   "outputs": [],
   "source": [
    "input_characters = set(''.join(train_input_texts))\n",
    "target_characters = set(''.join(train_target_texts))"
   ]
  },
  {
   "cell_type": "markdown",
   "metadata": {},
   "source": [
    "### Special symbols"
   ]
  },
  {
   "cell_type": "code",
   "execution_count": 17,
   "metadata": {},
   "outputs": [],
   "source": [
    "# Define special symbols and indices\n",
    "UNK_IDX, PAD_IDX, BOS_IDX, EOS_IDX = 0, 1, 2, 3\n",
    "# Make sure the tokens are in order of their indices to properly insert them in vocab\n",
    "special_symbols = ['<unk>', '<pad>', '<bos>', '<eos>']"
   ]
  },
  {
   "cell_type": "code",
   "execution_count": 18,
   "metadata": {},
   "outputs": [
    {
     "data": {
      "text/plain": [
       "{'<unk>': 0, '<pad>': 1, '<bos>': 2, '<eos>': 3}"
      ]
     },
     "execution_count": 18,
     "metadata": {},
     "output_type": "execute_result"
    }
   ],
   "source": [
    "special_symbols_dict = dict(\n",
    "    zip(special_symbols, [UNK_IDX, PAD_IDX, BOS_IDX, EOS_IDX]))\n",
    "special_symbols_dict"
   ]
  },
  {
   "cell_type": "markdown",
   "metadata": {},
   "source": [
    "### The input and output symbols\n",
    "The language pair shares the same vocabulary as in _Attention Is All You Need_"
   ]
  },
  {
   "cell_type": "code",
   "execution_count": 19,
   "metadata": {},
   "outputs": [
    {
     "data": {
      "text/plain": [
       "[' ',\n",
       " '!',\n",
       " '\"',\n",
       " '%',\n",
       " \"'\",\n",
       " ',',\n",
       " '-',\n",
       " '.',\n",
       " '/',\n",
       " '0',\n",
       " '1',\n",
       " '2',\n",
       " '3',\n",
       " '4',\n",
       " '5',\n",
       " '6',\n",
       " '7',\n",
       " '8',\n",
       " '9',\n",
       " ':',\n",
       " '?',\n",
       " 'A',\n",
       " 'B',\n",
       " 'C',\n",
       " 'D',\n",
       " 'E',\n",
       " 'F',\n",
       " 'G',\n",
       " 'H',\n",
       " 'I',\n",
       " 'J',\n",
       " 'K',\n",
       " 'L',\n",
       " 'M',\n",
       " 'N',\n",
       " 'O',\n",
       " 'P',\n",
       " 'Q',\n",
       " 'R',\n",
       " 'S',\n",
       " 'T',\n",
       " 'U',\n",
       " 'V',\n",
       " 'W',\n",
       " 'Y',\n",
       " 'Z',\n",
       " 'a',\n",
       " 'b',\n",
       " 'c',\n",
       " 'd',\n",
       " 'e',\n",
       " 'f',\n",
       " 'g',\n",
       " 'h',\n",
       " 'i',\n",
       " 'j',\n",
       " 'k',\n",
       " 'l',\n",
       " 'm',\n",
       " 'n',\n",
       " 'o',\n",
       " 'p',\n",
       " 'q',\n",
       " 'r',\n",
       " 's',\n",
       " 't',\n",
       " 'u',\n",
       " 'v',\n",
       " 'w',\n",
       " 'x',\n",
       " 'y',\n",
       " 'z',\n",
       " '\\xa0',\n",
       " 'Ä',\n",
       " 'Å',\n",
       " 'Ö',\n",
       " 'à',\n",
       " 'ä',\n",
       " 'å',\n",
       " 'é',\n",
       " 'ö',\n",
       " 'ü',\n",
       " '’',\n",
       " '”',\n",
       " '€']"
      ]
     },
     "execution_count": 19,
     "metadata": {},
     "output_type": "execute_result"
    }
   ],
   "source": [
    "characters = sorted(list(set.union(input_characters, target_characters)))\n",
    "characters"
   ]
  },
  {
   "cell_type": "markdown",
   "metadata": {},
   "source": [
    "### The indices"
   ]
  },
  {
   "cell_type": "code",
   "execution_count": 20,
   "metadata": {},
   "outputs": [
    {
     "data": {
      "text/plain": [
       "{' ': 4,\n",
       " '!': 5,\n",
       " '\"': 6,\n",
       " '%': 7,\n",
       " \"'\": 8,\n",
       " ',': 9,\n",
       " '-': 10,\n",
       " '.': 11,\n",
       " '/': 12,\n",
       " '0': 13,\n",
       " '1': 14,\n",
       " '2': 15,\n",
       " '3': 16,\n",
       " '4': 17,\n",
       " '5': 18,\n",
       " '6': 19,\n",
       " '7': 20,\n",
       " '8': 21,\n",
       " '9': 22,\n",
       " ':': 23,\n",
       " '?': 24,\n",
       " 'A': 25,\n",
       " 'B': 26,\n",
       " 'C': 27,\n",
       " 'D': 28,\n",
       " 'E': 29,\n",
       " 'F': 30,\n",
       " 'G': 31,\n",
       " 'H': 32,\n",
       " 'I': 33,\n",
       " 'J': 34,\n",
       " 'K': 35,\n",
       " 'L': 36,\n",
       " 'M': 37,\n",
       " 'N': 38,\n",
       " 'O': 39,\n",
       " 'P': 40,\n",
       " 'Q': 41,\n",
       " 'R': 42,\n",
       " 'S': 43,\n",
       " 'T': 44,\n",
       " 'U': 45,\n",
       " 'V': 46,\n",
       " 'W': 47,\n",
       " 'Y': 48,\n",
       " 'Z': 49,\n",
       " 'a': 50,\n",
       " 'b': 51,\n",
       " 'c': 52,\n",
       " 'd': 53,\n",
       " 'e': 54,\n",
       " 'f': 55,\n",
       " 'g': 56,\n",
       " 'h': 57,\n",
       " 'i': 58,\n",
       " 'j': 59,\n",
       " 'k': 60,\n",
       " 'l': 61,\n",
       " 'm': 62,\n",
       " 'n': 63,\n",
       " 'o': 64,\n",
       " 'p': 65,\n",
       " 'q': 66,\n",
       " 'r': 67,\n",
       " 's': 68,\n",
       " 't': 69,\n",
       " 'u': 70,\n",
       " 'v': 71,\n",
       " 'w': 72,\n",
       " 'x': 73,\n",
       " 'y': 74,\n",
       " 'z': 75,\n",
       " '\\xa0': 76,\n",
       " 'Ä': 77,\n",
       " 'Å': 78,\n",
       " 'Ö': 79,\n",
       " 'à': 80,\n",
       " 'ä': 81,\n",
       " 'å': 82,\n",
       " 'é': 83,\n",
       " 'ö': 84,\n",
       " 'ü': 85,\n",
       " '’': 86,\n",
       " '”': 87,\n",
       " '€': 88}"
      ]
     },
     "execution_count": 20,
     "metadata": {},
     "output_type": "execute_result"
    }
   ],
   "source": [
    "token2idx = {char: i for i, char in enumerate(characters, start=4)}\n",
    "token2idx"
   ]
  },
  {
   "cell_type": "code",
   "execution_count": 21,
   "metadata": {},
   "outputs": [
    {
     "data": {
      "text/plain": [
       "{' ': 4,\n",
       " '!': 5,\n",
       " '\"': 6,\n",
       " '%': 7,\n",
       " \"'\": 8,\n",
       " ',': 9,\n",
       " '-': 10,\n",
       " '.': 11,\n",
       " '/': 12,\n",
       " '0': 13,\n",
       " '1': 14,\n",
       " '2': 15,\n",
       " '3': 16,\n",
       " '4': 17,\n",
       " '5': 18,\n",
       " '6': 19,\n",
       " '7': 20,\n",
       " '8': 21,\n",
       " '9': 22,\n",
       " ':': 23,\n",
       " '?': 24,\n",
       " 'A': 25,\n",
       " 'B': 26,\n",
       " 'C': 27,\n",
       " 'D': 28,\n",
       " 'E': 29,\n",
       " 'F': 30,\n",
       " 'G': 31,\n",
       " 'H': 32,\n",
       " 'I': 33,\n",
       " 'J': 34,\n",
       " 'K': 35,\n",
       " 'L': 36,\n",
       " 'M': 37,\n",
       " 'N': 38,\n",
       " 'O': 39,\n",
       " 'P': 40,\n",
       " 'Q': 41,\n",
       " 'R': 42,\n",
       " 'S': 43,\n",
       " 'T': 44,\n",
       " 'U': 45,\n",
       " 'V': 46,\n",
       " 'W': 47,\n",
       " 'Y': 48,\n",
       " 'Z': 49,\n",
       " 'a': 50,\n",
       " 'b': 51,\n",
       " 'c': 52,\n",
       " 'd': 53,\n",
       " 'e': 54,\n",
       " 'f': 55,\n",
       " 'g': 56,\n",
       " 'h': 57,\n",
       " 'i': 58,\n",
       " 'j': 59,\n",
       " 'k': 60,\n",
       " 'l': 61,\n",
       " 'm': 62,\n",
       " 'n': 63,\n",
       " 'o': 64,\n",
       " 'p': 65,\n",
       " 'q': 66,\n",
       " 'r': 67,\n",
       " 's': 68,\n",
       " 't': 69,\n",
       " 'u': 70,\n",
       " 'v': 71,\n",
       " 'w': 72,\n",
       " 'x': 73,\n",
       " 'y': 74,\n",
       " 'z': 75,\n",
       " '\\xa0': 76,\n",
       " 'Ä': 77,\n",
       " 'Å': 78,\n",
       " 'Ö': 79,\n",
       " 'à': 80,\n",
       " 'ä': 81,\n",
       " 'å': 82,\n",
       " 'é': 83,\n",
       " 'ö': 84,\n",
       " 'ü': 85,\n",
       " '’': 86,\n",
       " '”': 87,\n",
       " '€': 88,\n",
       " '<unk>': 0,\n",
       " '<pad>': 1,\n",
       " '<bos>': 2,\n",
       " '<eos>': 3}"
      ]
     },
     "execution_count": 21,
     "metadata": {},
     "output_type": "execute_result"
    }
   ],
   "source": [
    "token2idx.update(special_symbols_dict)\n",
    "token2idx"
   ]
  },
  {
   "cell_type": "code",
   "execution_count": 22,
   "metadata": {},
   "outputs": [
    {
     "data": {
      "text/plain": [
       "89"
      ]
     },
     "execution_count": 22,
     "metadata": {},
     "output_type": "execute_result"
    }
   ],
   "source": [
    "len(token2idx)"
   ]
  },
  {
   "cell_type": "code",
   "execution_count": 23,
   "metadata": {},
   "outputs": [],
   "source": [
    "idx2token = {v: k for k, v in token2idx.items()}"
   ]
  },
  {
   "cell_type": "markdown",
   "metadata": {},
   "source": [
    "### Text Encoding"
   ]
  },
  {
   "cell_type": "code",
   "execution_count": 24,
   "metadata": {},
   "outputs": [],
   "source": [
    "def text2codes(texts, token2idx):\n",
    "    codes = []\n",
    "    for text in texts:\n",
    "        text_l = ['<bos>'] + list(text) + ['<eos>']\n",
    "        # <unk> -> 0\n",
    "        codes += torch.tensor([list(map(lambda x: token2idx.get(x, 0), text_l))])\n",
    "    return codes"
   ]
  },
  {
   "cell_type": "code",
   "execution_count": 25,
   "metadata": {},
   "outputs": [
    {
     "data": {
      "text/plain": [
       "(['What is that smell?',\n",
       "  \"I don't get much mail.\",\n",
       "  'I left the key on the table.'],\n",
       " ['Vad är det som luktar?',\n",
       "  'Jag får inte så mycket post.',\n",
       "  'Jag lämnade nyckeln på bordet.'])"
      ]
     },
     "execution_count": 25,
     "metadata": {},
     "output_type": "execute_result"
    }
   ],
   "source": [
    "train_input_texts[:3], train_target_texts[:3]"
   ]
  },
  {
   "cell_type": "code",
   "execution_count": 26,
   "metadata": {},
   "outputs": [
    {
     "data": {
      "text/plain": [
       "[tensor([ 2, 47, 57, 50, 69,  4, 58, 68,  4, 69, 57, 50, 69,  4, 68, 62, 54, 61,\n",
       "         61, 24,  3]),\n",
       " tensor([ 2, 33,  4, 53, 64, 63,  8, 69,  4, 56, 54, 69,  4, 62, 70, 52, 57,  4,\n",
       "         62, 50, 58, 61, 11,  3]),\n",
       " tensor([ 2, 33,  4, 61, 54, 55, 69,  4, 69, 57, 54,  4, 60, 54, 74,  4, 64, 63,\n",
       "          4, 69, 57, 54,  4, 69, 50, 51, 61, 54, 11,  3])]"
      ]
     },
     "execution_count": 26,
     "metadata": {},
     "output_type": "execute_result"
    }
   ],
   "source": [
    "text2codes(train_input_texts, token2idx)[:3]"
   ]
  },
  {
   "cell_type": "code",
   "execution_count": 27,
   "metadata": {},
   "outputs": [
    {
     "data": {
      "text/plain": [
       "[tensor([ 2, 46, 50, 53,  4, 81, 67,  4, 53, 54, 69,  4, 68, 64, 62,  4, 61, 70,\n",
       "         60, 69, 50, 67, 24,  3]),\n",
       " tensor([ 2, 34, 50, 56,  4, 55, 82, 67,  4, 58, 63, 69, 54,  4, 68, 82,  4, 62,\n",
       "         74, 52, 60, 54, 69,  4, 65, 64, 68, 69, 11,  3]),\n",
       " tensor([ 2, 34, 50, 56,  4, 61, 81, 62, 63, 50, 53, 54,  4, 63, 74, 52, 60, 54,\n",
       "         61, 63,  4, 65, 82,  4, 51, 64, 67, 53, 54, 69, 11,  3])]"
      ]
     },
     "execution_count": 27,
     "metadata": {},
     "output_type": "execute_result"
    }
   ],
   "source": [
    "text2codes(train_target_texts, token2idx)[:3]"
   ]
  },
  {
   "cell_type": "code",
   "execution_count": 28,
   "metadata": {},
   "outputs": [],
   "source": [
    "def codes2text(codes, idx2token):\n",
    "    texts = []\n",
    "    for code in codes:\n",
    "        code_l = list(code)\n",
    "        texts += [list(map(lambda x: idx2token.get(x.item(), 0), code_l))]\n",
    "    return texts"
   ]
  },
  {
   "cell_type": "code",
   "execution_count": 29,
   "metadata": {},
   "outputs": [
    {
     "data": {
      "text/plain": [
       "[['<bos>',\n",
       "  'W',\n",
       "  'h',\n",
       "  'a',\n",
       "  't',\n",
       "  ' ',\n",
       "  'i',\n",
       "  's',\n",
       "  ' ',\n",
       "  't',\n",
       "  'h',\n",
       "  'a',\n",
       "  't',\n",
       "  ' ',\n",
       "  's',\n",
       "  'm',\n",
       "  'e',\n",
       "  'l',\n",
       "  'l',\n",
       "  '?',\n",
       "  '<eos>'],\n",
       " ['<bos>',\n",
       "  'I',\n",
       "  ' ',\n",
       "  'd',\n",
       "  'o',\n",
       "  'n',\n",
       "  \"'\",\n",
       "  't',\n",
       "  ' ',\n",
       "  'g',\n",
       "  'e',\n",
       "  't',\n",
       "  ' ',\n",
       "  'm',\n",
       "  'u',\n",
       "  'c',\n",
       "  'h',\n",
       "  ' ',\n",
       "  'm',\n",
       "  'a',\n",
       "  'i',\n",
       "  'l',\n",
       "  '.',\n",
       "  '<eos>'],\n",
       " ['<bos>',\n",
       "  'I',\n",
       "  ' ',\n",
       "  'l',\n",
       "  'e',\n",
       "  'f',\n",
       "  't',\n",
       "  ' ',\n",
       "  't',\n",
       "  'h',\n",
       "  'e',\n",
       "  ' ',\n",
       "  'k',\n",
       "  'e',\n",
       "  'y',\n",
       "  ' ',\n",
       "  'o',\n",
       "  'n',\n",
       "  ' ',\n",
       "  't',\n",
       "  'h',\n",
       "  'e',\n",
       "  ' ',\n",
       "  't',\n",
       "  'a',\n",
       "  'b',\n",
       "  'l',\n",
       "  'e',\n",
       "  '.',\n",
       "  '<eos>']]"
      ]
     },
     "execution_count": 29,
     "metadata": {},
     "output_type": "execute_result"
    }
   ],
   "source": [
    "codes2text(text2codes(train_input_texts, token2idx)[:3], idx2token)"
   ]
  },
  {
   "cell_type": "markdown",
   "metadata": {},
   "source": [
    "## Model"
   ]
  },
  {
   "cell_type": "markdown",
   "metadata": {},
   "source": [
    "### Positional Embeddings\n",
    "\n",
    "Same as https://pytorch.org/tutorials/beginner/translation_transformer.html?highlight=translation"
   ]
  },
  {
   "cell_type": "markdown",
   "metadata": {},
   "source": [
    "Note that `register_buffer` is a way to exclude `pos_embeddings` from being a parameter and stored as state, essentially a way to register a computed constant. It will not be modified by the training procedure."
   ]
  },
  {
   "cell_type": "code",
   "execution_count": 30,
   "metadata": {},
   "outputs": [],
   "source": [
    "# helper Module that adds positional encoding to the token embedding to introduce a notion of word order.\n",
    "class PositionalEncoding(nn.Module):\n",
    "    def __init__(self,\n",
    "                 emb_size: int,\n",
    "                 dropout: float,\n",
    "                 maxlen: int = 5000):\n",
    "        super().__init__()\n",
    "        den = torch.exp(- torch.arange(0, emb_size, 2)\n",
    "                        * math.log(10000) / emb_size)\n",
    "        pos = torch.arange(0, maxlen).reshape(maxlen, 1)\n",
    "        pos_embedding = torch.zeros((maxlen, emb_size))\n",
    "        pos_embedding[:, 0::2] = torch.sin(pos * den)\n",
    "        pos_embedding[:, 1::2] = torch.cos(pos * den)\n",
    "        pos_embedding = pos_embedding.unsqueeze(-2)\n",
    "\n",
    "        self.dropout = nn.Dropout(dropout)\n",
    "        self.register_buffer('pos_embedding', pos_embedding)\n",
    "        self.emb_size = emb_size\n",
    "\n",
    "    def forward(self, token_embedding: Tensor):\n",
    "        return self.dropout(token_embedding * math.sqrt(self.emb_size)\n",
    "                            + self.pos_embedding[:token_embedding.size(0), :])"
   ]
  },
  {
   "cell_type": "code",
   "execution_count": 31,
   "metadata": {},
   "outputs": [],
   "source": [
    "pe = PositionalEncoding(10, 0.1)"
   ]
  },
  {
   "cell_type": "code",
   "execution_count": 32,
   "metadata": {},
   "outputs": [
    {
     "data": {
      "text/plain": [
       "tensor([[[0., 0., 0., 0., 0., 0., 0., 0., 0., 0.],\n",
       "         [0., 0., 0., 0., 0., 0., 0., 0., 0., 0.],\n",
       "         [0., 0., 0., 0., 0., 0., 0., 0., 0., 0.],\n",
       "         [0., 0., 0., 0., 0., 0., 0., 0., 0., 0.],\n",
       "         [0., 0., 0., 0., 0., 0., 0., 0., 0., 0.]]])"
      ]
     },
     "execution_count": 32,
     "metadata": {},
     "output_type": "execute_result"
    }
   ],
   "source": [
    "torch.zeros(1, 5, 10)"
   ]
  },
  {
   "cell_type": "code",
   "execution_count": 33,
   "metadata": {},
   "outputs": [
    {
     "data": {
      "text/plain": [
       "tensor([[[0.0000, 1.1111, 0.0000, 1.1111, 0.0000, 1.1111, 0.0000, 1.1111,\n",
       "          0.0000, 1.1111],\n",
       "         [0.0000, 0.0000, 0.0000, 1.1111, 0.0000, 1.1111, 0.0000, 1.1111,\n",
       "          0.0000, 0.0000],\n",
       "         [0.0000, 1.1111, 0.0000, 1.1111, 0.0000, 1.1111, 0.0000, 1.1111,\n",
       "          0.0000, 1.1111],\n",
       "         [0.0000, 1.1111, 0.0000, 1.1111, 0.0000, 1.1111, 0.0000, 1.1111,\n",
       "          0.0000, 1.1111],\n",
       "         [0.0000, 1.1111, 0.0000, 1.1111, 0.0000, 1.1111, 0.0000, 1.1111,\n",
       "          0.0000, 1.1111]]])"
      ]
     },
     "execution_count": 33,
     "metadata": {},
     "output_type": "execute_result"
    }
   ],
   "source": [
    "pe(torch.zeros(1, 5, 10))"
   ]
  },
  {
   "cell_type": "markdown",
   "metadata": {},
   "source": [
    "### Transformer\n",
    "\n",
    "Shared embeddings compared to https://pytorch.org/tutorials/beginner/translation_transformer.html?highlight=translation\n"
   ]
  },
  {
   "cell_type": "markdown",
   "metadata": {},
   "source": [
    "Note that:   \n",
    "- `transformer.encoder(...)` is equivalent to a call of TransformerEncoder(...), i.e https://pytorch.org/docs/stable/generated/torch.nn.TransformerEncoder.html    \n",
    "- `transformer.decoder(...)` is equivalent to a call of TransformerDecoder(...), i.e https://pytorch.org/docs/stable/generated/torch.nn.TransformerDecoder.html   \n",
    "- These are created internally by the transformer layer:\n",
    "https://pytorch.org/docs/stable/_modules/torch/nn/modules/transformer.html#Transformer  "
   ]
  },
  {
   "cell_type": "code",
   "execution_count": 34,
   "metadata": {},
   "outputs": [],
   "source": [
    "# Seq2Seq Network\n",
    "class Seq2SeqTransformer(nn.Module):\n",
    "    def __init__(self,\n",
    "                 num_encoder_layers: int,\n",
    "                 num_decoder_layers: int,\n",
    "                 emb_size: int,\n",
    "                 nhead: int,\n",
    "                 vocab_size: int,\n",
    "                 dim_feedforward: int = 512,\n",
    "                 dropout: float = 0.1):\n",
    "        super().__init__()\n",
    "        self.transformer = Transformer(d_model=emb_size,\n",
    "                                       nhead=nhead,\n",
    "                                       num_encoder_layers=num_encoder_layers,\n",
    "                                       num_decoder_layers=num_decoder_layers,\n",
    "                                       dim_feedforward=dim_feedforward,\n",
    "                                       dropout=dropout)\n",
    "\n",
    "        self.emb_size = emb_size\n",
    "        # Same source and target embs Sect. 3.4\n",
    "        self.embedding = nn.Embedding(\n",
    "            vocab_size, emb_size, padding_idx=PAD_IDX)\n",
    "        self.positional_encoding = PositionalEncoding(\n",
    "            emb_size, dropout=dropout)\n",
    "        # Bias to be compatible with embeddings\n",
    "        self.generator = nn.Linear(emb_size, vocab_size, bias=False)\n",
    "        self.generator.weight = self.embedding.weight  # Shared weights Sect. 3.4\n",
    "\n",
    "    def forward(self,\n",
    "                src: Tensor,\n",
    "                trg: Tensor,\n",
    "                src_mask: Tensor,\n",
    "                tgt_mask: Tensor,\n",
    "                src_padding_mask: Tensor,\n",
    "                tgt_padding_mask: Tensor,\n",
    "                memory_key_padding_mask: Tensor):\n",
    "        src_emb = self.positional_encoding(self.embedding(src))\n",
    "        tgt_emb = self.positional_encoding(self.embedding(trg))\n",
    "        outs = self.transformer(src_emb, tgt_emb, src_mask, tgt_mask, None,\n",
    "                                src_padding_mask, tgt_padding_mask, memory_key_padding_mask)\n",
    "        return self.generator(outs)\n",
    "\n",
    "    def encode(self, src: Tensor, src_mask: Tensor):\n",
    "        return self.transformer.encoder(self.positional_encoding(\n",
    "            self.embedding(src)), src_mask)\n",
    "\n",
    "    def decode(self, tgt: Tensor, memory: Tensor, tgt_mask: Tensor):\n",
    "        return self.transformer.decoder(self.positional_encoding(\n",
    "            self.embedding(tgt)), memory,\n",
    "            tgt_mask)"
   ]
  },
  {
   "cell_type": "code",
   "execution_count": 35,
   "metadata": {},
   "outputs": [],
   "source": [
    "def generate_square_subsequent_mask(sz):\n",
    "    mask = (torch.triu(torch.ones((sz, sz), device=DEVICE)) == 1).transpose(0, 1)\n",
    "    mask = mask.float().masked_fill(mask == 0, float(\n",
    "        '-inf')).masked_fill(mask == 1, float(0.0))\n",
    "    return mask"
   ]
  },
  {
   "cell_type": "code",
   "execution_count": 36,
   "metadata": {},
   "outputs": [
    {
     "data": {
      "text/plain": [
       "tensor([[0., -inf, -inf, -inf, -inf, -inf, -inf, -inf, -inf, -inf],\n",
       "        [0., 0., -inf, -inf, -inf, -inf, -inf, -inf, -inf, -inf],\n",
       "        [0., 0., 0., -inf, -inf, -inf, -inf, -inf, -inf, -inf],\n",
       "        [0., 0., 0., 0., -inf, -inf, -inf, -inf, -inf, -inf],\n",
       "        [0., 0., 0., 0., 0., -inf, -inf, -inf, -inf, -inf],\n",
       "        [0., 0., 0., 0., 0., 0., -inf, -inf, -inf, -inf],\n",
       "        [0., 0., 0., 0., 0., 0., 0., -inf, -inf, -inf],\n",
       "        [0., 0., 0., 0., 0., 0., 0., 0., -inf, -inf],\n",
       "        [0., 0., 0., 0., 0., 0., 0., 0., 0., -inf],\n",
       "        [0., 0., 0., 0., 0., 0., 0., 0., 0., 0.]], device='cuda:0')"
      ]
     },
     "execution_count": 36,
     "metadata": {},
     "output_type": "execute_result"
    }
   ],
   "source": [
    "generate_square_subsequent_mask(10)"
   ]
  },
  {
   "cell_type": "code",
   "execution_count": 37,
   "metadata": {},
   "outputs": [],
   "source": [
    "def create_mask(src, tgt):\n",
    "    src_seq_len = src.shape[0]\n",
    "    tgt_seq_len = tgt.shape[0]\n",
    "\n",
    "    tgt_mask = generate_square_subsequent_mask(tgt_seq_len)\n",
    "    src_mask = torch.zeros((src_seq_len, src_seq_len),\n",
    "                           device=DEVICE).type(torch.bool)\n",
    "\n",
    "    src_padding_mask = (src == PAD_IDX).transpose(0, 1)\n",
    "    tgt_padding_mask = (tgt == PAD_IDX).transpose(0, 1).type(torch.float32)\n",
    "    return src_mask, tgt_mask, src_padding_mask, tgt_padding_mask"
   ]
  },
  {
   "cell_type": "code",
   "execution_count": 38,
   "metadata": {},
   "outputs": [],
   "source": [
    "src = pad_sequence(text2codes(\n",
    "    train_input_texts[:3], token2idx), padding_value=PAD_IDX)\n",
    "tgt = pad_sequence(text2codes(\n",
    "    train_target_texts[:3], token2idx), padding_value=PAD_IDX)"
   ]
  },
  {
   "cell_type": "code",
   "execution_count": 39,
   "metadata": {},
   "outputs": [
    {
     "data": {
      "text/plain": [
       "(['What is that smell?',\n",
       "  \"I don't get much mail.\",\n",
       "  'I left the key on the table.'],\n",
       " ['Vad är det som luktar?',\n",
       "  'Jag får inte så mycket post.',\n",
       "  'Jag lämnade nyckeln på bordet.'])"
      ]
     },
     "execution_count": 39,
     "metadata": {},
     "output_type": "execute_result"
    }
   ],
   "source": [
    "train_input_texts[:3], train_target_texts[:3]"
   ]
  },
  {
   "cell_type": "markdown",
   "metadata": {},
   "source": [
    "The tensors. Note the batch dimension is the second one."
   ]
  },
  {
   "cell_type": "code",
   "execution_count": 40,
   "metadata": {},
   "outputs": [
    {
     "data": {
      "text/plain": [
       "tensor([[ 2,  2,  2],\n",
       "        [47, 33, 33],\n",
       "        [57,  4,  4],\n",
       "        [50, 53, 61],\n",
       "        [69, 64, 54],\n",
       "        [ 4, 63, 55],\n",
       "        [58,  8, 69],\n",
       "        [68, 69,  4],\n",
       "        [ 4,  4, 69],\n",
       "        [69, 56, 57],\n",
       "        [57, 54, 54],\n",
       "        [50, 69,  4],\n",
       "        [69,  4, 60],\n",
       "        [ 4, 62, 54],\n",
       "        [68, 70, 74],\n",
       "        [62, 52,  4],\n",
       "        [54, 57, 64],\n",
       "        [61,  4, 63],\n",
       "        [61, 62,  4],\n",
       "        [24, 50, 69],\n",
       "        [ 3, 58, 57],\n",
       "        [ 1, 61, 54],\n",
       "        [ 1, 11,  4],\n",
       "        [ 1,  3, 69],\n",
       "        [ 1,  1, 50],\n",
       "        [ 1,  1, 51],\n",
       "        [ 1,  1, 61],\n",
       "        [ 1,  1, 54],\n",
       "        [ 1,  1, 11],\n",
       "        [ 1,  1,  3]])"
      ]
     },
     "execution_count": 40,
     "metadata": {},
     "output_type": "execute_result"
    }
   ],
   "source": [
    "src"
   ]
  },
  {
   "cell_type": "code",
   "execution_count": 41,
   "metadata": {},
   "outputs": [
    {
     "data": {
      "text/plain": [
       "tensor([[ 2,  2,  2],\n",
       "        [46, 34, 34],\n",
       "        [50, 50, 50],\n",
       "        [53, 56, 56],\n",
       "        [ 4,  4,  4],\n",
       "        [81, 55, 61],\n",
       "        [67, 82, 81],\n",
       "        [ 4, 67, 62],\n",
       "        [53,  4, 63],\n",
       "        [54, 58, 50],\n",
       "        [69, 63, 53],\n",
       "        [ 4, 69, 54],\n",
       "        [68, 54,  4],\n",
       "        [64,  4, 63],\n",
       "        [62, 68, 74],\n",
       "        [ 4, 82, 52],\n",
       "        [61,  4, 60],\n",
       "        [70, 62, 54],\n",
       "        [60, 74, 61],\n",
       "        [69, 52, 63],\n",
       "        [50, 60,  4],\n",
       "        [67, 54, 65],\n",
       "        [24, 69, 82],\n",
       "        [ 3,  4,  4],\n",
       "        [ 1, 65, 51],\n",
       "        [ 1, 64, 64],\n",
       "        [ 1, 68, 67],\n",
       "        [ 1, 69, 53],\n",
       "        [ 1, 11, 54],\n",
       "        [ 1,  3, 69],\n",
       "        [ 1,  1, 11],\n",
       "        [ 1,  1,  3]])"
      ]
     },
     "execution_count": 41,
     "metadata": {},
     "output_type": "execute_result"
    }
   ],
   "source": [
    "tgt"
   ]
  },
  {
   "cell_type": "markdown",
   "metadata": {},
   "source": [
    "The next function returns `src_mask`, `tgt_mask`, `src_padding_mask`, `tgt_padding_mask`."
   ]
  },
  {
   "cell_type": "code",
   "execution_count": 42,
   "metadata": {},
   "outputs": [
    {
     "data": {
      "text/plain": [
       "(tensor([[False, False, False, False, False, False, False, False, False, False,\n",
       "          False, False, False, False, False, False, False, False, False, False,\n",
       "          False, False, False, False, False, False, False, False, False, False],\n",
       "         [False, False, False, False, False, False, False, False, False, False,\n",
       "          False, False, False, False, False, False, False, False, False, False,\n",
       "          False, False, False, False, False, False, False, False, False, False],\n",
       "         [False, False, False, False, False, False, False, False, False, False,\n",
       "          False, False, False, False, False, False, False, False, False, False,\n",
       "          False, False, False, False, False, False, False, False, False, False],\n",
       "         [False, False, False, False, False, False, False, False, False, False,\n",
       "          False, False, False, False, False, False, False, False, False, False,\n",
       "          False, False, False, False, False, False, False, False, False, False],\n",
       "         [False, False, False, False, False, False, False, False, False, False,\n",
       "          False, False, False, False, False, False, False, False, False, False,\n",
       "          False, False, False, False, False, False, False, False, False, False],\n",
       "         [False, False, False, False, False, False, False, False, False, False,\n",
       "          False, False, False, False, False, False, False, False, False, False,\n",
       "          False, False, False, False, False, False, False, False, False, False],\n",
       "         [False, False, False, False, False, False, False, False, False, False,\n",
       "          False, False, False, False, False, False, False, False, False, False,\n",
       "          False, False, False, False, False, False, False, False, False, False],\n",
       "         [False, False, False, False, False, False, False, False, False, False,\n",
       "          False, False, False, False, False, False, False, False, False, False,\n",
       "          False, False, False, False, False, False, False, False, False, False],\n",
       "         [False, False, False, False, False, False, False, False, False, False,\n",
       "          False, False, False, False, False, False, False, False, False, False,\n",
       "          False, False, False, False, False, False, False, False, False, False],\n",
       "         [False, False, False, False, False, False, False, False, False, False,\n",
       "          False, False, False, False, False, False, False, False, False, False,\n",
       "          False, False, False, False, False, False, False, False, False, False],\n",
       "         [False, False, False, False, False, False, False, False, False, False,\n",
       "          False, False, False, False, False, False, False, False, False, False,\n",
       "          False, False, False, False, False, False, False, False, False, False],\n",
       "         [False, False, False, False, False, False, False, False, False, False,\n",
       "          False, False, False, False, False, False, False, False, False, False,\n",
       "          False, False, False, False, False, False, False, False, False, False],\n",
       "         [False, False, False, False, False, False, False, False, False, False,\n",
       "          False, False, False, False, False, False, False, False, False, False,\n",
       "          False, False, False, False, False, False, False, False, False, False],\n",
       "         [False, False, False, False, False, False, False, False, False, False,\n",
       "          False, False, False, False, False, False, False, False, False, False,\n",
       "          False, False, False, False, False, False, False, False, False, False],\n",
       "         [False, False, False, False, False, False, False, False, False, False,\n",
       "          False, False, False, False, False, False, False, False, False, False,\n",
       "          False, False, False, False, False, False, False, False, False, False],\n",
       "         [False, False, False, False, False, False, False, False, False, False,\n",
       "          False, False, False, False, False, False, False, False, False, False,\n",
       "          False, False, False, False, False, False, False, False, False, False],\n",
       "         [False, False, False, False, False, False, False, False, False, False,\n",
       "          False, False, False, False, False, False, False, False, False, False,\n",
       "          False, False, False, False, False, False, False, False, False, False],\n",
       "         [False, False, False, False, False, False, False, False, False, False,\n",
       "          False, False, False, False, False, False, False, False, False, False,\n",
       "          False, False, False, False, False, False, False, False, False, False],\n",
       "         [False, False, False, False, False, False, False, False, False, False,\n",
       "          False, False, False, False, False, False, False, False, False, False,\n",
       "          False, False, False, False, False, False, False, False, False, False],\n",
       "         [False, False, False, False, False, False, False, False, False, False,\n",
       "          False, False, False, False, False, False, False, False, False, False,\n",
       "          False, False, False, False, False, False, False, False, False, False],\n",
       "         [False, False, False, False, False, False, False, False, False, False,\n",
       "          False, False, False, False, False, False, False, False, False, False,\n",
       "          False, False, False, False, False, False, False, False, False, False],\n",
       "         [False, False, False, False, False, False, False, False, False, False,\n",
       "          False, False, False, False, False, False, False, False, False, False,\n",
       "          False, False, False, False, False, False, False, False, False, False],\n",
       "         [False, False, False, False, False, False, False, False, False, False,\n",
       "          False, False, False, False, False, False, False, False, False, False,\n",
       "          False, False, False, False, False, False, False, False, False, False],\n",
       "         [False, False, False, False, False, False, False, False, False, False,\n",
       "          False, False, False, False, False, False, False, False, False, False,\n",
       "          False, False, False, False, False, False, False, False, False, False],\n",
       "         [False, False, False, False, False, False, False, False, False, False,\n",
       "          False, False, False, False, False, False, False, False, False, False,\n",
       "          False, False, False, False, False, False, False, False, False, False],\n",
       "         [False, False, False, False, False, False, False, False, False, False,\n",
       "          False, False, False, False, False, False, False, False, False, False,\n",
       "          False, False, False, False, False, False, False, False, False, False],\n",
       "         [False, False, False, False, False, False, False, False, False, False,\n",
       "          False, False, False, False, False, False, False, False, False, False,\n",
       "          False, False, False, False, False, False, False, False, False, False],\n",
       "         [False, False, False, False, False, False, False, False, False, False,\n",
       "          False, False, False, False, False, False, False, False, False, False,\n",
       "          False, False, False, False, False, False, False, False, False, False],\n",
       "         [False, False, False, False, False, False, False, False, False, False,\n",
       "          False, False, False, False, False, False, False, False, False, False,\n",
       "          False, False, False, False, False, False, False, False, False, False],\n",
       "         [False, False, False, False, False, False, False, False, False, False,\n",
       "          False, False, False, False, False, False, False, False, False, False,\n",
       "          False, False, False, False, False, False, False, False, False, False]],\n",
       "        device='cuda:0'),\n",
       " tensor([[0., -inf, -inf,  ..., -inf, -inf, -inf],\n",
       "         [0., 0., -inf,  ..., -inf, -inf, -inf],\n",
       "         [0., 0., 0.,  ..., -inf, -inf, -inf],\n",
       "         ...,\n",
       "         [0., 0., 0.,  ..., 0., -inf, -inf],\n",
       "         [0., 0., 0.,  ..., 0., 0., -inf],\n",
       "         [0., 0., 0.,  ..., 0., 0., 0.]], device='cuda:0'),\n",
       " tensor([[False, False, False, False, False, False, False, False, False, False,\n",
       "          False, False, False, False, False, False, False, False, False, False,\n",
       "          False,  True,  True,  True,  True,  True,  True,  True,  True,  True],\n",
       "         [False, False, False, False, False, False, False, False, False, False,\n",
       "          False, False, False, False, False, False, False, False, False, False,\n",
       "          False, False, False, False,  True,  True,  True,  True,  True,  True],\n",
       "         [False, False, False, False, False, False, False, False, False, False,\n",
       "          False, False, False, False, False, False, False, False, False, False,\n",
       "          False, False, False, False, False, False, False, False, False, False]]),\n",
       " tensor([[0., 0., 0., 0., 0., 0., 0., 0., 0., 0., 0., 0., 0., 0., 0., 0., 0., 0.,\n",
       "          0., 0., 0., 0., 0., 0., 1., 1., 1., 1., 1., 1., 1., 1.],\n",
       "         [0., 0., 0., 0., 0., 0., 0., 0., 0., 0., 0., 0., 0., 0., 0., 0., 0., 0.,\n",
       "          0., 0., 0., 0., 0., 0., 0., 0., 0., 0., 0., 0., 1., 1.],\n",
       "         [0., 0., 0., 0., 0., 0., 0., 0., 0., 0., 0., 0., 0., 0., 0., 0., 0., 0.,\n",
       "          0., 0., 0., 0., 0., 0., 0., 0., 0., 0., 0., 0., 0., 0.]]))"
      ]
     },
     "execution_count": 42,
     "metadata": {},
     "output_type": "execute_result"
    }
   ],
   "source": [
    "create_mask(src, tgt)"
   ]
  },
  {
   "cell_type": "markdown",
   "metadata": {},
   "source": [
    "## Model Creation"
   ]
  },
  {
   "cell_type": "code",
   "execution_count": 43,
   "metadata": {},
   "outputs": [
    {
     "data": {
      "text/plain": [
       "85"
      ]
     },
     "execution_count": 43,
     "metadata": {},
     "output_type": "execute_result"
    }
   ],
   "source": [
    "len(characters)"
   ]
  },
  {
   "cell_type": "code",
   "execution_count": 44,
   "metadata": {},
   "outputs": [
    {
     "data": {
      "text/plain": [
       "89"
      ]
     },
     "execution_count": 44,
     "metadata": {},
     "output_type": "execute_result"
    }
   ],
   "source": [
    "len(token2idx)"
   ]
  },
  {
   "cell_type": "code",
   "execution_count": 45,
   "metadata": {},
   "outputs": [],
   "source": [
    "VOCAB_SIZE = max(token2idx.values()) + 1  # or len(token2idx)\n",
    "EMB_SIZE = 512\n",
    "NHEAD = 8\n",
    "FFN_HID_DIM = 512\n",
    "BATCH_SIZE = 128\n",
    "NUM_ENCODER_LAYERS = 3\n",
    "NUM_DECODER_LAYERS = 3"
   ]
  },
  {
   "cell_type": "code",
   "execution_count": 46,
   "metadata": {},
   "outputs": [
    {
     "name": "stderr",
     "output_type": "stream",
     "text": [
      "/home/oscar/.local/lib/python3.10/site-packages/torch/nn/modules/transformer.py:307: UserWarning: enable_nested_tensor is True, but self.use_nested_tensor is False because encoder_layer.self_attn.batch_first was not True(use batch_first for better inference performance)\n",
      "  warnings.warn(f\"enable_nested_tensor is True, but self.use_nested_tensor is False because {why_not_sparsity_fast_path}\")\n"
     ]
    }
   ],
   "source": [
    "transformer = Seq2SeqTransformer(NUM_ENCODER_LAYERS, NUM_DECODER_LAYERS, EMB_SIZE,\n",
    "                                 NHEAD, VOCAB_SIZE, FFN_HID_DIM)\n",
    "\n",
    "for p in transformer.parameters():\n",
    "    if p.dim() > 1:\n",
    "        nn.init.xavier_uniform_(p)\n",
    "\n",
    "transformer = transformer.to(DEVICE)\n",
    "\n",
    "loss_fn = torch.nn.CrossEntropyLoss(ignore_index=PAD_IDX, label_smoothing=0.1)\n",
    "\n",
    "optimizer = torch.optim.Adam(\n",
    "    transformer.parameters(), lr=0.0001, betas=(0.9, 0.98), eps=1e-9)"
   ]
  },
  {
   "cell_type": "markdown",
   "metadata": {},
   "source": [
    "## Formatting the Data\n",
    "We use `Dataset` and `DataLoader`. `Dataset` implements two methods: `__init__`, `__len__` and `__getitem__`. The last method returns an item of the dataset given an index. Using `collate_fn`, `DataLoader` returns a batch of `batch_size` samples."
   ]
  },
  {
   "cell_type": "code",
   "execution_count": 47,
   "metadata": {},
   "outputs": [],
   "source": [
    "from torch.utils.data import Dataset, DataLoader"
   ]
  },
  {
   "cell_type": "code",
   "execution_count": 48,
   "metadata": {},
   "outputs": [],
   "source": [
    "class PairDataset(Dataset):\n",
    "    def __init__(self, input_texts, target_texts, token2idx):\n",
    "        self.input_texts = input_texts\n",
    "        self.target_texts = target_texts\n",
    "        self.token2idx = token2idx\n",
    "\n",
    "    def __len__(self):\n",
    "        return len(self.input_texts)\n",
    "\n",
    "    def __getitem__(self, idx):\n",
    "        src_batch = text2codes([input_texts[idx]], self.token2idx)\n",
    "        tgt_batch = text2codes([target_texts[idx]], self.token2idx)\n",
    "\n",
    "        return src_batch[0], tgt_batch[0]\n",
    "\n",
    "    def collate(self, batch):\n",
    "        src_batch, tgt_batch = list(zip(*batch))\n",
    "        src_batch = pad_sequence(src_batch, padding_value=PAD_IDX)\n",
    "        tgt_batch = pad_sequence(tgt_batch, padding_value=PAD_IDX)\n",
    "\n",
    "        return src_batch, tgt_batch"
   ]
  },
  {
   "cell_type": "code",
   "execution_count": 49,
   "metadata": {},
   "outputs": [],
   "source": [
    "train_dataset = PairDataset(train_input_texts, train_target_texts, token2idx)\n",
    "train_dataloader = DataLoader(train_dataset, batch_size=32,\n",
    "                              shuffle=True, collate_fn=train_dataset.collate)"
   ]
  },
  {
   "cell_type": "code",
   "execution_count": 50,
   "metadata": {},
   "outputs": [],
   "source": [
    "val_dataset = PairDataset(val_input_texts, val_target_texts, token2idx)\n",
    "val_dataloader = DataLoader(\n",
    "    val_dataset, batch_size=32, collate_fn=val_dataset.collate)"
   ]
  },
  {
   "cell_type": "markdown",
   "metadata": {},
   "source": [
    "## Training Loop"
   ]
  },
  {
   "cell_type": "code",
   "execution_count": 51,
   "metadata": {},
   "outputs": [],
   "source": [
    "def train_epoch(model, optimizer, dataloader):\n",
    "    model.train()\n",
    "    losses = 0\n",
    "    sent_cnt = 0\n",
    "    correct, total = 0, 0\n",
    "    for src_batch, tgt_batch in tqdm(dataloader):\n",
    "        src = src_batch.to(DEVICE)\n",
    "        tgt = tgt_batch.to(DEVICE)\n",
    "\n",
    "        tgt_input = tgt[:-1, :]\n",
    "\n",
    "        src_mask, tgt_mask, src_padding_mask, tgt_padding_mask = create_mask(\n",
    "            src, tgt_input)\n",
    "\n",
    "        logits = model(src,\n",
    "                       tgt_input,\n",
    "                       src_mask,\n",
    "                       tgt_mask,\n",
    "                       src_padding_mask,\n",
    "                       tgt_padding_mask,\n",
    "                       src_padding_mask)\n",
    "\n",
    "        optimizer.zero_grad()\n",
    "\n",
    "        tgt_out = tgt[1:, :]\n",
    "        loss = loss_fn(\n",
    "            logits.reshape(-1, logits.shape[-1]), tgt_out.reshape(-1))\n",
    "        loss.backward()\n",
    "\n",
    "        optimizer.step()\n",
    "        losses += loss.item()\n",
    "\n",
    "        with torch.no_grad():\n",
    "            sent_cnt += tgt_out.size()[-1]\n",
    "\n",
    "            total += torch.numel(tgt_input)\n",
    "            _, char_pred = torch.max(logits, -1)\n",
    "            correct += (char_pred == tgt_out).sum().item()\n",
    "\n",
    "    return losses / sent_cnt, correct / total"
   ]
  },
  {
   "cell_type": "markdown",
   "metadata": {},
   "source": [
    "About the loss. Overall, it should computed by individual prediction and divided by the number of chars. By default the crossentropy loss uses the mean. Then we use the mean of the mean. The trend is correct, but the values are not exact. A possible improvement would be to sum and pass through the mask."
   ]
  },
  {
   "cell_type": "code",
   "execution_count": 52,
   "metadata": {},
   "outputs": [],
   "source": [
    "def evaluate(model, dataloader):\n",
    "    model.eval()\n",
    "    losses = 0\n",
    "    sent_cnt = 0\n",
    "    correct, total = 0, 0\n",
    "\n",
    "    for src_batch, tgt_batch in dataloader:\n",
    "        src = src_batch.to(DEVICE)\n",
    "        tgt = tgt_batch.to(DEVICE)\n",
    "\n",
    "        tgt_input = tgt[:-1, :]\n",
    "\n",
    "        src_mask, tgt_mask, src_padding_mask, tgt_padding_mask = create_mask(\n",
    "            src, tgt_input)\n",
    "\n",
    "        logits = model(src, tgt_input, src_mask, tgt_mask, src_padding_mask, tgt_padding_mask, src_padding_mask)\n",
    "\n",
    "        tgt_out = tgt[1:, :]\n",
    "        loss = loss_fn(\n",
    "            logits.reshape(-1, logits.shape[-1]), tgt_out.reshape(-1))\n",
    "        losses += loss.item()\n",
    "        sent_cnt += tgt_out.size()[-1]\n",
    "\n",
    "        total += torch.numel(tgt_input)\n",
    "        _, char_pred = torch.max(logits, -1)\n",
    "        correct += (char_pred == tgt_out).sum().item()\n",
    "\n",
    "    return losses / sent_cnt, correct / total"
   ]
  },
  {
   "cell_type": "code",
   "execution_count": 53,
   "metadata": {},
   "outputs": [
    {
     "name": "stderr",
     "output_type": "stream",
     "text": [
      "100%|██████████| 625/625 [00:39<00:00, 15.88it/s]\n"
     ]
    },
    {
     "name": "stdout",
     "output_type": "stream",
     "text": [
      "Epoch: 1, Train loss: 0.081, Val loss: 0.069, Train acc.: 0.202, Val acc.: 0.265, Epoch time = 39.365s\n"
     ]
    },
    {
     "name": "stderr",
     "output_type": "stream",
     "text": [
      "100%|██████████| 625/625 [00:39<00:00, 15.92it/s]\n"
     ]
    },
    {
     "name": "stdout",
     "output_type": "stream",
     "text": [
      "Epoch: 2, Train loss: 0.068, Val loss: 0.062, Train acc.: 0.266, Val acc.: 0.301, Epoch time = 39.266s\n"
     ]
    },
    {
     "name": "stderr",
     "output_type": "stream",
     "text": [
      "100%|██████████| 625/625 [00:39<00:00, 15.86it/s]\n"
     ]
    },
    {
     "name": "stdout",
     "output_type": "stream",
     "text": [
      "Epoch: 3, Train loss: 0.063, Val loss: 0.058, Train acc.: 0.293, Val acc.: 0.324, Epoch time = 39.398s\n"
     ]
    },
    {
     "name": "stderr",
     "output_type": "stream",
     "text": [
      "100%|██████████| 625/625 [00:39<00:00, 15.82it/s]\n"
     ]
    },
    {
     "name": "stdout",
     "output_type": "stream",
     "text": [
      "Epoch: 4, Train loss: 0.060, Val loss: 0.055, Train acc.: 0.310, Val acc.: 0.340, Epoch time = 39.503s\n"
     ]
    },
    {
     "name": "stderr",
     "output_type": "stream",
     "text": [
      "100%|██████████| 625/625 [00:39<00:00, 16.01it/s]\n"
     ]
    },
    {
     "name": "stdout",
     "output_type": "stream",
     "text": [
      "Epoch: 5, Train loss: 0.058, Val loss: 0.053, Train acc.: 0.326, Val acc.: 0.354, Epoch time = 39.047s\n"
     ]
    },
    {
     "name": "stderr",
     "output_type": "stream",
     "text": [
      "100%|██████████| 625/625 [00:39<00:00, 15.81it/s]\n"
     ]
    },
    {
     "name": "stdout",
     "output_type": "stream",
     "text": [
      "Epoch: 6, Train loss: 0.056, Val loss: 0.051, Train acc.: 0.336, Val acc.: 0.366, Epoch time = 39.531s\n"
     ]
    },
    {
     "name": "stderr",
     "output_type": "stream",
     "text": [
      "100%|██████████| 625/625 [00:39<00:00, 15.83it/s]\n"
     ]
    },
    {
     "name": "stdout",
     "output_type": "stream",
     "text": [
      "Epoch: 7, Train loss: 0.054, Val loss: 0.049, Train acc.: 0.345, Val acc.: 0.375, Epoch time = 39.476s\n"
     ]
    },
    {
     "name": "stderr",
     "output_type": "stream",
     "text": [
      "100%|██████████| 625/625 [00:39<00:00, 15.88it/s]\n"
     ]
    },
    {
     "name": "stdout",
     "output_type": "stream",
     "text": [
      "Epoch: 8, Train loss: 0.053, Val loss: 0.047, Train acc.: 0.354, Val acc.: 0.385, Epoch time = 39.352s\n"
     ]
    },
    {
     "name": "stderr",
     "output_type": "stream",
     "text": [
      "100%|██████████| 625/625 [00:39<00:00, 15.80it/s]\n"
     ]
    },
    {
     "name": "stdout",
     "output_type": "stream",
     "text": [
      "Epoch: 9, Train loss: 0.051, Val loss: 0.046, Train acc.: 0.361, Val acc.: 0.392, Epoch time = 39.570s\n"
     ]
    },
    {
     "name": "stderr",
     "output_type": "stream",
     "text": [
      "100%|██████████| 625/625 [00:39<00:00, 15.83it/s]\n"
     ]
    },
    {
     "name": "stdout",
     "output_type": "stream",
     "text": [
      "Epoch: 10, Train loss: 0.050, Val loss: 0.045, Train acc.: 0.368, Val acc.: 0.401, Epoch time = 39.477s\n"
     ]
    },
    {
     "name": "stderr",
     "output_type": "stream",
     "text": [
      "100%|██████████| 625/625 [00:39<00:00, 15.67it/s]\n"
     ]
    },
    {
     "name": "stdout",
     "output_type": "stream",
     "text": [
      "Epoch: 11, Train loss: 0.049, Val loss: 0.044, Train acc.: 0.374, Val acc.: 0.407, Epoch time = 39.889s\n"
     ]
    },
    {
     "name": "stderr",
     "output_type": "stream",
     "text": [
      "100%|██████████| 625/625 [00:39<00:00, 15.91it/s]\n"
     ]
    },
    {
     "name": "stdout",
     "output_type": "stream",
     "text": [
      "Epoch: 12, Train loss: 0.048, Val loss: 0.043, Train acc.: 0.380, Val acc.: 0.412, Epoch time = 39.281s\n"
     ]
    },
    {
     "name": "stderr",
     "output_type": "stream",
     "text": [
      "100%|██████████| 625/625 [00:39<00:00, 15.75it/s]\n"
     ]
    },
    {
     "name": "stdout",
     "output_type": "stream",
     "text": [
      "Epoch: 13, Train loss: 0.047, Val loss: 0.042, Train acc.: 0.385, Val acc.: 0.419, Epoch time = 39.684s\n"
     ]
    },
    {
     "name": "stderr",
     "output_type": "stream",
     "text": [
      "100%|██████████| 625/625 [00:39<00:00, 15.76it/s]\n"
     ]
    },
    {
     "name": "stdout",
     "output_type": "stream",
     "text": [
      "Epoch: 14, Train loss: 0.046, Val loss: 0.041, Train acc.: 0.392, Val acc.: 0.424, Epoch time = 39.649s\n"
     ]
    },
    {
     "name": "stderr",
     "output_type": "stream",
     "text": [
      "100%|██████████| 625/625 [00:39<00:00, 15.82it/s]\n"
     ]
    },
    {
     "name": "stdout",
     "output_type": "stream",
     "text": [
      "Epoch: 15, Train loss: 0.045, Val loss: 0.040, Train acc.: 0.398, Val acc.: 0.429, Epoch time = 39.509s\n"
     ]
    }
   ],
   "source": [
    "from timeit import default_timer as timer\n",
    "NUM_EPOCHS = 15\n",
    "train_losses = []\n",
    "train_accs = []\n",
    "val_losses = []\n",
    "val_accs = []\n",
    "\n",
    "for epoch in range(1, NUM_EPOCHS + 1):\n",
    "    start_time = timer()\n",
    "    train_loss, train_acc = train_epoch(\n",
    "        transformer, optimizer, train_dataloader)\n",
    "    train_losses += [train_loss]\n",
    "    train_accs += [train_acc]\n",
    "    end_time = timer()\n",
    "    val_loss, val_acc = evaluate(transformer, val_dataloader)\n",
    "    val_losses += [val_loss]\n",
    "    val_accs += [val_acc]\n",
    "    print((f\"Epoch: {epoch}, Train loss: {train_loss:.3f}, Val loss: {val_loss:.3f}, Train acc.: {train_acc:.3f}, Val acc.: {val_acc:.3f}, Epoch time = {(end_time - start_time):.3f}s\"))"
   ]
  },
  {
   "cell_type": "markdown",
   "metadata": {},
   "source": [
    "## Plotting the Loss"
   ]
  },
  {
   "cell_type": "code",
   "execution_count": 54,
   "metadata": {},
   "outputs": [],
   "source": [
    "epochs = range(NUM_EPOCHS)"
   ]
  },
  {
   "cell_type": "code",
   "execution_count": 55,
   "metadata": {},
   "outputs": [
    {
     "data": {
      "image/png": "[encoded data removed]",
      "text/plain": [
       "<Figure size 640x480 with 1 Axes>"
      ]
     },
     "metadata": {},
     "output_type": "display_data"
    }
   ],
   "source": [
    "plt.plot(epochs, train_losses, 'bo', label='Training loss')\n",
    "plt.plot(epochs, val_losses, 'b', label='Validation loss')\n",
    "plt.title('Training and validation loss')\n",
    "plt.xlabel('Epochs')\n",
    "plt.ylabel('Loss')\n",
    "plt.legend()\n",
    "plt.show()"
   ]
  },
  {
   "cell_type": "code",
   "execution_count": 56,
   "metadata": {},
   "outputs": [
    {
     "data": {
      "image/png": "[encoded data removed]",
      "text/plain": [
       "<Figure size 640x480 with 1 Axes>"
      ]
     },
     "metadata": {},
     "output_type": "display_data"
    }
   ],
   "source": [
    "plt.plot(epochs, train_accs, 'bo', label='Training acc')\n",
    "plt.plot(epochs, val_accs, 'b', label='Validation acc')\n",
    "plt.title('Training and validation accuracy')\n",
    "plt.xlabel('Epochs')\n",
    "plt.ylabel('Accuracy')\n",
    "plt.show()"
   ]
  },
  {
   "cell_type": "markdown",
   "metadata": {},
   "source": [
    "## Application"
   ]
  },
  {
   "cell_type": "code",
   "execution_count": 57,
   "metadata": {},
   "outputs": [],
   "source": [
    "# function to generate output sequence using greedy algorithm\n",
    "def greedy_decode(model, src, src_mask, max_len, start_symbol):\n",
    "    src = src.to(DEVICE)\n",
    "    src_mask = src_mask.to(DEVICE)\n",
    "\n",
    "    memory = model.encode(src, src_mask)\n",
    "    ys = torch.ones(1, 1).fill_(start_symbol).type(torch.long).to(DEVICE)\n",
    "    # print(ys)\n",
    "    for i in range(max_len-1):\n",
    "        memory = memory.to(DEVICE)\n",
    "        tgt_mask = (generate_square_subsequent_mask(ys.size(0))\n",
    "                    .type(torch.bool)).to(DEVICE)\n",
    "        out = model.decode(ys, memory, tgt_mask)\n",
    "        out = out.transpose(0, 1)\n",
    "        prob = model.generator(out[:, -1])\n",
    "        _, next_word = torch.max(prob, dim=1)\n",
    "        next_word = next_word.item()\n",
    "\n",
    "        ys = torch.cat([ys,\n",
    "                        torch.ones(1, 1).type_as(src.data).fill_(next_word)], dim=0)\n",
    "        # print(ys) # Remove the comment to understand the loop\n",
    "        if next_word == EOS_IDX:\n",
    "            break\n",
    "    return ys"
   ]
  },
  {
   "cell_type": "code",
   "execution_count": 58,
   "metadata": {},
   "outputs": [
    {
     "data": {
      "text/plain": [
       "tensor([[ 2],\n",
       "        [31],\n",
       "        [64],\n",
       "        [ 5],\n",
       "        [ 3]])"
      ]
     },
     "execution_count": 58,
     "metadata": {},
     "output_type": "execute_result"
    }
   ],
   "source": [
    "text2codes(['Go!'], token2idx)[0].view(-1, 1)"
   ]
  },
  {
   "cell_type": "code",
   "execution_count": 59,
   "metadata": {},
   "outputs": [],
   "source": [
    "# actual function to translate input sentence into target language\n",
    "def translate(model: torch.nn.Module, src_sentence: str):\n",
    "    model.eval()\n",
    "    src = text2codes([src_sentence], token2idx)[0].view(-1, 1)\n",
    "    num_tokens = src.shape[0]\n",
    "    src_mask = (torch.zeros(num_tokens, num_tokens)).type(torch.bool)\n",
    "    tgt_tokens = greedy_decode(\n",
    "        model, src, src_mask, max_len=num_tokens + 20, start_symbol=BOS_IDX).flatten()\n",
    "    tgt_chars_specials = codes2text([tgt_tokens], idx2token)[0]\n",
    "    tgt_chars = []\n",
    "    for char in tgt_chars_specials:\n",
    "        if char != '<bos>' and char != '<eos>':\n",
    "            tgt_chars += [char]\n",
    "    tgt_chars = ''.join(tgt_chars)\n",
    "    return tgt_chars"
   ]
  },
  {
   "cell_type": "code",
   "execution_count": 60,
   "metadata": {},
   "outputs": [
    {
     "data": {
      "text/plain": [
       "'Kommer du hem?'"
      ]
     },
     "execution_count": 60,
     "metadata": {},
     "output_type": "execute_result"
    }
   ],
   "source": [
    "tgt_sent = translate(transformer, 'Will you come home?')\n",
    "tgt_sent"
   ]
  },
  {
   "cell_type": "code",
   "execution_count": 61,
   "metadata": {},
   "outputs": [
    {
     "data": {
      "text/plain": [
       "'En uppp aldrig på människor med jag många mig.'"
      ]
     },
     "execution_count": 61,
     "metadata": {},
     "output_type": "execute_result"
    }
   ],
   "source": [
    "tgt_sent = translate(\n",
    "    transformer, \"Eine Gruppe von Menschen steht vor einem Iglu .\")\n",
    "tgt_sent"
   ]
  },
  {
   "cell_type": "markdown",
   "metadata": {},
   "source": [
    "## Save model"
   ]
  },
  {
   "cell_type": "code",
   "execution_count": 62,
   "metadata": {},
   "outputs": [],
   "source": [
    "\n",
    "torch.save(transformer, 'simple_params_v4.pth')"
   ]
  },
  {
   "cell_type": "markdown",
   "metadata": {},
   "source": [
    "## Report\n",
    "Now your are done with the program. To complete this assignment, you will write a report where you will:\n",
    "1. Write a short individual report on this program. I recommend that you use this structure for your report:\n",
    "      1. Objectives and background \n",
    "      2. Method and program structure\n",
    "      3. Results.\n",
    "      4. Conclusion.\n",
    "2. In Sect. _Objectives and background_, you will summarize the paper _Attention Is All You Need_ (https://arxiv.org/abs/1706.03762) in about half a page.\n",
    "3. In Sect. _Method and program structure_, please follow the outline below and use the same subsection names as those in bold:\n",
    "    - __Dataset__: Describe your dataset;\n",
    "    - __Encoder-Decoder__: Describe the overall architecture;\n",
    "    - __Embeddings__: Explain the embeddings, positional encodings and character embeddings\n",
    "    - __Self-Attention__: Explain self-attention\n",
    "    - __Decoder__: Describe the decoder\n",
    "    - __Inference__: Describe the inference\n",
    "4. In Sect. _Results_, please describe and comment your experiments and results. You should try at least two sets of parameters (e.g. number of heads, number of layers, number of epochs, etc.)\n",
    "\n",
    "The whole report should be of 2 to 3 pages.\n",
    "\n",
    "Submit your report as well as your **notebook** (for archiving purposes) to Canvas: https://canvas.education.lu.se/. To write your report, use Latex. This will probably help you structure your text. You can use the Overleaf online editor (www.overleaf.com). You will then upload a PDF file in Canvas.\n",
    "\n",
    "The submission deadline is October 25, 2024."
   ]
  }
 ],
 "metadata": {
  "kernelspec": {
   "display_name": "Python 3",
   "language": "python",
   "name": "python3"
  },
  "language_info": {
   "codemirror_mode": {
    "name": "ipython",
    "version": 3
   },
   "file_extension": ".py",
   "mimetype": "text/x-python",
   "name": "python",
   "nbconvert_exporter": "python",
   "pygments_lexer": "ipython3",
   "version": "3.10.12"
  }
 },
 "nbformat": 4,
 "nbformat_minor": 4
}
