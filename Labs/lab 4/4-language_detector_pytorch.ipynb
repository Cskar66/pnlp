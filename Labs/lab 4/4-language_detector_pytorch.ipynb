{
 "cells": [
  {
   "cell_type": "markdown",
   "metadata": {},
   "source": [
    "# Assignment #4: A simple language classifier with scikit-learn and PyTorch"
   ]
  },
  {
   "cell_type": "markdown",
   "metadata": {},
   "source": [
    "Author: Pierre Nugues"
   ]
  },
  {
   "cell_type": "markdown",
   "metadata": {},
   "source": [
    "## Objectives"
   ]
  },
  {
   "cell_type": "markdown",
   "metadata": {},
   "source": [
    "In this assignment, you will implement a language detector inspired and simplified from Google's _Compact language detector_, version 3 (CLD3): https://github.com/google/cld3. CLD3 is written in C++ and its code is available from GitHub. CLD3 can scale to many languages and complemented with other techniques as you can read here: https://arxiv.org/pdf/2205.03983\n",
    "\n",
    "The objectives of the assignment are to:\n",
    "* Write a program to classify languages\n",
    "* Use neural networks with sklearn and PyTorch\n",
    "* Understand how to evaluate a classifier\n",
    "* Write a short individual report of 2 to 3 pages to describe your program.\n",
    "\n",
    "The outline of the lab is:\n",
    "1. You will first collect and preprocess a dataset;\n",
    "2. You will create a language classifier using sklearn, an easy-to-use API. This should enable you to understand the concepts with a top-down approach as you will have less details to manage;\n",
    "3. You will reimplement the classifier using PyTorch, a deep-learning API, where you will write the gradient descent loop explicitly;\n",
    "4. In both experiments, you will evaluate your classification results. "
   ]
  },
  {
   "cell_type": "markdown",
   "metadata": {},
   "source": [
    "## Description"
   ]
  },
  {
   "cell_type": "markdown",
   "metadata": {},
   "source": [
    "### System Overview"
   ]
  },
  {
   "cell_type": "markdown",
   "metadata": {},
   "source": [
    "Read the GitHub description of CLD3, https://github.com/google/cld3, (_Model_ section). In your individual report, you will summarize it in two or three sentences in the _Method and program structure_ section. "
   ]
  },
  {
   "cell_type": "markdown",
   "metadata": {},
   "source": [
    "## Imports"
   ]
  },
  {
   "cell_type": "code",
   "execution_count": 1,
   "metadata": {},
   "outputs": [],
   "source": [
    "import bz2\n",
    "import json\n",
    "import os\n",
    "import numpy as np\n",
    "import requests\n",
    "import sys\n",
    "from sklearn.neural_network import MLPClassifier\n",
    "from sklearn.feature_extraction import DictVectorizer\n",
    "from sklearn.metrics import accuracy_score\n",
    "from sklearn.metrics import f1_score, classification_report\n",
    "from sklearn.metrics import confusion_matrix, ConfusionMatrixDisplay\n",
    "import random\n",
    "import torch\n",
    "import torch.nn as nn\n",
    "import torch.nn.functional as F\n",
    "import hashlib\n",
    "from tqdm import tqdm\n",
    "import regex as re"
   ]
  },
  {
   "cell_type": "code",
   "execution_count": 2,
   "metadata": {},
   "outputs": [
    {
     "data": {
      "text/plain": [
       "<torch._C.Generator at 0x7fb895106950>"
      ]
     },
     "execution_count": 2,
     "metadata": {},
     "output_type": "execute_result"
    }
   ],
   "source": [
    "random.seed(1234)\n",
    "np.random.seed(1234)\n",
    "torch.manual_seed(1234)"
   ]
  },
  {
   "cell_type": "markdown",
   "metadata": {},
   "source": [
    "## Dataset"
   ]
  },
  {
   "cell_type": "markdown",
   "metadata": {},
   "source": [
    "As dataset, we will use Tatoeba, https://tatoeba.org/eng/downloads. It consists of more than 12 million short texts in more than 400 languages and it is available in one file called `sentences.csv`.\n",
    "\n",
    "The dataset is structured this way: There is one text per line, where each line consists of the three following fields separated by tabulations and ended by a carriage return:\n",
    "```\n",
    "sentence id [tab] language code [tab] text [cr]\n",
    "```\n",
    "Each text (sentence) has a unique id and has a language code that follows the ISO 639-3 standard (see below). "
   ]
  },
  {
   "cell_type": "markdown",
   "metadata": {},
   "source": [
    "### Scope of the lab"
   ]
  },
  {
   "cell_type": "markdown",
   "metadata": {},
   "source": [
    "In this lab, you will consider six languages only: French (fra), Japanese (jpn), Chinese (cmn), English (eng), Swedish (swe), and Danish (dan). Below is an excerpt of the Tatoeba dataset limited to three languages: \n",
    "\n",
    "```\n",
    "1276    eng     Let's try something.\n",
    "1277    eng     I have to go to sleep.\n",
    "1280    eng     Today is June 18th and it is Muiriel's birthday!\n",
    "...\n",
    "1115    fra     Lorsqu'il a demandé qui avait cassé la fenêtre, tous les garçons ont pris un air innocent.\n",
    "1279    fra     Je ne supporte pas ce type.\n",
    "1441    fra     Pour une fois dans ma vie je fais un bon geste... Et ça ne sert à rien.\n",
    "...\n",
    "337413  swe     Vi trodde att det var ett flygande tefat.\n",
    "341910  swe     Detta är huset jag bodde i när jag var barn.\n",
    "341938  swe     Vi hade roligt på stranden igår.\n",
    "...\n",
    "```\n",
    "Tatoeba is updated continuously. The examples from this dataset come from a corpus your instructor downloaded on September 17, 2024."
   ]
  },
  {
   "cell_type": "markdown",
   "metadata": {},
   "source": [
    "## Getting the Dataset"
   ]
  },
  {
   "cell_type": "markdown",
   "metadata": {},
   "source": [
    "Before you start programming the rest, download the Tatoeba dataset. You can use the instructions (uncomment them):"
   ]
  },
  {
   "cell_type": "markdown",
   "metadata": {},
   "source": [
    "#!wget https://downloads.tatoeba.org/exports/sentences.tar.bz2\n",
    "#!tar -xvjf sentences.tar.bz2"
   ]
  },
  {
   "cell_type": "markdown",
   "metadata": {},
   "source": [
    "### Loading the Dataset"
   ]
  },
  {
   "cell_type": "markdown",
   "metadata": {},
   "source": [
    "Run the code to read the dataset and split it into lines. You may have to change the path"
   ]
  },
  {
   "cell_type": "code",
   "execution_count": 3,
   "metadata": {},
   "outputs": [
    {
     "data": {
      "text/plain": [
       "['1\\tcmn\\t我們試試看！',\n",
       " '2\\tcmn\\t我该去睡觉了。',\n",
       " '3\\tcmn\\t你在干什麼啊？',\n",
       " '4\\tcmn\\t這是什麼啊？',\n",
       " '5\\tcmn\\t今天是６月１８号，也是Muiriel的生日！',\n",
       " '6\\tcmn\\t生日快乐，Muiriel！',\n",
       " '7\\tcmn\\tMuiriel现在20岁了。',\n",
       " '8\\tcmn\\t密码是\"Muiriel\"。',\n",
       " '9\\tcmn\\t我很快就會回來。',\n",
       " '10\\tcmn\\t我不知道。']"
      ]
     },
     "execution_count": 3,
     "metadata": {},
     "output_type": "execute_result"
    }
   ],
   "source": [
    "dataset_large = open('sentences.csv', encoding='utf8').read().strip()\n",
    "dataset_large = dataset_large.split('\\n')\n",
    "dataset_large[:10]"
   ]
  },
  {
   "cell_type": "markdown",
   "metadata": {},
   "source": [
    "The size may vary as new documents are added every day to _Tatoeba_"
   ]
  },
  {
   "cell_type": "code",
   "execution_count": 4,
   "metadata": {},
   "outputs": [
    {
     "data": {
      "text/plain": [
       "12265670"
      ]
     },
     "execution_count": 4,
     "metadata": {},
     "output_type": "execute_result"
    }
   ],
   "source": [
    "len(dataset_large)"
   ]
  },
  {
   "cell_type": "markdown",
   "metadata": {},
   "source": [
    "Run the code to split the fields and remove possible whitespaces"
   ]
  },
  {
   "cell_type": "code",
   "execution_count": 5,
   "metadata": {},
   "outputs": [
    {
     "data": {
      "text/plain": [
       "[('1', 'cmn', '我們試試看！'), ('2', 'cmn', '我该去睡觉了。'), ('3', 'cmn', '你在干什麼啊？')]"
      ]
     },
     "execution_count": 5,
     "metadata": {},
     "output_type": "execute_result"
    }
   ],
   "source": [
    "dataset_large = list(map(lambda x: tuple(x.split('\\t')), dataset_large))\n",
    "dataset_large = list(map(lambda x: tuple(map(str.strip, x)), dataset_large))\n",
    "dataset_large[:3]"
   ]
  },
  {
   "cell_type": "code",
   "execution_count": 6,
   "metadata": {},
   "outputs": [],
   "source": [
    "from collections import Counter\n",
    "counter = Counter(map(lambda x: x[1], dataset_large))"
   ]
  },
  {
   "cell_type": "markdown",
   "metadata": {},
   "source": [
    "Again the figures may vary"
   ]
  },
  {
   "cell_type": "code",
   "execution_count": 7,
   "metadata": {},
   "outputs": [
    {
     "data": {
      "text/plain": [
       "[('eng', 1919655),\n",
       " ('rus', 1083677),\n",
       " ('ita', 888171),\n",
       " ('epo', 766363),\n",
       " ('tur', 734304),\n",
       " ('kab', 722477),\n",
       " ('deu', 694683),\n",
       " ('ber', 676645),\n",
       " ('fra', 627564),\n",
       " ('por', 433886),\n",
       " ('hun', 411068),\n",
       " ('spa', 408395),\n",
       " ('jpn', 241802),\n",
       " ('heb', 201539),\n",
       " ('ukr', 186322),\n",
       " ('nld', 185997),\n",
       " ('fin', 149509),\n",
       " ('pol', 128828),\n",
       " ('lit', 112105),\n",
       " ('ces', 80085),\n",
       " ('mkd', 78226),\n",
       " ('tgl', 76292),\n",
       " ('cmn', 74580),\n",
       " ('mar', 73276),\n",
       " ('ara', 64437),\n",
       " ('dan', 63374),\n",
       " ('tok', 58706),\n",
       " ('swe', 56160),\n",
       " ('lat', 51353),\n",
       " ('srp', 50628)]"
      ]
     },
     "execution_count": 7,
     "metadata": {},
     "output_type": "execute_result"
    }
   ],
   "source": [
    "counter.most_common(30)"
   ]
  },
  {
   "cell_type": "code",
   "execution_count": 8,
   "metadata": {},
   "outputs": [
    {
     "data": {
      "text/plain": [
       "420"
      ]
     },
     "execution_count": 8,
     "metadata": {},
     "output_type": "execute_result"
    }
   ],
   "source": [
    "len(counter)"
   ]
  },
  {
   "cell_type": "markdown",
   "metadata": {},
   "source": [
    "## Understanding the ${X}$ matrix (feature matrix)\n",
    "You will now investigate the CLD3 features. In your report, you will describe the features CLD3 extracts from each text."
   ]
  },
  {
   "cell_type": "markdown",
   "metadata": {},
   "source": [
    "Write a program to create a simplified ${X}$ matrix where you will represent the 9 texts with CLD3 features. You will use a restricted set of features: You will only consider the letters _a_, _b_, and _n_ and the bigrams _an_, _ba_, and _na_. You will ignore the the rest of letters and bigrams as well as the trigrams. Your matrix will have 9 rows and 6 columns, each column will contain these counts: `[#a, #b, #n, #an, #ba, #na]`.\n",
    "\n",
    "The CLD3's original description uses relative frequencies (counts of a letter divided by the total counts of letters in the text). Here, you will use the raw counts.\n",
    "\n",
    "To help you start your program to extract the counts, you can use the `str.count()` function"
   ]
  },
  {
   "cell_type": "code",
   "execution_count": 9,
   "metadata": {},
   "outputs": [],
   "source": [
    "example_ngrams = ['a', 'b', 'n', 'an', 'ba', 'na']"
   ]
  },
  {
   "cell_type": "code",
   "execution_count": 10,
   "metadata": {},
   "outputs": [
    {
     "data": {
      "text/plain": [
       "8"
      ]
     },
     "execution_count": 10,
     "metadata": {},
     "output_type": "execute_result"
    }
   ],
   "source": [
    "\"\"\"Lorsqu'il a demandé qui avait cassé la fenêtre, tous les garçons ont pris un air innocent.\"\"\".count('a')"
   ]
  },
  {
   "cell_type": "code",
   "execution_count": 11,
   "metadata": {},
   "outputs": [
    {
     "data": {
      "text/plain": [
       "1"
      ]
     },
     "execution_count": 11,
     "metadata": {},
     "output_type": "execute_result"
    }
   ],
   "source": [
    "\"\"\"Lorsqu'il a demandé qui avait cassé la fenêtre, tous les garçons ont pris un air innocent.\"\"\".count('an')"
   ]
  },
  {
   "cell_type": "code",
   "execution_count": 12,
   "metadata": {},
   "outputs": [
    {
     "data": {
      "text/plain": [
       "[8, 0, 8, 1, 0, 0]"
      ]
     },
     "execution_count": 12,
     "metadata": {},
     "output_type": "execute_result"
    }
   ],
   "source": [
    "my_string = \"\"\"Lorsqu'il a demandé qui avait cassé la fenêtre, tous les garçons ont pris un air innocent.\"\"\"\n",
    "row = []\n",
    "for ngram in example_ngrams:\n",
    "    row += [my_string.count(ngram)]\n",
    "row"
   ]
  },
  {
   "cell_type": "markdown",
   "metadata": {},
   "source": [
    "The indices of the test sentences"
   ]
  },
  {
   "cell_type": "code",
   "execution_count": 13,
   "metadata": {},
   "outputs": [
    {
     "data": {
      "text/plain": [
       "['1276', '1277', '1280', '1115', '1279', '1441', '337413', '341910', '341938']"
      ]
     },
     "execution_count": 13,
     "metadata": {},
     "output_type": "execute_result"
    }
   ],
   "source": [
    "test_idx = list(\n",
    "    map(str, [1276, 1277, 1280, 1115, 1279, 1441, 337413, 341910, 341938]))\n",
    "test_idx"
   ]
  },
  {
   "cell_type": "code",
   "execution_count": 14,
   "metadata": {},
   "outputs": [
    {
     "data": {
      "text/plain": [
       "('1', 'cmn', '我們試試看！')"
      ]
     },
     "execution_count": 14,
     "metadata": {},
     "output_type": "execute_result"
    }
   ],
   "source": [
    "dataset_large[0]"
   ]
  },
  {
   "cell_type": "markdown",
   "metadata": {},
   "source": [
    "Write the code to extract the feature matrix from the test sentences as well as the languages. \n",
    "You will store the features in an $X$ matrix and the languages in an $\\mathbf{y}$ vector.\n",
    "You will __include this matrix in your report__ in the _Method and program structure section_."
   ]
  },
  {
   "cell_type": "code",
   "execution_count": 15,
   "metadata": {},
   "outputs": [
    {
     "data": {
      "text/plain": [
       "([[8, 0, 8, 1, 0, 0],\n",
       "  [0, 0, 1, 0, 0, 0],\n",
       "  [1, 0, 0, 0, 0, 0],\n",
       "  [1, 0, 1, 0, 0, 0],\n",
       "  [3, 1, 2, 1, 0, 0],\n",
       "  [4, 1, 6, 1, 0, 0],\n",
       "  [4, 0, 1, 1, 0, 0],\n",
       "  [5, 2, 2, 0, 1, 0],\n",
       "  [2, 0, 2, 1, 0, 0],\n",
       "  ['fra', 'eng', 'eng', 'fra', 'eng', 'fra', 'swe', 'swe', 'swe']],\n",
       " [('1115',\n",
       "   'fra',\n",
       "   \"Lorsqu'il a demandé qui avait cassé la fenêtre, tous les garçons ont pris un air innocent.\"),\n",
       "  ('1276', 'eng', \"Let's try something.\"),\n",
       "  ('1277', 'eng', 'I have to go to sleep.'),\n",
       "  ('1279', 'fra', 'Je ne supporte pas ce type.'),\n",
       "  ('1280', 'eng', \"Today is June 18th and it is Muiriel's birthday!\"),\n",
       "  ('1441',\n",
       "   'fra',\n",
       "   'Pour une fois dans ma vie je fais un bon geste... Et ça ne sert à rien.'),\n",
       "  ('337413', 'swe', 'Vi trodde att det var ett flygande tefat.'),\n",
       "  ('341910', 'swe', 'Detta är huset jag bodde i när jag var barn.'),\n",
       "  ('341938', 'swe', 'Vi hade roligt på stranden igår.')])"
      ]
     },
     "execution_count": 15,
     "metadata": {},
     "output_type": "execute_result"
    }
   ],
   "source": [
    "# Write your code here\n",
    "X = []\n",
    "y = []\n",
    "languages = []\n",
    "for line in dataset_large:\n",
    "    if line[0] not in test_idx:\n",
    "        continue\n",
    "\n",
    "    y.append(line)\n",
    "    row = []\n",
    "    for ngram in example_ngrams:\n",
    "        row += [line[2].count(ngram)]\n",
    "    X.append(row)\n",
    "    languages.append(line[1])\n",
    "\n",
    "X.append(languages)\n",
    "X, y"
   ]
  },
  {
   "cell_type": "markdown",
   "metadata": {},
   "source": [
    "## Restricting the Dataset to a few Languages "
   ]
  },
  {
   "cell_type": "markdown",
   "metadata": {},
   "source": [
    "The Tatoeba dataset is very large. You will first extract a subset of it\n",
    "\n",
    "Write the code to extract texts in the languages below. For each language, you limit the number of documents to 50,000 or less if the language has less documents.\n",
    "You will call the resulting dataset: `dataset`"
   ]
  },
  {
   "cell_type": "markdown",
   "metadata": {},
   "source": [
    "The languages"
   ]
  },
  {
   "cell_type": "code",
   "execution_count": 16,
   "metadata": {},
   "outputs": [],
   "source": [
    "langs = ['fra', 'cmn', 'jpn', 'eng', 'swe', 'dan']"
   ]
  },
  {
   "cell_type": "markdown",
   "metadata": {},
   "source": [
    "The maximal number of documents per language"
   ]
  },
  {
   "cell_type": "code",
   "execution_count": 17,
   "metadata": {},
   "outputs": [],
   "source": [
    "MAX_DOCS = 50000"
   ]
  },
  {
   "cell_type": "markdown",
   "metadata": {},
   "source": [
    "Write a loop that:\n",
    "1. Extracts a list of all the documents in a certain language from the dataset\n",
    "2. Shuffles this list with `random.shuffle()`\n",
    "3. Adds `MAX_DOCS` to `dataset`. You just need to use a slice"
   ]
  },
  {
   "cell_type": "code",
   "execution_count": 18,
   "metadata": {},
   "outputs": [],
   "source": [
    "# Write your code here\n",
    "dataset = []\n",
    "for lang in langs:\n",
    "    for line in dataset_large:\n",
    "        if line[1] == lang:\n",
    "            dataset.append(line)\n",
    "random.shuffle(dataset)\n",
    "dataset = dataset[:MAX_DOCS]"
   ]
  },
  {
   "cell_type": "code",
   "execution_count": 19,
   "metadata": {},
   "outputs": [],
   "source": [
    "random.shuffle(dataset)"
   ]
  },
  {
   "cell_type": "code",
   "execution_count": 20,
   "metadata": {},
   "outputs": [
    {
     "data": {
      "text/plain": [
       "50000"
      ]
     },
     "execution_count": 20,
     "metadata": {},
     "output_type": "execute_result"
    }
   ],
   "source": [
    "len(dataset)"
   ]
  },
  {
   "cell_type": "code",
   "execution_count": 21,
   "metadata": {},
   "outputs": [
    {
     "data": {
      "text/plain": [
       "[('7736093', 'eng', 'We need to do our own investigation.'),\n",
       " ('3347603', 'eng', 'Would you like to go for a walk with me?'),\n",
       " ('1448898', 'cmn', '他好高啊！'),\n",
       " ('3919887', 'eng', 'I asked her to come see me.'),\n",
       " ('60410',\n",
       "  'eng',\n",
       "  'I sincerely regret having caused you such an inconvenience.')]"
      ]
     },
     "execution_count": 21,
     "metadata": {},
     "output_type": "execute_result"
    }
   ],
   "source": [
    "dataset[:5]"
   ]
  },
  {
   "cell_type": "markdown",
   "metadata": {},
   "source": [
    "## Utilities\n",
    "\n",
    "Before you can use the dataset to train a model, you need to convert it into numbers. You will carry this with out the following steps and you will write a corresponding function.\n",
    "1. You will extract the $n$-grams up to trigrams (`all_ngrams()`);\n",
    "2. Trigrams can create many symbols that most student's machines cannot process. You will reduce their numbers using hash codes (`hash_ngrams()`);\n",
    "3. You will compute the relative frequencies of the $n$-grams, replaced here by the hash codes (`calc_ref_freq()`).\n",
    "4. The results will be stored in three dictionaries, for characters, bigrams, and trigrams. You will merge these dictionaries into one (`shift_keys()`).\n",
    "\n",
    "You will then apply the functions to vectorize the dataset."
   ]
  },
  {
   "cell_type": "markdown",
   "metadata": {},
   "source": [
    "### Extracting $n$-grams\n",
    "The goal of this section is that you extract the $n$-grams from a text. By default, you will lowercase the text. The result will have the form: `[chars, bigrams, trigrams]`"
   ]
  },
  {
   "cell_type": "markdown",
   "metadata": {},
   "source": [
    "Write a function to extract the $n$-grams of a sentence: `ngrams(sentence, n=1, lc=True)`, `n` is a parameters. You can use list slices for this."
   ]
  },
  {
   "cell_type": "code",
   "execution_count": 22,
   "metadata": {},
   "outputs": [],
   "source": [
    "# Write your code here\n",
    "def ngrams(sentence, n=1, lc=True):\n",
    "    length = len(sentence)\n",
    "    ngram_l = [-1]*(length - n + 1)\n",
    "    \n",
    "    for i in range(length - n + 1):\n",
    "        word = sentence[i:i + n]\n",
    "        if(lc):\n",
    "            word = word.lower()\n",
    "        ngram_l[i] = word\n",
    "    \n",
    "    return ngram_l"
   ]
  },
  {
   "cell_type": "code",
   "execution_count": 23,
   "metadata": {},
   "outputs": [
    {
     "data": {
      "text/plain": [
       "['t', 'r', 'y', ' ', 's', 'o', 'm', 'e', 't', 'h', 'i', 'n', 'g', '.']"
      ]
     },
     "execution_count": 23,
     "metadata": {},
     "output_type": "execute_result"
    }
   ],
   "source": [
    "ngrams('try something.')"
   ]
  },
  {
   "cell_type": "code",
   "execution_count": 24,
   "metadata": {},
   "outputs": [
    {
     "data": {
      "text/plain": [
       "['tr', 'ry', 'y ', ' s', 'so', 'om', 'me', 'et', 'th', 'hi', 'in', 'ng', 'g.']"
      ]
     },
     "execution_count": 24,
     "metadata": {},
     "output_type": "execute_result"
    }
   ],
   "source": [
    "ngrams('try something.', n=2)"
   ]
  },
  {
   "cell_type": "markdown",
   "metadata": {},
   "source": [
    "We now use this function to extract all the $n$-grams"
   ]
  },
  {
   "cell_type": "code",
   "execution_count": 25,
   "metadata": {},
   "outputs": [],
   "source": [
    "def all_ngrams(sentence, max_ngram=3, lc=True):\n",
    "    all_ngram_list = []\n",
    "    for i in range(1, max_ngram + 1):\n",
    "        all_ngram_list += [ngrams(sentence, n=i, lc=lc)]\n",
    "    return all_ngram_list"
   ]
  },
  {
   "cell_type": "code",
   "execution_count": 26,
   "metadata": {},
   "outputs": [
    {
     "data": {
      "text/plain": [
       "[['t', 'r', 'y', ' ', 's', 'o', 'm', 'e', 't', 'h', 'i', 'n', 'g', '.'],\n",
       " ['tr',\n",
       "  'ry',\n",
       "  'y ',\n",
       "  ' s',\n",
       "  'so',\n",
       "  'om',\n",
       "  'me',\n",
       "  'et',\n",
       "  'th',\n",
       "  'hi',\n",
       "  'in',\n",
       "  'ng',\n",
       "  'g.'],\n",
       " ['try',\n",
       "  'ry ',\n",
       "  'y s',\n",
       "  ' so',\n",
       "  'som',\n",
       "  'ome',\n",
       "  'met',\n",
       "  'eth',\n",
       "  'thi',\n",
       "  'hin',\n",
       "  'ing',\n",
       "  'ng.']]"
      ]
     },
     "execution_count": 26,
     "metadata": {},
     "output_type": "execute_result"
    }
   ],
   "source": [
    "all_ngrams('try something.')"
   ]
  },
  {
   "cell_type": "markdown",
   "metadata": {},
   "source": [
    "### Hashing"
   ]
  },
  {
   "cell_type": "markdown",
   "metadata": {},
   "source": [
    "We consider languages with many characters that will make the number of bigrams and trigrams impossible to process. We will use the _hashing trick_ to reduce them, where we will gather $n$-grams into subsets using hash codes.\n",
    "\n",
    "Each item will have this format:\n",
    "`[char_hcodes, bigram_hcodes, trigram_hcodes]`."
   ]
  },
  {
   "cell_type": "markdown",
   "metadata": {},
   "source": [
    "#### Description"
   ]
  },
  {
   "cell_type": "markdown",
   "metadata": {},
   "source": [
    "Python has a built-in hashing function that returns a unique numerical signature for a given string"
   ]
  },
  {
   "cell_type": "code",
   "execution_count": 27,
   "metadata": {},
   "outputs": [
    {
     "data": {
      "text/plain": [
       "(3500698143070170894, -3560664030860496398, 1589699077428515115)"
      ]
     },
     "execution_count": 27,
     "metadata": {},
     "output_type": "execute_result"
    }
   ],
   "source": [
    "hash('a'), hash('ab'), hash('abc')"
   ]
  },
  {
   "cell_type": "markdown",
   "metadata": {},
   "source": [
    "If we take the remainder (modulo) of a division by 5, we reduce the possible codes to: 0, 1, 2, 3, or 4"
   ]
  },
  {
   "cell_type": "code",
   "execution_count": 28,
   "metadata": {},
   "outputs": [
    {
     "data": {
      "text/plain": [
       "[4, 2, 0]"
      ]
     },
     "execution_count": 28,
     "metadata": {},
     "output_type": "execute_result"
    }
   ],
   "source": [
    "list(map(lambda x: x % 5, (hash('a'), hash('ab'), hash('abc'))))"
   ]
  },
  {
   "cell_type": "markdown",
   "metadata": {},
   "source": [
    "#### Implementation"
   ]
  },
  {
   "cell_type": "markdown",
   "metadata": {},
   "source": [
    "We set maximal numbers for our $n$-grams using these divisors"
   ]
  },
  {
   "cell_type": "code",
   "execution_count": 29,
   "metadata": {},
   "outputs": [],
   "source": [
    "MAX_CHARS = 521\n",
    "MAX_BIGRAMS = 1031\n",
    "MAX_TRIGRAMS = 1031"
   ]
  },
  {
   "cell_type": "markdown",
   "metadata": {},
   "source": [
    "Here strings have integer codes within the range [0, `MAX_CHARS`["
   ]
  },
  {
   "cell_type": "code",
   "execution_count": 30,
   "metadata": {},
   "outputs": [
    {
     "data": {
      "text/plain": [
       "[463, 403, 486]"
      ]
     },
     "execution_count": 30,
     "metadata": {},
     "output_type": "execute_result"
    }
   ],
   "source": [
    "list(map(lambda x: x % MAX_CHARS, (hash('a'), hash('ab'), hash('abc'))))"
   ]
  },
  {
   "cell_type": "markdown",
   "metadata": {},
   "source": [
    "Hash codes may vary across machines and Marcus Klang wrote this function to have reproducible codes"
   ]
  },
  {
   "cell_type": "code",
   "execution_count": 31,
   "metadata": {},
   "outputs": [],
   "source": [
    "def reproducible_hash(string):\n",
    "    \"\"\"\n",
    "    reproducible hash on any string\n",
    "\n",
    "    Arguments:\n",
    "       string: python string object\n",
    "\n",
    "    Returns:\n",
    "       signed int64\n",
    "    \"\"\"\n",
    "\n",
    "    # We are using MD5 for speed not security.\n",
    "    h = hashlib.md5(string.encode(\"utf-8\"), usedforsecurity=False)\n",
    "    return int.from_bytes(h.digest()[0:8], 'big', signed=True)"
   ]
  },
  {
   "cell_type": "code",
   "execution_count": 32,
   "metadata": {},
   "outputs": [
    {
     "data": {
      "text/plain": [
       "919145239626757800"
      ]
     },
     "execution_count": 32,
     "metadata": {},
     "output_type": "execute_result"
    }
   ],
   "source": [
    "reproducible_hash('a')"
   ]
  },
  {
   "cell_type": "code",
   "execution_count": 33,
   "metadata": {},
   "outputs": [
    {
     "data": {
      "text/plain": [
       "234"
      ]
     },
     "execution_count": 33,
     "metadata": {},
     "output_type": "execute_result"
    }
   ],
   "source": [
    "reproducible_hash('a') % MAX_CHARS"
   ]
  },
  {
   "cell_type": "markdown",
   "metadata": {},
   "source": [
    "### Converting $n$-grams to hash codes\n",
    "You will now convert the $n$-grams to hash codes\n"
   ]
  },
  {
   "cell_type": "code",
   "execution_count": 34,
   "metadata": {},
   "outputs": [],
   "source": [
    "MAXES = [MAX_CHARS, MAX_BIGRAMS, MAX_TRIGRAMS]"
   ]
  },
  {
   "cell_type": "markdown",
   "metadata": {},
   "source": [
    "Create a `hash_ngrams` function that creates a list of hash codes from a list of $n$-grams. As arguments, you will have the list of $n$-grams `[chars, bigrams, trigrams]` as well as the list of dividers (`MAXES`).\n",
    "\n",
    "The output format will be a list of three lists:\n",
    "\n",
    "`[char_hcodes, bigram_hcodes, trigram_hcodes]`."
   ]
  },
  {
   "cell_type": "code",
   "execution_count": 35,
   "metadata": {},
   "outputs": [],
   "source": [
    "# Write your code\n",
    "def hash_ngrams(ngrams, modulos):\n",
    "    hash_codes = []\n",
    "    for i in range(len(ngrams)):\n",
    "        work_list = []\n",
    "        for ngram in ngrams[i]:\n",
    "            work_list.append(reproducible_hash(ngram) % modulos[i])\n",
    "        hash_codes.append(work_list)\n",
    "    return hash_codes"
   ]
  },
  {
   "cell_type": "code",
   "execution_count": 36,
   "metadata": {},
   "outputs": [
    {
     "data": {
      "text/plain": [
       "[['t', 'r', 'y', ' ', 's', 'o', 'm', 'e', 't', 'h', 'i', 'n', 'g', '.'],\n",
       " ['tr',\n",
       "  'ry',\n",
       "  'y ',\n",
       "  ' s',\n",
       "  'so',\n",
       "  'om',\n",
       "  'me',\n",
       "  'et',\n",
       "  'th',\n",
       "  'hi',\n",
       "  'in',\n",
       "  'ng',\n",
       "  'g.'],\n",
       " ['try',\n",
       "  'ry ',\n",
       "  'y s',\n",
       "  ' so',\n",
       "  'som',\n",
       "  'ome',\n",
       "  'met',\n",
       "  'eth',\n",
       "  'thi',\n",
       "  'hin',\n",
       "  'ing',\n",
       "  'ng.']]"
      ]
     },
     "execution_count": 36,
     "metadata": {},
     "output_type": "execute_result"
    }
   ],
   "source": [
    "all_ngrams('try something.')"
   ]
  },
  {
   "cell_type": "code",
   "execution_count": 37,
   "metadata": {},
   "outputs": [
    {
     "data": {
      "text/plain": [
       "[[432, 437, 309, 86, 331, 97, 100, 32, 432, 332, 233, 310, 31, 442],\n",
       " [6, 765, 224, 203, 557, 176, 590, 711, 527, 757, 919, 57, 685],\n",
       " [848, 617, 468, 456, 873, 996, 287, 10, 817, 674, 960, 399]]"
      ]
     },
     "execution_count": 37,
     "metadata": {},
     "output_type": "execute_result"
    }
   ],
   "source": [
    "hash_ngrams(all_ngrams('try something.'), MAXES)"
   ]
  },
  {
   "cell_type": "markdown",
   "metadata": {},
   "source": [
    "### Functions to Count Hash Codes"
   ]
  },
  {
   "cell_type": "markdown",
   "metadata": {},
   "source": [
    "Write a function `calc_rel_freq(codes)` to count the codes. As in CLD3, you will return the relative frequencies.\n",
    "\n",
    "This is just an application of `Counter` to a list of codes and then a division by the length.\n",
    "\n",
    "The input is a list of codes and the output is a `Counter` object of relative frequencies."
   ]
  },
  {
   "cell_type": "code",
   "execution_count": 38,
   "metadata": {},
   "outputs": [],
   "source": [
    "# Write your code\n",
    "def calc_rel_freq(codes):\n",
    "    cnt = Counter(codes)\n",
    "    for key in cnt:\n",
    "        cnt[key] /= len(codes)\n",
    "    return cnt"
   ]
  },
  {
   "cell_type": "code",
   "execution_count": 39,
   "metadata": {},
   "outputs": [],
   "source": [
    "#calc_rel_freq(hash_ngrams(all_ngrams('try something.'), MAXES))"
   ]
  },
  {
   "cell_type": "code",
   "execution_count": 40,
   "metadata": {},
   "outputs": [
    {
     "data": {
      "text/plain": [
       "[[432, 437, 309, 86, 331, 97, 100, 32, 432, 332, 233, 310, 31, 442],\n",
       " [6, 765, 224, 203, 557, 176, 590, 711, 527, 757, 919, 57, 685],\n",
       " [848, 617, 468, 456, 873, 996, 287, 10, 817, 674, 960, 399]]"
      ]
     },
     "execution_count": 40,
     "metadata": {},
     "output_type": "execute_result"
    }
   ],
   "source": [
    "hash_ngrams(all_ngrams('try something.'), MAXES)"
   ]
  },
  {
   "cell_type": "code",
   "execution_count": 41,
   "metadata": {},
   "outputs": [
    {
     "data": {
      "text/plain": [
       "[Counter({432: 0.14285714285714285,\n",
       "          437: 0.07142857142857142,\n",
       "          309: 0.07142857142857142,\n",
       "          86: 0.07142857142857142,\n",
       "          331: 0.07142857142857142,\n",
       "          97: 0.07142857142857142,\n",
       "          100: 0.07142857142857142,\n",
       "          32: 0.07142857142857142,\n",
       "          332: 0.07142857142857142,\n",
       "          233: 0.07142857142857142,\n",
       "          310: 0.07142857142857142,\n",
       "          31: 0.07142857142857142,\n",
       "          442: 0.07142857142857142}),\n",
       " Counter({6: 0.07692307692307693,\n",
       "          765: 0.07692307692307693,\n",
       "          224: 0.07692307692307693,\n",
       "          203: 0.07692307692307693,\n",
       "          557: 0.07692307692307693,\n",
       "          176: 0.07692307692307693,\n",
       "          590: 0.07692307692307693,\n",
       "          711: 0.07692307692307693,\n",
       "          527: 0.07692307692307693,\n",
       "          757: 0.07692307692307693,\n",
       "          919: 0.07692307692307693,\n",
       "          57: 0.07692307692307693,\n",
       "          685: 0.07692307692307693}),\n",
       " Counter({848: 0.08333333333333333,\n",
       "          617: 0.08333333333333333,\n",
       "          468: 0.08333333333333333,\n",
       "          456: 0.08333333333333333,\n",
       "          873: 0.08333333333333333,\n",
       "          996: 0.08333333333333333,\n",
       "          287: 0.08333333333333333,\n",
       "          10: 0.08333333333333333,\n",
       "          817: 0.08333333333333333,\n",
       "          674: 0.08333333333333333,\n",
       "          960: 0.08333333333333333,\n",
       "          399: 0.08333333333333333})]"
      ]
     },
     "execution_count": 41,
     "metadata": {},
     "output_type": "execute_result"
    }
   ],
   "source": [
    "list(map(calc_rel_freq, hash_ngrams(all_ngrams('try something.'), MAXES)))"
   ]
  },
  {
   "cell_type": "markdown",
   "metadata": {},
   "source": [
    "### Merge the Dictionaries"
   ]
  },
  {
   "cell_type": "markdown",
   "metadata": {},
   "source": [
    "In the results above, we have three counter objects with numerical keys (the hash codes). You will build one dictionary of them.\n",
    "\n",
    "There is a key overlap and we must take care that a same hash code for the unigrams is not the same as in the bigrams. We will then shift the keys.\n",
    "\n",
    "The keys range from:\n",
    "1. Unigrams from 0 to 521, [0, MAX_CHARS[\n",
    "2. Bigrams from 0 to 1031, [0, MAX_BIGRAMS[\n",
    "3. Trigrams from 1 to 1031, [0, MAX_TRIGRAMS["
   ]
  },
  {
   "cell_type": "markdown",
   "metadata": {},
   "source": [
    "You will leave the unigrams keys as they are. You will shift the bigram keys by MAX_CHARS, and the trigram keys by MAX_CHARS + MAX_BIGRAMS. You can reuse the code below"
   ]
  },
  {
   "cell_type": "code",
   "execution_count": 42,
   "metadata": {},
   "outputs": [],
   "source": [
    "MAX_SHIFT = []\n",
    "for i in range(len(MAXES)):\n",
    "    MAX_SHIFT += [sum(MAXES[:i])]"
   ]
  },
  {
   "cell_type": "code",
   "execution_count": 43,
   "metadata": {},
   "outputs": [
    {
     "data": {
      "text/plain": [
       "[0, 521, 1552]"
      ]
     },
     "execution_count": 43,
     "metadata": {},
     "output_type": "execute_result"
    }
   ],
   "source": [
    "MAX_SHIFT"
   ]
  },
  {
   "cell_type": "markdown",
   "metadata": {},
   "source": [
    "Write a `shift_keys(dicts, MAX_SHIFT)` function that takes a list of dictionaries as input and the list of shifts and that a new unique dictionary, where the numerical keys have been shifted by the numbers in `MAX_SHIFT`"
   ]
  },
  {
   "cell_type": "code",
   "execution_count": 44,
   "metadata": {},
   "outputs": [],
   "source": [
    "# Write your code here\n",
    "def shift_keys(dicts, MAX_SHIFT):\n",
    "    new_dict = {}\n",
    "    for i, ngrams_d in enumerate(dicts):\n",
    "        for k, v in ngrams_d.items():\n",
    "            new_dict[k + MAX_SHIFT[i]] = v\n",
    "    return new_dict"
   ]
  },
  {
   "cell_type": "code",
   "execution_count": 45,
   "metadata": {},
   "outputs": [
    {
     "data": {
      "text/plain": [
       "[Counter({432: 0.14285714285714285,\n",
       "          437: 0.07142857142857142,\n",
       "          309: 0.07142857142857142,\n",
       "          86: 0.07142857142857142,\n",
       "          331: 0.07142857142857142,\n",
       "          97: 0.07142857142857142,\n",
       "          100: 0.07142857142857142,\n",
       "          32: 0.07142857142857142,\n",
       "          332: 0.07142857142857142,\n",
       "          233: 0.07142857142857142,\n",
       "          310: 0.07142857142857142,\n",
       "          31: 0.07142857142857142,\n",
       "          442: 0.07142857142857142}),\n",
       " Counter({6: 0.07692307692307693,\n",
       "          765: 0.07692307692307693,\n",
       "          224: 0.07692307692307693,\n",
       "          203: 0.07692307692307693,\n",
       "          557: 0.07692307692307693,\n",
       "          176: 0.07692307692307693,\n",
       "          590: 0.07692307692307693,\n",
       "          711: 0.07692307692307693,\n",
       "          527: 0.07692307692307693,\n",
       "          757: 0.07692307692307693,\n",
       "          919: 0.07692307692307693,\n",
       "          57: 0.07692307692307693,\n",
       "          685: 0.07692307692307693}),\n",
       " Counter({848: 0.08333333333333333,\n",
       "          617: 0.08333333333333333,\n",
       "          468: 0.08333333333333333,\n",
       "          456: 0.08333333333333333,\n",
       "          873: 0.08333333333333333,\n",
       "          996: 0.08333333333333333,\n",
       "          287: 0.08333333333333333,\n",
       "          10: 0.08333333333333333,\n",
       "          817: 0.08333333333333333,\n",
       "          674: 0.08333333333333333,\n",
       "          960: 0.08333333333333333,\n",
       "          399: 0.08333333333333333})]"
      ]
     },
     "execution_count": 45,
     "metadata": {},
     "output_type": "execute_result"
    }
   ],
   "source": [
    "list(map(calc_rel_freq, hash_ngrams(all_ngrams('try something.'), MAXES)))"
   ]
  },
  {
   "cell_type": "code",
   "execution_count": 46,
   "metadata": {},
   "outputs": [
    {
     "data": {
      "text/plain": [
       "{432: 0.14285714285714285,\n",
       " 437: 0.07142857142857142,\n",
       " 309: 0.07142857142857142,\n",
       " 86: 0.07142857142857142,\n",
       " 331: 0.07142857142857142,\n",
       " 97: 0.07142857142857142,\n",
       " 100: 0.07142857142857142,\n",
       " 32: 0.07142857142857142,\n",
       " 332: 0.07142857142857142,\n",
       " 233: 0.07142857142857142,\n",
       " 310: 0.07142857142857142,\n",
       " 31: 0.07142857142857142,\n",
       " 442: 0.07142857142857142,\n",
       " 527: 0.07692307692307693,\n",
       " 1286: 0.07692307692307693,\n",
       " 745: 0.07692307692307693,\n",
       " 724: 0.07692307692307693,\n",
       " 1078: 0.07692307692307693,\n",
       " 697: 0.07692307692307693,\n",
       " 1111: 0.07692307692307693,\n",
       " 1232: 0.07692307692307693,\n",
       " 1048: 0.07692307692307693,\n",
       " 1278: 0.07692307692307693,\n",
       " 1440: 0.07692307692307693,\n",
       " 578: 0.07692307692307693,\n",
       " 1206: 0.07692307692307693,\n",
       " 2400: 0.08333333333333333,\n",
       " 2169: 0.08333333333333333,\n",
       " 2020: 0.08333333333333333,\n",
       " 2008: 0.08333333333333333,\n",
       " 2425: 0.08333333333333333,\n",
       " 2548: 0.08333333333333333,\n",
       " 1839: 0.08333333333333333,\n",
       " 1562: 0.08333333333333333,\n",
       " 2369: 0.08333333333333333,\n",
       " 2226: 0.08333333333333333,\n",
       " 2512: 0.08333333333333333,\n",
       " 1951: 0.08333333333333333}"
      ]
     },
     "execution_count": 46,
     "metadata": {},
     "output_type": "execute_result"
    }
   ],
   "source": [
    "shift_keys(map(calc_rel_freq, hash_ngrams(\n",
    "    all_ngrams('try something.'), MAXES)), MAX_SHIFT)"
   ]
  },
  {
   "cell_type": "markdown",
   "metadata": {},
   "source": [
    "Finally, we assemble all these utilities in a function"
   ]
  },
  {
   "cell_type": "code",
   "execution_count": 47,
   "metadata": {},
   "outputs": [],
   "source": [
    "def build_freq_dict(sentence, MAXES=MAXES, MAX_SHIFT=MAX_SHIFT):\n",
    "    hngrams = hash_ngrams(all_ngrams(sentence), MAXES)\n",
    "    fhcodes = map(calc_rel_freq, hngrams)\n",
    "    return shift_keys(fhcodes, MAX_SHIFT)"
   ]
  },
  {
   "cell_type": "code",
   "execution_count": 48,
   "metadata": {},
   "outputs": [
    {
     "data": {
      "text/plain": [
       "{432: 0.14285714285714285,\n",
       " 437: 0.07142857142857142,\n",
       " 309: 0.07142857142857142,\n",
       " 86: 0.07142857142857142,\n",
       " 331: 0.07142857142857142,\n",
       " 97: 0.07142857142857142,\n",
       " 100: 0.07142857142857142,\n",
       " 32: 0.07142857142857142,\n",
       " 332: 0.07142857142857142,\n",
       " 233: 0.07142857142857142,\n",
       " 310: 0.07142857142857142,\n",
       " 31: 0.07142857142857142,\n",
       " 442: 0.07142857142857142,\n",
       " 527: 0.07692307692307693,\n",
       " 1286: 0.07692307692307693,\n",
       " 745: 0.07692307692307693,\n",
       " 724: 0.07692307692307693,\n",
       " 1078: 0.07692307692307693,\n",
       " 697: 0.07692307692307693,\n",
       " 1111: 0.07692307692307693,\n",
       " 1232: 0.07692307692307693,\n",
       " 1048: 0.07692307692307693,\n",
       " 1278: 0.07692307692307693,\n",
       " 1440: 0.07692307692307693,\n",
       " 578: 0.07692307692307693,\n",
       " 1206: 0.07692307692307693,\n",
       " 2400: 0.08333333333333333,\n",
       " 2169: 0.08333333333333333,\n",
       " 2020: 0.08333333333333333,\n",
       " 2008: 0.08333333333333333,\n",
       " 2425: 0.08333333333333333,\n",
       " 2548: 0.08333333333333333,\n",
       " 1839: 0.08333333333333333,\n",
       " 1562: 0.08333333333333333,\n",
       " 2369: 0.08333333333333333,\n",
       " 2226: 0.08333333333333333,\n",
       " 2512: 0.08333333333333333,\n",
       " 1951: 0.08333333333333333}"
      ]
     },
     "execution_count": 48,
     "metadata": {},
     "output_type": "execute_result"
    }
   ],
   "source": [
    "build_freq_dict('try something.')"
   ]
  },
  {
   "cell_type": "markdown",
   "metadata": {},
   "source": [
    "## Converting the Dataset\n",
    "We can now enrich the dataset with a numerical representation of the sentence. We use the utility functions and we call this new version: `dataset_num`"
   ]
  },
  {
   "cell_type": "code",
   "execution_count": 49,
   "metadata": {},
   "outputs": [
    {
     "data": {
      "text/plain": [
       "[('7736093', 'eng', 'We need to do our own investigation.'),\n",
       " ('3347603', 'eng', 'Would you like to go for a walk with me?')]"
      ]
     },
     "execution_count": 49,
     "metadata": {},
     "output_type": "execute_result"
    }
   ],
   "source": [
    "dataset[:2]"
   ]
  },
  {
   "cell_type": "code",
   "execution_count": 50,
   "metadata": {},
   "outputs": [
    {
     "name": "stderr",
     "output_type": "stream",
     "text": [
      "  0%|          | 0/50000 [00:00<?, ?it/s]"
     ]
    },
    {
     "name": "stderr",
     "output_type": "stream",
     "text": [
      "100%|██████████| 50000/50000 [00:08<00:00, 5973.79it/s]\n"
     ]
    }
   ],
   "source": [
    "dataset_num = []\n",
    "for datapoint in tqdm(dataset):\n",
    "    dataset_num += [list(datapoint) + [build_freq_dict(datapoint[2])]]"
   ]
  },
  {
   "cell_type": "code",
   "execution_count": 51,
   "metadata": {},
   "outputs": [
    {
     "data": {
      "text/plain": [
       "[['7736093',\n",
       "  'eng',\n",
       "  'We need to do our own investigation.',\n",
       "  {301: 0.05555555555555555,\n",
       "   32: 0.1111111111111111,\n",
       "   86: 0.16666666666666666,\n",
       "   310: 0.1111111111111111,\n",
       "   371: 0.05555555555555555,\n",
       "   432: 0.08333333333333333,\n",
       "   97: 0.1388888888888889,\n",
       "   69: 0.027777777777777776,\n",
       "   437: 0.027777777777777776,\n",
       "   233: 0.08333333333333333,\n",
       "   121: 0.027777777777777776,\n",
       "   331: 0.027777777777777776,\n",
       "   31: 0.027777777777777776,\n",
       "   234: 0.027777777777777776,\n",
       "   442: 0.027777777777777776,\n",
       "   1531: 0.02857142857142857,\n",
       "   995: 0.02857142857142857,\n",
       "   1540: 0.02857142857142857,\n",
       "   1284: 0.02857142857142857,\n",
       "   564: 0.02857142857142857,\n",
       "   1403: 0.02857142857142857,\n",
       "   774: 0.02857142857142857,\n",
       "   860: 0.02857142857142857,\n",
       "   761: 0.02857142857142857,\n",
       "   795: 0.05714285714285714,\n",
       "   677: 0.02857142857142857,\n",
       "   1081: 0.02857142857142857,\n",
       "   1208: 0.05714285714285714,\n",
       "   1179: 0.02857142857142857,\n",
       "   1213: 0.02857142857142857,\n",
       "   555: 0.02857142857142857,\n",
       "   721: 0.02857142857142857,\n",
       "   1530: 0.02857142857142857,\n",
       "   1222: 0.02857142857142857,\n",
       "   894: 0.02857142857142857,\n",
       "   1440: 0.05714285714285714,\n",
       "   1201: 0.02857142857142857,\n",
       "   1465: 0.02857142857142857,\n",
       "   1319: 0.02857142857142857,\n",
       "   533: 0.02857142857142857,\n",
       "   863: 0.05714285714285714,\n",
       "   1029: 0.02857142857142857,\n",
       "   1415: 0.02857142857142857,\n",
       "   690: 0.02857142857142857,\n",
       "   879: 0.02857142857142857,\n",
       "   841: 0.02857142857142857,\n",
       "   2081: 0.029411764705882353,\n",
       "   2510: 0.029411764705882353,\n",
       "   2144: 0.029411764705882353,\n",
       "   2306: 0.029411764705882353,\n",
       "   1648: 0.029411764705882353,\n",
       "   1633: 0.029411764705882353,\n",
       "   2215: 0.029411764705882353,\n",
       "   1943: 0.029411764705882353,\n",
       "   1619: 0.029411764705882353,\n",
       "   1881: 0.029411764705882353,\n",
       "   1919: 0.029411764705882353,\n",
       "   2491: 0.058823529411764705,\n",
       "   2511: 0.029411764705882353,\n",
       "   2431: 0.029411764705882353,\n",
       "   2137: 0.029411764705882353,\n",
       "   2566: 0.029411764705882353,\n",
       "   2291: 0.029411764705882353,\n",
       "   1927: 0.029411764705882353,\n",
       "   1721: 0.029411764705882353,\n",
       "   1622: 0.029411764705882353,\n",
       "   2208: 0.029411764705882353,\n",
       "   2195: 0.029411764705882353,\n",
       "   2260: 0.029411764705882353,\n",
       "   1722: 0.029411764705882353,\n",
       "   2497: 0.029411764705882353,\n",
       "   1686: 0.029411764705882353,\n",
       "   2451: 0.029411764705882353,\n",
       "   1564: 0.029411764705882353,\n",
       "   1670: 0.029411764705882353,\n",
       "   1573: 0.029411764705882353,\n",
       "   2266: 0.029411764705882353,\n",
       "   2495: 0.029411764705882353,\n",
       "   1567: 0.029411764705882353}],\n",
       " ['3347603',\n",
       "  'eng',\n",
       "  'Would you like to go for a walk with me?',\n",
       "  {301: 0.075,\n",
       "   97: 0.125,\n",
       "   69: 0.05,\n",
       "   15: 0.075,\n",
       "   371: 0.025,\n",
       "   86: 0.225,\n",
       "   309: 0.025,\n",
       "   233: 0.05,\n",
       "   514: 0.05,\n",
       "   32: 0.05,\n",
       "   432: 0.05,\n",
       "   31: 0.025,\n",
       "   327: 0.025,\n",
       "   437: 0.025,\n",
       "   234: 0.05,\n",
       "   332: 0.025,\n",
       "   100: 0.025,\n",
       "   368: 0.025,\n",
       "   1419: 0.02564102564102564,\n",
       "   1179: 0.05128205128205128,\n",
       "   875: 0.02564102564102564,\n",
       "   809: 0.02564102564102564,\n",
       "   774: 0.02564102564102564,\n",
       "   1073: 0.02564102564102564,\n",
       "   965: 0.02564102564102564,\n",
       "   1547: 0.05128205128205128,\n",
       "   900: 0.02564102564102564,\n",
       "   909: 0.02564102564102564,\n",
       "   735: 0.02564102564102564,\n",
       "   1070: 0.02564102564102564,\n",
       "   995: 0.02564102564102564,\n",
       "   860: 0.02564102564102564,\n",
       "   761: 0.02564102564102564,\n",
       "   795: 0.05128205128205128,\n",
       "   982: 0.02564102564102564,\n",
       "   742: 0.02564102564102564,\n",
       "   819: 0.02564102564102564,\n",
       "   1207: 0.02564102564102564,\n",
       "   555: 0.02564102564102564,\n",
       "   614: 0.02564102564102564,\n",
       "   1115: 0.02564102564102564,\n",
       "   624: 0.05128205128205128,\n",
       "   678: 0.02564102564102564,\n",
       "   640: 0.02564102564102564,\n",
       "   607: 0.02564102564102564,\n",
       "   1453: 0.02564102564102564,\n",
       "   1147: 0.02564102564102564,\n",
       "   812: 0.02564102564102564,\n",
       "   1048: 0.02564102564102564,\n",
       "   629: 0.02564102564102564,\n",
       "   1466: 0.02564102564102564,\n",
       "   1111: 0.02564102564102564,\n",
       "   784: 0.02564102564102564,\n",
       "   2017: 0.02631578947368421,\n",
       "   1634: 0.02631578947368421,\n",
       "   2399: 0.02631578947368421,\n",
       "   1626: 0.02631578947368421,\n",
       "   2334: 0.02631578947368421,\n",
       "   1858: 0.02631578947368421,\n",
       "   2486: 0.02631578947368421,\n",
       "   2508: 0.02631578947368421,\n",
       "   1770: 0.02631578947368421,\n",
       "   1997: 0.02631578947368421,\n",
       "   2093: 0.02631578947368421,\n",
       "   2290: 0.02631578947368421,\n",
       "   1976: 0.02631578947368421,\n",
       "   2000: 0.02631578947368421,\n",
       "   1943: 0.02631578947368421,\n",
       "   1619: 0.02631578947368421,\n",
       "   2194: 0.02631578947368421,\n",
       "   2380: 0.02631578947368421,\n",
       "   2247: 0.02631578947368421,\n",
       "   2094: 0.02631578947368421,\n",
       "   1788: 0.02631578947368421,\n",
       "   1680: 0.02631578947368421,\n",
       "   2372: 0.02631578947368421,\n",
       "   2405: 0.02631578947368421,\n",
       "   2536: 0.02631578947368421,\n",
       "   2376: 0.02631578947368421,\n",
       "   2377: 0.02631578947368421,\n",
       "   1602: 0.02631578947368421,\n",
       "   2332: 0.02631578947368421,\n",
       "   1681: 0.02631578947368421,\n",
       "   2497: 0.02631578947368421,\n",
       "   2049: 0.02631578947368421,\n",
       "   1667: 0.02631578947368421,\n",
       "   1604: 0.02631578947368421,\n",
       "   1701: 0.02631578947368421,\n",
       "   1906: 0.02631578947368421,\n",
       "   1961: 0.02631578947368421,\n",
       "   1882: 0.02631578947368421}]]"
      ]
     },
     "execution_count": 51,
     "metadata": {},
     "output_type": "execute_result"
    }
   ],
   "source": [
    "dataset_num[:2]"
   ]
  },
  {
   "cell_type": "markdown",
   "metadata": {},
   "source": [
    "## Programming: Building ${X}$"
   ]
  },
  {
   "cell_type": "markdown",
   "metadata": {},
   "source": [
    "You will now build the ${X}$ matrix."
   ]
  },
  {
   "cell_type": "markdown",
   "metadata": {},
   "source": [
    "### Vectorizing the features"
   ]
  },
  {
   "cell_type": "markdown",
   "metadata": {},
   "source": [
    "The CLD3 architecture uses embeddings. In this lab, we will simplify it and we will use a feature vector instead consisting of the character frequencies. For example, you will represent the text:\n",
    "\n",
    "`\"Let's try something.\"`\n",
    "\n",
    "with:\n",
    "\n",
    "`{'l': 0.05, 'e': 0.1, 't': 0.15, \"'\": 0.05, 's': 0.1, ' ': 0.1, \n",
    " 'r': 0.05, 'y': 0.05, 'o': 0.05, 'm': 0.05, 'h': 0.05, 'i': 0.05, \n",
    " 'n': 0.05, 'g': 0.05, '.': 0.05}`\n",
    "\n",
    "Note that we used characters and not codes to make it more legible.\n",
    "\n",
    "To create the ${X}$ matrix, we need to transform the dictionaries of `dataset_num` into numerical vectors. The `DictVectorizer` class from the scikit-learn library, see here [https://scikit-learn.org/stable/modules/generated/sklearn.feature_extraction.DictVectorizer.html], has two methods, `fit()` and `transform()`, and a combination of both `fit_transform()` to convert dictionaries into such vectors."
   ]
  },
  {
   "cell_type": "markdown",
   "metadata": {},
   "source": [
    "You will now write the code to:\n",
    "\n",
    "1. Extract the hash code frequency dictionaries from `dataset_num` corresponding to its 3rd index;\n",
    "2. Convert the list of dictionaries into an ${X}$ matrix using `DictVectorizer`."
   ]
  },
  {
   "cell_type": "markdown",
   "metadata": {},
   "source": [
    "#### Extracting the character frequencies"
   ]
  },
  {
   "cell_type": "markdown",
   "metadata": {},
   "source": [
    "Produce a new list of datapoints with the unigrams only. Each item in this list will be a dictionary. You will call it `X_cat`"
   ]
  },
  {
   "cell_type": "code",
   "execution_count": 52,
   "metadata": {},
   "outputs": [],
   "source": [
    "# Write your code here\n",
    "X_cat = []\n",
    "for datapoint in dataset_num:\n",
    "    X_cat += [datapoint[3]]"
   ]
  },
  {
   "cell_type": "code",
   "execution_count": 53,
   "metadata": {},
   "outputs": [
    {
     "data": {
      "text/plain": [
       "{301: 0.05555555555555555,\n",
       " 32: 0.1111111111111111,\n",
       " 86: 0.16666666666666666,\n",
       " 310: 0.1111111111111111,\n",
       " 371: 0.05555555555555555,\n",
       " 432: 0.08333333333333333,\n",
       " 97: 0.1388888888888889,\n",
       " 69: 0.027777777777777776,\n",
       " 437: 0.027777777777777776,\n",
       " 233: 0.08333333333333333,\n",
       " 121: 0.027777777777777776,\n",
       " 331: 0.027777777777777776,\n",
       " 31: 0.027777777777777776,\n",
       " 234: 0.027777777777777776,\n",
       " 442: 0.027777777777777776,\n",
       " 1531: 0.02857142857142857,\n",
       " 995: 0.02857142857142857,\n",
       " 1540: 0.02857142857142857,\n",
       " 1284: 0.02857142857142857,\n",
       " 564: 0.02857142857142857,\n",
       " 1403: 0.02857142857142857,\n",
       " 774: 0.02857142857142857,\n",
       " 860: 0.02857142857142857,\n",
       " 761: 0.02857142857142857,\n",
       " 795: 0.05714285714285714,\n",
       " 677: 0.02857142857142857,\n",
       " 1081: 0.02857142857142857,\n",
       " 1208: 0.05714285714285714,\n",
       " 1179: 0.02857142857142857,\n",
       " 1213: 0.02857142857142857,\n",
       " 555: 0.02857142857142857,\n",
       " 721: 0.02857142857142857,\n",
       " 1530: 0.02857142857142857,\n",
       " 1222: 0.02857142857142857,\n",
       " 894: 0.02857142857142857,\n",
       " 1440: 0.05714285714285714,\n",
       " 1201: 0.02857142857142857,\n",
       " 1465: 0.02857142857142857,\n",
       " 1319: 0.02857142857142857,\n",
       " 533: 0.02857142857142857,\n",
       " 863: 0.05714285714285714,\n",
       " 1029: 0.02857142857142857,\n",
       " 1415: 0.02857142857142857,\n",
       " 690: 0.02857142857142857,\n",
       " 879: 0.02857142857142857,\n",
       " 841: 0.02857142857142857,\n",
       " 2081: 0.029411764705882353,\n",
       " 2510: 0.029411764705882353,\n",
       " 2144: 0.029411764705882353,\n",
       " 2306: 0.029411764705882353,\n",
       " 1648: 0.029411764705882353,\n",
       " 1633: 0.029411764705882353,\n",
       " 2215: 0.029411764705882353,\n",
       " 1943: 0.029411764705882353,\n",
       " 1619: 0.029411764705882353,\n",
       " 1881: 0.029411764705882353,\n",
       " 1919: 0.029411764705882353,\n",
       " 2491: 0.058823529411764705,\n",
       " 2511: 0.029411764705882353,\n",
       " 2431: 0.029411764705882353,\n",
       " 2137: 0.029411764705882353,\n",
       " 2566: 0.029411764705882353,\n",
       " 2291: 0.029411764705882353,\n",
       " 1927: 0.029411764705882353,\n",
       " 1721: 0.029411764705882353,\n",
       " 1622: 0.029411764705882353,\n",
       " 2208: 0.029411764705882353,\n",
       " 2195: 0.029411764705882353,\n",
       " 2260: 0.029411764705882353,\n",
       " 1722: 0.029411764705882353,\n",
       " 2497: 0.029411764705882353,\n",
       " 1686: 0.029411764705882353,\n",
       " 2451: 0.029411764705882353,\n",
       " 1564: 0.029411764705882353,\n",
       " 1670: 0.029411764705882353,\n",
       " 1573: 0.029411764705882353,\n",
       " 2266: 0.029411764705882353,\n",
       " 2495: 0.029411764705882353,\n",
       " 1567: 0.029411764705882353}"
      ]
     },
     "execution_count": 53,
     "metadata": {},
     "output_type": "execute_result"
    }
   ],
   "source": [
    "X_cat[0]"
   ]
  },
  {
   "cell_type": "markdown",
   "metadata": {},
   "source": [
    "#### Vectorize `X_cat`"
   ]
  },
  {
   "cell_type": "markdown",
   "metadata": {},
   "source": [
    "Convert your `X_cat` matrix into a numerical representation using `DictVectorizer`: https://scikit-learn.org/stable/modules/generated/sklearn.feature_extraction.DictVectorizer.html. You will set the `sparse` argument to `False` as PyTorch only accepts such matrices. Call the result `X`.\n",
    "\n",
    "Note that PyTorch may support sparse matrices in the future: https://pytorch.org/docs/stable/sparse.html. For now it is a beta feature."
   ]
  },
  {
   "cell_type": "code",
   "execution_count": 54,
   "metadata": {},
   "outputs": [],
   "source": [
    "# Write your code here\n",
    "vectorizer = DictVectorizer(sparse=False)\n",
    "X = vectorizer.fit_transform(X_cat)"
   ]
  },
  {
   "cell_type": "code",
   "execution_count": 55,
   "metadata": {},
   "outputs": [
    {
     "data": {
      "text/plain": [
       "(50000, 2582)"
      ]
     },
     "execution_count": 55,
     "metadata": {},
     "output_type": "execute_result"
    }
   ],
   "source": [
    "X.shape"
   ]
  },
  {
   "cell_type": "code",
   "execution_count": 56,
   "metadata": {},
   "outputs": [
    {
     "data": {
      "text/plain": [
       "array([[0. , 0. , 0. , ..., 0. , 0. , 0. ],\n",
       "       [0. , 0. , 0. , ..., 0. , 0. , 0. ],\n",
       "       [0. , 0. , 0.2, ..., 0. , 0. , 0. ],\n",
       "       [0. , 0. , 0. , ..., 0. , 0. , 0. ],\n",
       "       [0. , 0. , 0. , ..., 0. , 0. , 0. ]])"
      ]
     },
     "execution_count": 56,
     "metadata": {},
     "output_type": "execute_result"
    }
   ],
   "source": [
    "X[:5]"
   ]
  },
  {
   "cell_type": "markdown",
   "metadata": {},
   "source": [
    "## Programming: Building $\\mathbf{y}$"
   ]
  },
  {
   "cell_type": "markdown",
   "metadata": {},
   "source": [
    "You will now convert the list of language symbols into a $\\mathbf{y}$ vector"
   ]
  },
  {
   "cell_type": "markdown",
   "metadata": {},
   "source": [
    "Extract the language symbols from `dataset_small_feat` and call the resulting list `y_cat`"
   ]
  },
  {
   "cell_type": "code",
   "execution_count": 57,
   "metadata": {},
   "outputs": [],
   "source": [
    "# Write your code here\n",
    "y_cat = [datapoint[1] for datapoint in dataset_num]"
   ]
  },
  {
   "cell_type": "code",
   "execution_count": 58,
   "metadata": {},
   "outputs": [
    {
     "data": {
      "text/plain": [
       "['eng', 'eng', 'cmn', 'eng', 'eng']"
      ]
     },
     "execution_count": 58,
     "metadata": {},
     "output_type": "execute_result"
    }
   ],
   "source": [
    "y_cat[:5]"
   ]
  },
  {
   "cell_type": "markdown",
   "metadata": {},
   "source": [
    "Extract the set of language symbols and name it `y_symbols`. Then build two indices mapping the symbols to integers and the integers to symbols. Both indices will be dictionaries that you will call: `lang2idx`and `idx2lang`. Such a conversion is not necessary with sklearn. We do it because many other many machine-learning toolkits (keras or pytorch) require a numerical $\\mathbf{y}$ vector and to learn how to carry out this conversion."
   ]
  },
  {
   "cell_type": "code",
   "execution_count": 59,
   "metadata": {},
   "outputs": [],
   "source": [
    "# Write your code here\n",
    "y_symbols = list(set(y_cat))\n",
    "y_symbols\n",
    "idx2lang = dict(enumerate(y_symbols))\n",
    "lang2idx = {v: k for k, v in idx2lang.items()}"
   ]
  },
  {
   "cell_type": "code",
   "execution_count": 60,
   "metadata": {},
   "outputs": [
    {
     "data": {
      "text/plain": [
       "{0: 'dan', 1: 'fra', 2: 'cmn', 3: 'eng', 4: 'jpn', 5: 'swe'}"
      ]
     },
     "execution_count": 60,
     "metadata": {},
     "output_type": "execute_result"
    }
   ],
   "source": [
    "idx2lang"
   ]
  },
  {
   "cell_type": "code",
   "execution_count": 61,
   "metadata": {},
   "outputs": [
    {
     "data": {
      "text/plain": [
       "{'dan': 0, 'fra': 1, 'cmn': 2, 'eng': 3, 'jpn': 4, 'swe': 5}"
      ]
     },
     "execution_count": 61,
     "metadata": {},
     "output_type": "execute_result"
    }
   ],
   "source": [
    "lang2idx"
   ]
  },
  {
   "cell_type": "markdown",
   "metadata": {},
   "source": [
    "Convert your `y_cat` vector into a numerical vector. Call this vector `y`."
   ]
  },
  {
   "cell_type": "code",
   "execution_count": 62,
   "metadata": {},
   "outputs": [],
   "source": [
    "# Write your code here\n",
    "y = np.array([lang2idx[lang] for lang in y_cat])"
   ]
  },
  {
   "cell_type": "code",
   "execution_count": 63,
   "metadata": {},
   "outputs": [
    {
     "data": {
      "text/plain": [
       "array([3, 3, 2, 3, 3])"
      ]
     },
     "execution_count": 63,
     "metadata": {},
     "output_type": "execute_result"
    }
   ],
   "source": [
    "y[:5]"
   ]
  },
  {
   "cell_type": "markdown",
   "metadata": {},
   "source": [
    "## Programming: Building the Model"
   ]
  },
  {
   "cell_type": "markdown",
   "metadata": {},
   "source": [
    "Create a neural network using sklearn with a hidden layer of 50 nodes and a relu activation layer: https://scikit-learn.org/stable/modules/neural_networks_supervised.html. Set the maximal number of iterations to 5, in the beginning, and verbose to True. Use the default values for the rest. You will call your classifier `clf`"
   ]
  },
  {
   "cell_type": "code",
   "execution_count": 64,
   "metadata": {},
   "outputs": [],
   "source": [
    "# Write your code here\n",
    "clf = MLPClassifier(hidden_layer_sizes=(50,), max_iter=10, verbose=True)"
   ]
  },
  {
   "cell_type": "code",
   "execution_count": 65,
   "metadata": {},
   "outputs": [
    {
     "data": {
      "text/html": [
       "<style>#sk-container-id-1 {\n",
       "  /* Definition of color scheme common for light and dark mode */\n",
       "  --sklearn-color-text: black;\n",
       "  --sklearn-color-line: gray;\n",
       "  /* Definition of color scheme for unfitted estimators */\n",
       "  --sklearn-color-unfitted-level-0: #fff5e6;\n",
       "  --sklearn-color-unfitted-level-1: #f6e4d2;\n",
       "  --sklearn-color-unfitted-level-2: #ffe0b3;\n",
       "  --sklearn-color-unfitted-level-3: chocolate;\n",
       "  /* Definition of color scheme for fitted estimators */\n",
       "  --sklearn-color-fitted-level-0: #f0f8ff;\n",
       "  --sklearn-color-fitted-level-1: #d4ebff;\n",
       "  --sklearn-color-fitted-level-2: #b3dbfd;\n",
       "  --sklearn-color-fitted-level-3: cornflowerblue;\n",
       "\n",
       "  /* Specific color for light theme */\n",
       "  --sklearn-color-text-on-default-background: var(--sg-text-color, var(--theme-code-foreground, var(--jp-content-font-color1, black)));\n",
       "  --sklearn-color-background: var(--sg-background-color, var(--theme-background, var(--jp-layout-color0, white)));\n",
       "  --sklearn-color-border-box: var(--sg-text-color, var(--theme-code-foreground, var(--jp-content-font-color1, black)));\n",
       "  --sklearn-color-icon: #696969;\n",
       "\n",
       "  @media (prefers-color-scheme: dark) {\n",
       "    /* Redefinition of color scheme for dark theme */\n",
       "    --sklearn-color-text-on-default-background: var(--sg-text-color, var(--theme-code-foreground, var(--jp-content-font-color1, white)));\n",
       "    --sklearn-color-background: var(--sg-background-color, var(--theme-background, var(--jp-layout-color0, #111)));\n",
       "    --sklearn-color-border-box: var(--sg-text-color, var(--theme-code-foreground, var(--jp-content-font-color1, white)));\n",
       "    --sklearn-color-icon: #878787;\n",
       "  }\n",
       "}\n",
       "\n",
       "#sk-container-id-1 {\n",
       "  color: var(--sklearn-color-text);\n",
       "}\n",
       "\n",
       "#sk-container-id-1 pre {\n",
       "  padding: 0;\n",
       "}\n",
       "\n",
       "#sk-container-id-1 input.sk-hidden--visually {\n",
       "  border: 0;\n",
       "  clip: rect(1px 1px 1px 1px);\n",
       "  clip: rect(1px, 1px, 1px, 1px);\n",
       "  height: 1px;\n",
       "  margin: -1px;\n",
       "  overflow: hidden;\n",
       "  padding: 0;\n",
       "  position: absolute;\n",
       "  width: 1px;\n",
       "}\n",
       "\n",
       "#sk-container-id-1 div.sk-dashed-wrapped {\n",
       "  border: 1px dashed var(--sklearn-color-line);\n",
       "  margin: 0 0.4em 0.5em 0.4em;\n",
       "  box-sizing: border-box;\n",
       "  padding-bottom: 0.4em;\n",
       "  background-color: var(--sklearn-color-background);\n",
       "}\n",
       "\n",
       "#sk-container-id-1 div.sk-container {\n",
       "  /* jupyter's `normalize.less` sets `[hidden] { display: none; }`\n",
       "     but bootstrap.min.css set `[hidden] { display: none !important; }`\n",
       "     so we also need the `!important` here to be able to override the\n",
       "     default hidden behavior on the sphinx rendered scikit-learn.org.\n",
       "     See: https://github.com/scikit-learn/scikit-learn/issues/21755 */\n",
       "  display: inline-block !important;\n",
       "  position: relative;\n",
       "}\n",
       "\n",
       "#sk-container-id-1 div.sk-text-repr-fallback {\n",
       "  display: none;\n",
       "}\n",
       "\n",
       "div.sk-parallel-item,\n",
       "div.sk-serial,\n",
       "div.sk-item {\n",
       "  /* draw centered vertical line to link estimators */\n",
       "  background-image: linear-gradient(var(--sklearn-color-text-on-default-background), var(--sklearn-color-text-on-default-background));\n",
       "  background-size: 2px 100%;\n",
       "  background-repeat: no-repeat;\n",
       "  background-position: center center;\n",
       "}\n",
       "\n",
       "/* Parallel-specific style estimator block */\n",
       "\n",
       "#sk-container-id-1 div.sk-parallel-item::after {\n",
       "  content: \"\";\n",
       "  width: 100%;\n",
       "  border-bottom: 2px solid var(--sklearn-color-text-on-default-background);\n",
       "  flex-grow: 1;\n",
       "}\n",
       "\n",
       "#sk-container-id-1 div.sk-parallel {\n",
       "  display: flex;\n",
       "  align-items: stretch;\n",
       "  justify-content: center;\n",
       "  background-color: var(--sklearn-color-background);\n",
       "  position: relative;\n",
       "}\n",
       "\n",
       "#sk-container-id-1 div.sk-parallel-item {\n",
       "  display: flex;\n",
       "  flex-direction: column;\n",
       "}\n",
       "\n",
       "#sk-container-id-1 div.sk-parallel-item:first-child::after {\n",
       "  align-self: flex-end;\n",
       "  width: 50%;\n",
       "}\n",
       "\n",
       "#sk-container-id-1 div.sk-parallel-item:last-child::after {\n",
       "  align-self: flex-start;\n",
       "  width: 50%;\n",
       "}\n",
       "\n",
       "#sk-container-id-1 div.sk-parallel-item:only-child::after {\n",
       "  width: 0;\n",
       "}\n",
       "\n",
       "/* Serial-specific style estimator block */\n",
       "\n",
       "#sk-container-id-1 div.sk-serial {\n",
       "  display: flex;\n",
       "  flex-direction: column;\n",
       "  align-items: center;\n",
       "  background-color: var(--sklearn-color-background);\n",
       "  padding-right: 1em;\n",
       "  padding-left: 1em;\n",
       "}\n",
       "\n",
       "\n",
       "/* Toggleable style: style used for estimator/Pipeline/ColumnTransformer box that is\n",
       "clickable and can be expanded/collapsed.\n",
       "- Pipeline and ColumnTransformer use this feature and define the default style\n",
       "- Estimators will overwrite some part of the style using the `sk-estimator` class\n",
       "*/\n",
       "\n",
       "/* Pipeline and ColumnTransformer style (default) */\n",
       "\n",
       "#sk-container-id-1 div.sk-toggleable {\n",
       "  /* Default theme specific background. It is overwritten whether we have a\n",
       "  specific estimator or a Pipeline/ColumnTransformer */\n",
       "  background-color: var(--sklearn-color-background);\n",
       "}\n",
       "\n",
       "/* Toggleable label */\n",
       "#sk-container-id-1 label.sk-toggleable__label {\n",
       "  cursor: pointer;\n",
       "  display: block;\n",
       "  width: 100%;\n",
       "  margin-bottom: 0;\n",
       "  padding: 0.5em;\n",
       "  box-sizing: border-box;\n",
       "  text-align: center;\n",
       "}\n",
       "\n",
       "#sk-container-id-1 label.sk-toggleable__label-arrow:before {\n",
       "  /* Arrow on the left of the label */\n",
       "  content: \"▸\";\n",
       "  float: left;\n",
       "  margin-right: 0.25em;\n",
       "  color: var(--sklearn-color-icon);\n",
       "}\n",
       "\n",
       "#sk-container-id-1 label.sk-toggleable__label-arrow:hover:before {\n",
       "  color: var(--sklearn-color-text);\n",
       "}\n",
       "\n",
       "/* Toggleable content - dropdown */\n",
       "\n",
       "#sk-container-id-1 div.sk-toggleable__content {\n",
       "  max-height: 0;\n",
       "  max-width: 0;\n",
       "  overflow: hidden;\n",
       "  text-align: left;\n",
       "  /* unfitted */\n",
       "  background-color: var(--sklearn-color-unfitted-level-0);\n",
       "}\n",
       "\n",
       "#sk-container-id-1 div.sk-toggleable__content.fitted {\n",
       "  /* fitted */\n",
       "  background-color: var(--sklearn-color-fitted-level-0);\n",
       "}\n",
       "\n",
       "#sk-container-id-1 div.sk-toggleable__content pre {\n",
       "  margin: 0.2em;\n",
       "  border-radius: 0.25em;\n",
       "  color: var(--sklearn-color-text);\n",
       "  /* unfitted */\n",
       "  background-color: var(--sklearn-color-unfitted-level-0);\n",
       "}\n",
       "\n",
       "#sk-container-id-1 div.sk-toggleable__content.fitted pre {\n",
       "  /* unfitted */\n",
       "  background-color: var(--sklearn-color-fitted-level-0);\n",
       "}\n",
       "\n",
       "#sk-container-id-1 input.sk-toggleable__control:checked~div.sk-toggleable__content {\n",
       "  /* Expand drop-down */\n",
       "  max-height: 200px;\n",
       "  max-width: 100%;\n",
       "  overflow: auto;\n",
       "}\n",
       "\n",
       "#sk-container-id-1 input.sk-toggleable__control:checked~label.sk-toggleable__label-arrow:before {\n",
       "  content: \"▾\";\n",
       "}\n",
       "\n",
       "/* Pipeline/ColumnTransformer-specific style */\n",
       "\n",
       "#sk-container-id-1 div.sk-label input.sk-toggleable__control:checked~label.sk-toggleable__label {\n",
       "  color: var(--sklearn-color-text);\n",
       "  background-color: var(--sklearn-color-unfitted-level-2);\n",
       "}\n",
       "\n",
       "#sk-container-id-1 div.sk-label.fitted input.sk-toggleable__control:checked~label.sk-toggleable__label {\n",
       "  background-color: var(--sklearn-color-fitted-level-2);\n",
       "}\n",
       "\n",
       "/* Estimator-specific style */\n",
       "\n",
       "/* Colorize estimator box */\n",
       "#sk-container-id-1 div.sk-estimator input.sk-toggleable__control:checked~label.sk-toggleable__label {\n",
       "  /* unfitted */\n",
       "  background-color: var(--sklearn-color-unfitted-level-2);\n",
       "}\n",
       "\n",
       "#sk-container-id-1 div.sk-estimator.fitted input.sk-toggleable__control:checked~label.sk-toggleable__label {\n",
       "  /* fitted */\n",
       "  background-color: var(--sklearn-color-fitted-level-2);\n",
       "}\n",
       "\n",
       "#sk-container-id-1 div.sk-label label.sk-toggleable__label,\n",
       "#sk-container-id-1 div.sk-label label {\n",
       "  /* The background is the default theme color */\n",
       "  color: var(--sklearn-color-text-on-default-background);\n",
       "}\n",
       "\n",
       "/* On hover, darken the color of the background */\n",
       "#sk-container-id-1 div.sk-label:hover label.sk-toggleable__label {\n",
       "  color: var(--sklearn-color-text);\n",
       "  background-color: var(--sklearn-color-unfitted-level-2);\n",
       "}\n",
       "\n",
       "/* Label box, darken color on hover, fitted */\n",
       "#sk-container-id-1 div.sk-label.fitted:hover label.sk-toggleable__label.fitted {\n",
       "  color: var(--sklearn-color-text);\n",
       "  background-color: var(--sklearn-color-fitted-level-2);\n",
       "}\n",
       "\n",
       "/* Estimator label */\n",
       "\n",
       "#sk-container-id-1 div.sk-label label {\n",
       "  font-family: monospace;\n",
       "  font-weight: bold;\n",
       "  display: inline-block;\n",
       "  line-height: 1.2em;\n",
       "}\n",
       "\n",
       "#sk-container-id-1 div.sk-label-container {\n",
       "  text-align: center;\n",
       "}\n",
       "\n",
       "/* Estimator-specific */\n",
       "#sk-container-id-1 div.sk-estimator {\n",
       "  font-family: monospace;\n",
       "  border: 1px dotted var(--sklearn-color-border-box);\n",
       "  border-radius: 0.25em;\n",
       "  box-sizing: border-box;\n",
       "  margin-bottom: 0.5em;\n",
       "  /* unfitted */\n",
       "  background-color: var(--sklearn-color-unfitted-level-0);\n",
       "}\n",
       "\n",
       "#sk-container-id-1 div.sk-estimator.fitted {\n",
       "  /* fitted */\n",
       "  background-color: var(--sklearn-color-fitted-level-0);\n",
       "}\n",
       "\n",
       "/* on hover */\n",
       "#sk-container-id-1 div.sk-estimator:hover {\n",
       "  /* unfitted */\n",
       "  background-color: var(--sklearn-color-unfitted-level-2);\n",
       "}\n",
       "\n",
       "#sk-container-id-1 div.sk-estimator.fitted:hover {\n",
       "  /* fitted */\n",
       "  background-color: var(--sklearn-color-fitted-level-2);\n",
       "}\n",
       "\n",
       "/* Specification for estimator info (e.g. \"i\" and \"?\") */\n",
       "\n",
       "/* Common style for \"i\" and \"?\" */\n",
       "\n",
       ".sk-estimator-doc-link,\n",
       "a:link.sk-estimator-doc-link,\n",
       "a:visited.sk-estimator-doc-link {\n",
       "  float: right;\n",
       "  font-size: smaller;\n",
       "  line-height: 1em;\n",
       "  font-family: monospace;\n",
       "  background-color: var(--sklearn-color-background);\n",
       "  border-radius: 1em;\n",
       "  height: 1em;\n",
       "  width: 1em;\n",
       "  text-decoration: none !important;\n",
       "  margin-left: 1ex;\n",
       "  /* unfitted */\n",
       "  border: var(--sklearn-color-unfitted-level-1) 1pt solid;\n",
       "  color: var(--sklearn-color-unfitted-level-1);\n",
       "}\n",
       "\n",
       ".sk-estimator-doc-link.fitted,\n",
       "a:link.sk-estimator-doc-link.fitted,\n",
       "a:visited.sk-estimator-doc-link.fitted {\n",
       "  /* fitted */\n",
       "  border: var(--sklearn-color-fitted-level-1) 1pt solid;\n",
       "  color: var(--sklearn-color-fitted-level-1);\n",
       "}\n",
       "\n",
       "/* On hover */\n",
       "div.sk-estimator:hover .sk-estimator-doc-link:hover,\n",
       ".sk-estimator-doc-link:hover,\n",
       "div.sk-label-container:hover .sk-estimator-doc-link:hover,\n",
       ".sk-estimator-doc-link:hover {\n",
       "  /* unfitted */\n",
       "  background-color: var(--sklearn-color-unfitted-level-3);\n",
       "  color: var(--sklearn-color-background);\n",
       "  text-decoration: none;\n",
       "}\n",
       "\n",
       "div.sk-estimator.fitted:hover .sk-estimator-doc-link.fitted:hover,\n",
       ".sk-estimator-doc-link.fitted:hover,\n",
       "div.sk-label-container:hover .sk-estimator-doc-link.fitted:hover,\n",
       ".sk-estimator-doc-link.fitted:hover {\n",
       "  /* fitted */\n",
       "  background-color: var(--sklearn-color-fitted-level-3);\n",
       "  color: var(--sklearn-color-background);\n",
       "  text-decoration: none;\n",
       "}\n",
       "\n",
       "/* Span, style for the box shown on hovering the info icon */\n",
       ".sk-estimator-doc-link span {\n",
       "  display: none;\n",
       "  z-index: 9999;\n",
       "  position: relative;\n",
       "  font-weight: normal;\n",
       "  right: .2ex;\n",
       "  padding: .5ex;\n",
       "  margin: .5ex;\n",
       "  width: min-content;\n",
       "  min-width: 20ex;\n",
       "  max-width: 50ex;\n",
       "  color: var(--sklearn-color-text);\n",
       "  box-shadow: 2pt 2pt 4pt #999;\n",
       "  /* unfitted */\n",
       "  background: var(--sklearn-color-unfitted-level-0);\n",
       "  border: .5pt solid var(--sklearn-color-unfitted-level-3);\n",
       "}\n",
       "\n",
       ".sk-estimator-doc-link.fitted span {\n",
       "  /* fitted */\n",
       "  background: var(--sklearn-color-fitted-level-0);\n",
       "  border: var(--sklearn-color-fitted-level-3);\n",
       "}\n",
       "\n",
       ".sk-estimator-doc-link:hover span {\n",
       "  display: block;\n",
       "}\n",
       "\n",
       "/* \"?\"-specific style due to the `<a>` HTML tag */\n",
       "\n",
       "#sk-container-id-1 a.estimator_doc_link {\n",
       "  float: right;\n",
       "  font-size: 1rem;\n",
       "  line-height: 1em;\n",
       "  font-family: monospace;\n",
       "  background-color: var(--sklearn-color-background);\n",
       "  border-radius: 1rem;\n",
       "  height: 1rem;\n",
       "  width: 1rem;\n",
       "  text-decoration: none;\n",
       "  /* unfitted */\n",
       "  color: var(--sklearn-color-unfitted-level-1);\n",
       "  border: var(--sklearn-color-unfitted-level-1) 1pt solid;\n",
       "}\n",
       "\n",
       "#sk-container-id-1 a.estimator_doc_link.fitted {\n",
       "  /* fitted */\n",
       "  border: var(--sklearn-color-fitted-level-1) 1pt solid;\n",
       "  color: var(--sklearn-color-fitted-level-1);\n",
       "}\n",
       "\n",
       "/* On hover */\n",
       "#sk-container-id-1 a.estimator_doc_link:hover {\n",
       "  /* unfitted */\n",
       "  background-color: var(--sklearn-color-unfitted-level-3);\n",
       "  color: var(--sklearn-color-background);\n",
       "  text-decoration: none;\n",
       "}\n",
       "\n",
       "#sk-container-id-1 a.estimator_doc_link.fitted:hover {\n",
       "  /* fitted */\n",
       "  background-color: var(--sklearn-color-fitted-level-3);\n",
       "}\n",
       "</style><div id=\"sk-container-id-1\" class=\"sk-top-container\"><div class=\"sk-text-repr-fallback\"><pre>MLPClassifier(hidden_layer_sizes=(50,), max_iter=10, verbose=True)</pre><b>In a Jupyter environment, please rerun this cell to show the HTML representation or trust the notebook. <br />On GitHub, the HTML representation is unable to render, please try loading this page with nbviewer.org.</b></div><div class=\"sk-container\" hidden><div class=\"sk-item\"><div class=\"sk-estimator  sk-toggleable\"><input class=\"sk-toggleable__control sk-hidden--visually\" id=\"sk-estimator-id-1\" type=\"checkbox\" checked><label for=\"sk-estimator-id-1\" class=\"sk-toggleable__label  sk-toggleable__label-arrow \">&nbsp;&nbsp;MLPClassifier<a class=\"sk-estimator-doc-link \" rel=\"noreferrer\" target=\"_blank\" href=\"https://scikit-learn.org/1.5/modules/generated/sklearn.neural_network.MLPClassifier.html\">?<span>Documentation for MLPClassifier</span></a><span class=\"sk-estimator-doc-link \">i<span>Not fitted</span></span></label><div class=\"sk-toggleable__content \"><pre>MLPClassifier(hidden_layer_sizes=(50,), max_iter=10, verbose=True)</pre></div> </div></div></div></div>"
      ],
      "text/plain": [
       "MLPClassifier(hidden_layer_sizes=(50,), max_iter=10, verbose=True)"
      ]
     },
     "execution_count": 65,
     "metadata": {},
     "output_type": "execute_result"
    }
   ],
   "source": [
    "clf"
   ]
  },
  {
   "cell_type": "markdown",
   "metadata": {},
   "source": [
    "### Training and Validation Sets"
   ]
  },
  {
   "cell_type": "markdown",
   "metadata": {},
   "source": [
    "You will now split the dataset into a training and validation sets"
   ]
  },
  {
   "cell_type": "markdown",
   "metadata": {},
   "source": [
    "#### We split the dataset\n",
    "We use a training set of 80% and a validation set of 20%"
   ]
  },
  {
   "cell_type": "code",
   "execution_count": 66,
   "metadata": {},
   "outputs": [],
   "source": [
    "training_examples = int(X.shape[0] * 0.8)\n",
    "\n",
    "X_train = X[:training_examples, :]\n",
    "y_train = y[:training_examples]\n",
    "\n",
    "X_val = X[training_examples:, :]\n",
    "y_val = y[training_examples:]"
   ]
  },
  {
   "cell_type": "markdown",
   "metadata": {
    "tags": []
   },
   "source": [
    "### Fitting the model"
   ]
  },
  {
   "cell_type": "markdown",
   "metadata": {},
   "source": [
    "Fit the model on the training set"
   ]
  },
  {
   "cell_type": "code",
   "execution_count": 67,
   "metadata": {},
   "outputs": [
    {
     "name": "stdout",
     "output_type": "stream",
     "text": [
      "Iteration 1, loss = 0.88691712\n",
      "Iteration 2, loss = 0.24754840\n",
      "Iteration 3, loss = 0.12297108\n",
      "Iteration 4, loss = 0.06957957\n",
      "Iteration 5, loss = 0.04447351\n",
      "Iteration 6, loss = 0.03202389\n",
      "Iteration 7, loss = 0.02477158\n",
      "Iteration 8, loss = 0.02012671\n",
      "Iteration 9, loss = 0.01686711\n",
      "Iteration 10, loss = 0.01442271\n"
     ]
    },
    {
     "name": "stderr",
     "output_type": "stream",
     "text": [
      "/home/oscar/.local/lib/python3.10/site-packages/sklearn/neural_network/_multilayer_perceptron.py:690: ConvergenceWarning: Stochastic Optimizer: Maximum iterations (10) reached and the optimization hasn't converged yet.\n",
      "  warnings.warn(\n"
     ]
    }
   ],
   "source": [
    "# Write your code here\n",
    "model = clf.fit(X_train, y_train)"
   ]
  },
  {
   "cell_type": "markdown",
   "metadata": {},
   "source": [
    "## Predicting"
   ]
  },
  {
   "cell_type": "markdown",
   "metadata": {},
   "source": [
    "Predict the `X_val` languages. You will call the result `y_val_pred`"
   ]
  },
  {
   "cell_type": "code",
   "execution_count": 68,
   "metadata": {},
   "outputs": [],
   "source": [
    "# Write your code here\n",
    "y_val_pred = model.predict(X_val)"
   ]
  },
  {
   "cell_type": "code",
   "execution_count": 69,
   "metadata": {},
   "outputs": [
    {
     "data": {
      "text/plain": [
       "array([3, 2, 1, 3, 3, 3, 3, 3, 3, 3, 3, 1, 4, 3, 1, 3, 3, 1, 3, 1])"
      ]
     },
     "execution_count": 69,
     "metadata": {},
     "output_type": "execute_result"
    }
   ],
   "source": [
    "y_val_pred[:20]"
   ]
  },
  {
   "cell_type": "code",
   "execution_count": 70,
   "metadata": {},
   "outputs": [
    {
     "data": {
      "text/plain": [
       "array([3, 2, 1, 3, 3, 3, 3, 3, 3, 3, 3, 1, 4, 3, 1, 3, 3, 1, 3, 1])"
      ]
     },
     "execution_count": 70,
     "metadata": {},
     "output_type": "execute_result"
    }
   ],
   "source": [
    "y_val[:20]"
   ]
  },
  {
   "cell_type": "markdown",
   "metadata": {},
   "source": [
    "#### Evaluating"
   ]
  },
  {
   "cell_type": "markdown",
   "metadata": {},
   "source": [
    "Use the `accuracy_score()` function to evaluate your model on the validation set"
   ]
  },
  {
   "cell_type": "code",
   "execution_count": 71,
   "metadata": {},
   "outputs": [
    {
     "data": {
      "text/plain": [
       "0.9966"
      ]
     },
     "execution_count": 71,
     "metadata": {},
     "output_type": "execute_result"
    }
   ],
   "source": [
    "# evaluate the model\n",
    "accuracy_score(y_val, y_val_pred)"
   ]
  },
  {
   "cell_type": "code",
   "execution_count": 72,
   "metadata": {},
   "outputs": [
    {
     "name": "stdout",
     "output_type": "stream",
     "text": [
      "              precision    recall  f1-score   support\n",
      "\n",
      "         dan       0.97      0.95      0.96       207\n",
      "         fra       1.00      1.00      1.00      2121\n",
      "         cmn       1.00      1.00      1.00       236\n",
      "         eng       1.00      1.00      1.00      6417\n",
      "         jpn       1.00      1.00      1.00       820\n",
      "         swe       0.96      0.94      0.95       199\n",
      "\n",
      "    accuracy                           1.00     10000\n",
      "   macro avg       0.99      0.98      0.98     10000\n",
      "weighted avg       1.00      1.00      1.00     10000\n",
      "\n",
      "Micro F1: 0.9966\n",
      "Macro F1 0.9835951182315396\n"
     ]
    }
   ],
   "source": [
    "print(classification_report(y_val, y_val_pred, target_names=y_symbols))\n",
    "print('Micro F1:', f1_score(y_val, y_val_pred, average='micro'))\n",
    "print('Macro F1', f1_score(y_val, y_val_pred, average='macro'))"
   ]
  },
  {
   "cell_type": "markdown",
   "metadata": {},
   "source": [
    "### Confusion Matrix"
   ]
  },
  {
   "cell_type": "code",
   "execution_count": 73,
   "metadata": {},
   "outputs": [],
   "source": [
    "display_labels = sorted(lang2idx.keys(), key=lambda x: lang2idx.get(x))"
   ]
  },
  {
   "cell_type": "code",
   "execution_count": 74,
   "metadata": {},
   "outputs": [
    {
     "data": {
      "text/plain": [
       "<sklearn.metrics._plot.confusion_matrix.ConfusionMatrixDisplay at 0x7fb895929c60>"
      ]
     },
     "execution_count": 74,
     "metadata": {},
     "output_type": "execute_result"
    },
    {
     "data": {
      "image/png": "[encoded data removed]",
      "text/plain": [
       "<Figure size 640x480 with 2 Axes>"
      ]
     },
     "metadata": {},
     "output_type": "display_data"
    }
   ],
   "source": [
    "disp = ConfusionMatrixDisplay(confusion_matrix(\n",
    "    y_val, y_val_pred), display_labels=display_labels)\n",
    "disp.plot()"
   ]
  },
  {
   "cell_type": "markdown",
   "metadata": {},
   "source": [
    "You may try to increase the number of iterations to improve the score. You may also try change the parameters of the multilayer percetron."
   ]
  },
  {
   "cell_type": "markdown",
   "metadata": {},
   "source": [
    "## Predict the language of a text"
   ]
  },
  {
   "cell_type": "markdown",
   "metadata": {},
   "source": [
    "Now you will predict the languages of the strings below."
   ]
  },
  {
   "cell_type": "code",
   "execution_count": 75,
   "metadata": {},
   "outputs": [],
   "source": [
    "docs = [\"Salut les gars !\", \"Hejsan grabbar!\", \"Hello guys!\", \"Hejsan tjejer!\"]"
   ]
  },
  {
   "cell_type": "code",
   "execution_count": 76,
   "metadata": {},
   "outputs": [
    {
     "data": {
      "text/plain": [
       "{331: 0.1875,\n",
       " 234: 0.125,\n",
       " 15: 0.125,\n",
       " 69: 0.0625,\n",
       " 432: 0.0625,\n",
       " 86: 0.1875,\n",
       " 32: 0.0625,\n",
       " 31: 0.0625,\n",
       " 437: 0.0625,\n",
       " 333: 0.0625,\n",
       " 1078: 0.06666666666666667,\n",
       " 640: 0.06666666666666667,\n",
       " 582: 0.06666666666666667,\n",
       " 1542: 0.06666666666666667,\n",
       " 1492: 0.06666666666666667,\n",
       " 900: 0.06666666666666667,\n",
       " 739: 0.06666666666666667,\n",
       " 1319: 0.06666666666666667,\n",
       " 1238: 0.13333333333333333,\n",
       " 982: 0.06666666666666667,\n",
       " 1415: 0.06666666666666667,\n",
       " 557: 0.06666666666666667,\n",
       " 1161: 0.06666666666666667,\n",
       " 1020: 0.06666666666666667,\n",
       " 1803: 0.07142857142857142,\n",
       " 1608: 0.07142857142857142,\n",
       " 2199: 0.07142857142857142,\n",
       " 2349: 0.07142857142857142,\n",
       " 2284: 0.07142857142857142,\n",
       " 1958: 0.07142857142857142,\n",
       " 1720: 0.07142857142857142,\n",
       " 1925: 0.07142857142857142,\n",
       " 2370: 0.07142857142857142,\n",
       " 2546: 0.07142857142857142,\n",
       " 1752: 0.07142857142857142,\n",
       " 1805: 0.07142857142857142,\n",
       " 1670: 0.07142857142857142,\n",
       " 2269: 0.07142857142857142}"
      ]
     },
     "execution_count": 76,
     "metadata": {},
     "output_type": "execute_result"
    }
   ],
   "source": [
    "build_freq_dict('Salut les gars !')"
   ]
  },
  {
   "cell_type": "markdown",
   "metadata": {},
   "source": [
    "Create features vectors from this list. Call this matrix `X_test`"
   ]
  },
  {
   "cell_type": "code",
   "execution_count": 77,
   "metadata": {},
   "outputs": [],
   "source": [
    "# Write your code here\n",
    "X_test = vectorizer.transform([build_freq_dict(doc) for doc in docs])"
   ]
  },
  {
   "cell_type": "code",
   "execution_count": 78,
   "metadata": {},
   "outputs": [
    {
     "data": {
      "text/plain": [
       "array([[0., 0., 0., ..., 0., 0., 0.],\n",
       "       [0., 0., 0., ..., 0., 0., 0.],\n",
       "       [0., 0., 0., ..., 0., 0., 0.],\n",
       "       [0., 0., 0., ..., 0., 0., 0.]])"
      ]
     },
     "execution_count": 78,
     "metadata": {},
     "output_type": "execute_result"
    }
   ],
   "source": [
    "X_test"
   ]
  },
  {
   "cell_type": "markdown",
   "metadata": {},
   "source": [
    "And run the prediction that you will store in a variable called `pred_languages`"
   ]
  },
  {
   "cell_type": "code",
   "execution_count": 79,
   "metadata": {},
   "outputs": [],
   "source": [
    "# Write your code here\n",
    "pred_languages = [idx2lang[i] for i in model.predict(X_test)]"
   ]
  },
  {
   "cell_type": "code",
   "execution_count": 80,
   "metadata": {},
   "outputs": [
    {
     "data": {
      "text/plain": [
       "['fra', 'eng', 'eng', 'dan']"
      ]
     },
     "execution_count": 80,
     "metadata": {},
     "output_type": "execute_result"
    }
   ],
   "source": [
    "pred_languages"
   ]
  },
  {
   "cell_type": "markdown",
   "metadata": {},
   "source": [
    "## Building the Model with PyTorch\n",
    "You will now recreate a PyTorch model with the same architecture as in sklearn."
   ]
  },
  {
   "cell_type": "markdown",
   "metadata": {},
   "source": [
    "### The Model\n",
    "Create a model identical to the one you created with sklearn. Use the same activation function for the hidden layer and no activation in the last layer. Use the `Sequential` class."
   ]
  },
  {
   "cell_type": "code",
   "execution_count": 80,
   "metadata": {},
   "outputs": [],
   "source": [
    "input_dim = X.shape[1]\n",
    "nbr_classes = len(langs)"
   ]
  },
  {
   "cell_type": "code",
   "execution_count": 81,
   "metadata": {},
   "outputs": [],
   "source": [
    "# Write your code here\n",
    "model = ..."
   ]
  },
  {
   "cell_type": "code",
   "execution_count": 82,
   "metadata": {},
   "outputs": [
    {
     "data": {
      "text/plain": [
       "Sequential(\n",
       "  (0): Linear(in_features=2583, out_features=50, bias=True)\n",
       "  (1): ReLU()\n",
       "  (2): Linear(in_features=50, out_features=6, bias=True)\n",
       ")"
      ]
     },
     "execution_count": 82,
     "metadata": {},
     "output_type": "execute_result"
    }
   ],
   "source": [
    "model"
   ]
  },
  {
   "cell_type": "markdown",
   "metadata": {},
   "source": [
    "Write the loss `loss_fn` and optimizer `optimizer`. As optimizer, use the same as in sklearn. See here: https://scikit-learn.org/stable/modules/generated/sklearn.neural_network.MLPClassifier.html"
   ]
  },
  {
   "cell_type": "code",
   "execution_count": 83,
   "metadata": {},
   "outputs": [],
   "source": [
    "# Write your code here. (The solution is given)\n",
    "loss_fn = nn.CrossEntropyLoss()    # cross entropy loss\n",
    "optimizer = torch.optim.Adam(model.parameters(), lr=0.001)"
   ]
  },
  {
   "cell_type": "markdown",
   "metadata": {},
   "source": [
    "### The data loader"
   ]
  },
  {
   "cell_type": "markdown",
   "metadata": {},
   "source": [
    "We convert the data to tensors"
   ]
  },
  {
   "cell_type": "code",
   "execution_count": 84,
   "metadata": {},
   "outputs": [],
   "source": [
    "X_train = torch.Tensor(X_train)\n",
    "y_train = torch.LongTensor(y_train)\n",
    "\n",
    "X_val = torch.Tensor(X_val)\n",
    "y_val = torch.LongTensor(y_val)\n",
    "\n",
    "X_test = torch.Tensor(X_test)"
   ]
  },
  {
   "cell_type": "code",
   "execution_count": 85,
   "metadata": {},
   "outputs": [],
   "source": [
    "from torch.utils.data import TensorDataset, DataLoader\n",
    "\n",
    "train_dataset = TensorDataset(X_train, y_train)\n",
    "train_dataloader = DataLoader(train_dataset, batch_size=32, shuffle=True)\n",
    "\n",
    "val_dataset = TensorDataset(X_val, y_val)\n",
    "val_dataloader = DataLoader(val_dataset, batch_size=32)"
   ]
  },
  {
   "cell_type": "code",
   "execution_count": 86,
   "metadata": {},
   "outputs": [
    {
     "data": {
      "text/plain": [
       "Sequential(\n",
       "  (0): Linear(in_features=2583, out_features=50, bias=True)\n",
       "  (1): ReLU()\n",
       "  (2): Linear(in_features=50, out_features=6, bias=True)\n",
       ")"
      ]
     },
     "execution_count": 86,
     "metadata": {},
     "output_type": "execute_result"
    }
   ],
   "source": [
    "model.train()"
   ]
  },
  {
   "cell_type": "markdown",
   "metadata": {},
   "source": [
    "Fit your network on your training set. Write a code similar to that seen during the lecture and use five to seven epochs to start with. You will store the training and validation losses in a list so that you can plot them"
   ]
  },
  {
   "cell_type": "code",
   "execution_count": 87,
   "metadata": {},
   "outputs": [
    {
     "name": "stderr",
     "output_type": "stream",
     "text": [
      "100%|██████████| 7/7 [00:25<00:00,  3.63s/it]\n"
     ]
    }
   ],
   "source": [
    "# Write your code here\n",
    "ce_train_loss = []\n",
    "ce_val_loss = []\n",
    "for epoch in tqdm(range(7)):\n",
    "    model.train()\n",
    "    ..."
   ]
  },
  {
   "cell_type": "code",
   "execution_count": 88,
   "metadata": {},
   "outputs": [
    {
     "data": {
      "text/plain": [
       "([0.002606753099812583,\n",
       "  0.0005862473940918911,\n",
       "  0.0004657320324869943,\n",
       "  0.00039769585856583035,\n",
       "  0.0003462175238014682,\n",
       "  0.00030329683734105743,\n",
       "  0.00026547042697286697],\n",
       " [0.000179015830468173,\n",
       "  0.00015008996698078893,\n",
       "  0.00015012562006801696,\n",
       "  0.0001514282189259696,\n",
       "  0.00014166449593131194,\n",
       "  0.00014306840398255606,\n",
       "  0.00014821638815488332])"
      ]
     },
     "execution_count": 88,
     "metadata": {},
     "output_type": "execute_result"
    }
   ],
   "source": [
    "ce_train_loss, ce_val_loss"
   ]
  },
  {
   "cell_type": "code",
   "execution_count": 89,
   "metadata": {},
   "outputs": [
    {
     "data": {
      "image/png": "[encoded data removed]",
      "text/plain": [
       "<Figure size 640x480 with 1 Axes>"
      ]
     },
     "metadata": {},
     "output_type": "display_data"
    }
   ],
   "source": [
    "import matplotlib.pyplot as plt\n",
    "\n",
    "plt.scatter(range(len(ce_train_loss)),\n",
    "            ce_train_loss, c='b', marker='x')\n",
    "plt.scatter(range(len(ce_train_loss)),\n",
    "            ce_val_loss, c='r', marker='+')\n",
    "plt.title('Loss')\n",
    "plt.xlabel('Epochs')\n",
    "plt.ylabel('Cross entropy')\n",
    "plt.show()"
   ]
  },
  {
   "cell_type": "markdown",
   "metadata": {},
   "source": [
    "Predict the validation set `X_val` in the form of logits. Call the result: `Y_val_pred_logits`"
   ]
  },
  {
   "cell_type": "code",
   "execution_count": 90,
   "metadata": {},
   "outputs": [
    {
     "data": {
      "text/plain": [
       "Sequential(\n",
       "  (0): Linear(in_features=2583, out_features=50, bias=True)\n",
       "  (1): ReLU()\n",
       "  (2): Linear(in_features=50, out_features=6, bias=True)\n",
       ")"
      ]
     },
     "execution_count": 90,
     "metadata": {},
     "output_type": "execute_result"
    }
   ],
   "source": [
    "model.eval()"
   ]
  },
  {
   "cell_type": "code",
   "execution_count": 91,
   "metadata": {},
   "outputs": [],
   "source": [
    "# Write your code here\n",
    "Y_val_pred_logits = ..."
   ]
  },
  {
   "cell_type": "code",
   "execution_count": 92,
   "metadata": {},
   "outputs": [
    {
     "data": {
      "text/plain": [
       "tensor([[-12.0818,  -0.4659,  15.3408,  -9.7126, -11.3846, -10.6331],\n",
       "        [  9.3617,  -5.4698,  -1.0474, -10.9775, -11.6876, -10.6878],\n",
       "        [  6.0128,  -8.8988,  -3.6120,  -1.5038, -11.3482,  -8.5063],\n",
       "        [  8.4183,  -7.5533,  -3.3452,  -9.1502, -12.5871,  -5.4329],\n",
       "        [ -9.0185,   3.8023, -16.9054,  -5.0458,  17.9557, -16.1317]],\n",
       "       grad_fn=<SliceBackward0>)"
      ]
     },
     "execution_count": 92,
     "metadata": {},
     "output_type": "execute_result"
    }
   ],
   "source": [
    "Y_val_pred_logits[:5]"
   ]
  },
  {
   "cell_type": "markdown",
   "metadata": {},
   "source": [
    "Predict the validation set `X_val` in the form of probabilities. Use `torch.softmax()` for that and call the result: `Y_val_pred_proba`"
   ]
  },
  {
   "cell_type": "code",
   "execution_count": 93,
   "metadata": {},
   "outputs": [],
   "source": [
    "# Write your code here\n",
    "Y_val_pred_proba = ..."
   ]
  },
  {
   "cell_type": "code",
   "execution_count": 94,
   "metadata": {},
   "outputs": [
    {
     "data": {
      "text/plain": [
       "tensor([[1.2317e-12, 1.3652e-07, 1.0000e+00, 1.3165e-11, 2.4734e-12, 5.2441e-12],\n",
       "        [9.9997e-01, 3.6205e-07, 3.0157e-05, 1.4683e-09, 7.2177e-10, 1.9616e-09],\n",
       "        [9.9939e-01, 3.3397e-07, 6.6035e-05, 5.4369e-04, 2.8839e-08, 4.9452e-07],\n",
       "        [9.9999e-01, 1.1577e-07, 7.7832e-06, 2.3446e-08, 7.5418e-10, 9.6493e-07]],\n",
       "       grad_fn=<SliceBackward0>)"
      ]
     },
     "execution_count": 94,
     "metadata": {},
     "output_type": "execute_result"
    }
   ],
   "source": [
    "Y_val_pred_proba[:4]"
   ]
  },
  {
   "cell_type": "markdown",
   "metadata": {},
   "source": [
    "Extract the categories from the probabilities in `Y_val_pred_proba`. Use the `torch.argmax()` function. Call the result `y_val_pred`. Check that the prediction corresponds to the real values."
   ]
  },
  {
   "cell_type": "code",
   "execution_count": 95,
   "metadata": {},
   "outputs": [],
   "source": [
    "# Write your code here\n",
    "y_val_pred = ..."
   ]
  },
  {
   "cell_type": "code",
   "execution_count": 96,
   "metadata": {},
   "outputs": [
    {
     "data": {
      "text/plain": [
       "tensor([2, 0, 0, 0, 4, 1, 0, 1, 3, 5, 5, 1, 1, 0, 2, 5, 2, 3, 4, 0])"
      ]
     },
     "execution_count": 96,
     "metadata": {},
     "output_type": "execute_result"
    }
   ],
   "source": [
    "y_val_pred[:20]"
   ]
  },
  {
   "cell_type": "code",
   "execution_count": 97,
   "metadata": {},
   "outputs": [
    {
     "data": {
      "text/plain": [
       "tensor([2, 0, 0, 0, 4, 1, 0, 1, 3, 5, 5, 1, 1, 0, 2, 5, 2, 3, 4, 0])"
      ]
     },
     "execution_count": 97,
     "metadata": {},
     "output_type": "execute_result"
    }
   ],
   "source": [
    "y_val[:20]"
   ]
  },
  {
   "cell_type": "markdown",
   "metadata": {},
   "source": [
    "Print the evaluation"
   ]
  },
  {
   "cell_type": "code",
   "execution_count": 98,
   "metadata": {},
   "outputs": [
    {
     "name": "stdout",
     "output_type": "stream",
     "text": [
      "              precision    recall  f1-score   support\n",
      "\n",
      "         dan       0.98      0.99      0.98      9998\n",
      "         cmn       1.00      1.00      1.00      9950\n",
      "         swe       0.99      0.98      0.98      9997\n",
      "         fra       1.00      1.00      1.00     10075\n",
      "         jpn       1.00      1.00      1.00      9987\n",
      "         eng       1.00      1.00      1.00      9993\n",
      "\n",
      "    accuracy                           0.99     60000\n",
      "   macro avg       0.99      0.99      0.99     60000\n",
      "weighted avg       0.99      0.99      0.99     60000\n",
      "\n",
      "Micro F1: 0.9928166666666667\n",
      "Macro F1 0.9928171700240354\n"
     ]
    }
   ],
   "source": [
    "print(classification_report(y_val, y_val_pred, target_names=y_symbols))\n",
    "print('Micro F1:', f1_score(y_val, y_val_pred, average='micro'))\n",
    "print('Macro F1', f1_score(y_val, y_val_pred, average='macro'))"
   ]
  },
  {
   "cell_type": "markdown",
   "metadata": {},
   "source": [
    "Print the confusion matrix"
   ]
  },
  {
   "cell_type": "code",
   "execution_count": 99,
   "metadata": {},
   "outputs": [
    {
     "data": {
      "text/plain": [
       "<sklearn.metrics._plot.confusion_matrix.ConfusionMatrixDisplay at 0x48de18ad0>"
      ]
     },
     "execution_count": 99,
     "metadata": {},
     "output_type": "execute_result"
    },
    {
     "data": {
      "image/png": "[encoded data removed]",
      "text/plain": [
       "<Figure size 640x480 with 2 Axes>"
      ]
     },
     "metadata": {},
     "output_type": "display_data"
    }
   ],
   "source": [
    "disp = ConfusionMatrixDisplay(confusion_matrix(\n",
    "    y_val, y_val_pred), display_labels=display_labels)\n",
    "disp.plot()"
   ]
  },
  {
   "cell_type": "markdown",
   "metadata": {},
   "source": [
    "Predict your languages with PyTorch. Reuse `X_test` and call the result `Y_test_pred_proba`."
   ]
  },
  {
   "cell_type": "code",
   "execution_count": 100,
   "metadata": {},
   "outputs": [],
   "source": [
    "# Write your code here\n",
    "Y_test_pred_proba = ..."
   ]
  },
  {
   "cell_type": "code",
   "execution_count": 101,
   "metadata": {},
   "outputs": [
    {
     "data": {
      "text/plain": [
       "tensor([[5.6738e-08, 5.1075e-08, 1.7215e-06, 1.0000e+00, 3.3746e-09, 7.1849e-08],\n",
       "        [1.1730e-05, 3.4619e-06, 9.9998e-01, 5.2125e-08, 2.7312e-09, 3.2348e-07],\n",
       "        [2.3089e-02, 3.4453e-05, 3.0315e-06, 2.0895e-02, 7.0742e-07, 9.5598e-01],\n",
       "        [9.9018e-01, 2.3652e-05, 9.7907e-03, 3.1654e-06, 1.4500e-08, 7.9917e-08]],\n",
       "       grad_fn=<SoftmaxBackward0>)"
      ]
     },
     "execution_count": 101,
     "metadata": {},
     "output_type": "execute_result"
    }
   ],
   "source": [
    "Y_test_pred_proba"
   ]
  },
  {
   "cell_type": "markdown",
   "metadata": {},
   "source": [
    "From the probabilities, extract the predicted languages and map them to strings. Call the results `pred_languages_pytorch`."
   ]
  },
  {
   "cell_type": "code",
   "execution_count": 102,
   "metadata": {},
   "outputs": [],
   "source": [
    "# Write your code here\n",
    "pred_languages_pytorch = ..."
   ]
  },
  {
   "cell_type": "code",
   "execution_count": 103,
   "metadata": {},
   "outputs": [
    {
     "data": {
      "text/plain": [
       "['fra', 'swe', 'eng', 'dan']"
      ]
     },
     "execution_count": 103,
     "metadata": {},
     "output_type": "execute_result"
    }
   ],
   "source": [
    "pred_languages_pytorch"
   ]
  },
  {
   "cell_type": "markdown",
   "metadata": {},
   "source": [
    "## Turning in your assignment"
   ]
  },
  {
   "cell_type": "markdown",
   "metadata": {},
   "source": [
    "Now your are done with the program. To complete this assignment, you will write a report where you will:\n",
    "1. Write a short individual report on your program. I recommend that you use this structure for your report:\n",
    "      1. Objectives and dataset\n",
    "      2. Method and program structure, where you should outline your program and possibly describe difficult parts.\n",
    "      3. Results.\n",
    "      4. Conclusion. As ideas for possible improvements, you may have a look at this paper: https://arxiv.org/pdf/2205.03983\n",
    "2. In Sect. _Method and program structure_, do not forget to:\n",
    "   * Summarize CLD3 and outline its architecture\n",
    "   * Identify the features used by CLD3\n",
    "   * Describe your architecture and tell how it is different from CLD3\n",
    "   * Outline the differences between a sklearn and PyTorch program\n",
    "\n",
    "The whole report should be of 2 to 3 pages.\n",
    "\n",
    "Submit your report as well as your **notebook** (for archiving purposes) to Canvas: https://canvas.education.lu.se/. To write your report, please use Latex. This will probably help you structure your text. You will then upload a PDF file in Canvas. To write your document, you can use Overleaf (www.overleaf.com), an on-line Latex editor.\n",
    "\n",
    "Please do not use MS Word or the likes. Do no write directly your text in Canvas, either, as will will not pass your report.\n",
    "\n",
    "The submission deadline is October 11, 2024."
   ]
  },
  {
   "cell_type": "markdown",
   "metadata": {},
   "source": [
    "## Postscript from Pierre Nugues"
   ]
  },
  {
   "cell_type": "markdown",
   "metadata": {},
   "source": [
    "I created this assignment from an examination I wrote in 2019 for the course on applied machine learning. I simplified it from the `README.md` on GitHub, https://github.com/google/cld3. I found the C++ code difficult to understand and I reimplemented a Keras/Tensorflow version of it from this `README`. Should you be interested, you can find it here: https://github.com/pnugues/language-detector."
   ]
  }
 ],
 "metadata": {
  "kernelspec": {
   "display_name": "Python 3.9.12 ('base')",
   "language": "python",
   "name": "python3"
  },
  "language_info": {
   "codemirror_mode": {
    "name": "ipython",
    "version": 3
   },
   "file_extension": ".py",
   "mimetype": "text/x-python",
   "name": "python",
   "nbconvert_exporter": "python",
   "pygments_lexer": "ipython3",
   "version": "3.10.12"
  },
  "vscode": {
   "interpreter": {
    "hash": "b97b11a820675205aae8f1d7f2a3f22bbd3a2c30189f44042310baf5b4cd1987"
   }
  }
 },
 "nbformat": 4,
 "nbformat_minor": 4
}
