{
 "cells": [
  {
   "cell_type": "markdown",
   "metadata": {},
   "source": [
    "# Assignment #2: Language models\n",
    "Author: Pierre Nugues"
   ]
  },
  {
   "cell_type": "markdown",
   "metadata": {},
   "source": [
    "## Objectives"
   ]
  },
  {
   "cell_type": "markdown",
   "metadata": {},
   "source": [
    "The objectives of this assignment are to:\n",
    "* Write a program to find n-gram statistics\n",
    "* Compute the probability of a sentence\n",
    "* Know what a language model is\n",
    "* Write a short report of 1 to 2 pages on the assignment"
   ]
  },
  {
   "cell_type": "markdown",
   "metadata": {},
   "source": [
    "## Submission"
   ]
  },
  {
   "cell_type": "markdown",
   "metadata": {},
   "source": [
    "Once you have written all the missing code and run all the cells, you will show it to an instructor that will pass you."
   ]
  },
  {
   "cell_type": "markdown",
   "metadata": {},
   "source": [
    "## Organization"
   ]
  },
  {
   "cell_type": "markdown",
   "metadata": {},
   "source": [
    "* Each group will have to write Python programs to count unigrams, bigrams, and trigrams in a corpus of approximately one million words and to determine the probability of a sentence.\n",
    "* You can test you regular expression using the regex101.com site\n",
    "* Each student will have to write a short report of one to two pages and comment briefly the results. In your report, you must produce the tabulated results of your analysis as described below."
   ]
  },
  {
   "cell_type": "markdown",
   "metadata": {},
   "source": [
    "## Programming"
   ]
  },
  {
   "cell_type": "markdown",
   "metadata": {},
   "source": [
    "### Imports"
   ]
  },
  {
   "cell_type": "markdown",
   "metadata": {},
   "source": [
    "Some imports you may need. Add others as needed."
   ]
  },
  {
   "cell_type": "code",
   "execution_count": 1,
   "metadata": {},
   "outputs": [],
   "source": [
    "import bz2\n",
    "import math\n",
    "import os\n",
    "import regex as re\n",
    "import requests\n",
    "import sys\n",
    "from zipfile import ZipFile"
   ]
  },
  {
   "cell_type": "markdown",
   "metadata": {},
   "source": [
    "### Collecting and analyzing a corpus"
   ]
  },
  {
   "cell_type": "markdown",
   "metadata": {},
   "source": [
    "Retrieve a corpus of novels by Selma Lagerl&ouml;f from this URL:\n",
    "<a href=\"https://github.com/pnugues/ilppp/blob/master/programs/corpus/Selma.txt\">\n",
    "    <tt>https://github.com/pnugues/ilppp/blob/master/programs/corpus/Selma.txt</tt>\n",
    "</a>. The text of these novels was extracted\n",
    "from <a href=\"https://litteraturbanken.se/forfattare/LagerlofS/titlar\">Lagerlöf arkivet</a> at\n",
    "<a href=\"https://litteraturbanken.se/\">Litteraturbanken</a>."
   ]
  },
  {
   "cell_type": "code",
   "execution_count": 2,
   "metadata": {},
   "outputs": [],
   "source": [
    "# You may have to adjust the path\n",
    "corpus = open('corpus/Selma.txt', encoding='utf8').read()"
   ]
  },
  {
   "cell_type": "markdown",
   "metadata": {},
   "source": [
    "Run the <a href=\"https://github.com/pnugues/ilppp/tree/master/programs/ch02/python\">concordance\n",
    "program </a> to print the lines containing a specific word, for instance <i>Nils</i>."
   ]
  },
  {
   "cell_type": "code",
   "execution_count": 3,
   "metadata": {},
   "outputs": [],
   "source": [
    "pattern = 'Nils Holgersson'\n",
    "width = 25"
   ]
  },
  {
   "cell_type": "code",
   "execution_count": 4,
   "metadata": {},
   "outputs": [
    {
     "name": "stdout",
     "output_type": "stream",
     "text": [
      "Selma Lagerlöf Nils Holgerssons underbara resa genom Sv\n",
      "! Se på Tummetott! Se på Nils Holgersson Tummetott!» Genast vände\n",
      "r,» sade han. »Jag heter Nils Holgersson och är son till en husma\n",
      "lden. »Inte är det värt, Nils Holgersson, att du är ängslig eller\n",
      " i dem. På den tiden, då Nils Holgersson drog omkring med vildgäs\n",
      "ulle allt visa honom vad Nils Holgersson från Västra Vemmenhög va\n",
      "om ägde rum det året, då Nils Holgersson for omkring med vildgäss\n",
      "m vad det kan kosta dem. Nils Holgersson hade inte haft förstånd \n",
      "de det inte mer sägas om Nils Holgersson, att han inte tyckte om \n",
      " Rosenbom?» För där stod Nils Holgersson mitt uppe på Rosenboms n\n",
      " Med ens fingo de syn på Nils Holgersson, och då sköt den store v\n",
      "vila. När vildgässen och Nils Holgersson äntligen hade letat sig \n",
      " slags arbetare. Men vad Nils Holgersson inte såg, det var, att s\n",
      "nde han fråga, och om då Nils Holgersson sade nej, började han ge\n",
      "de lille Mats, och om nu Nils Holgersson också hade tegat, så had\n",
      "åg så försmädlig ut, att Nils Holgersson kastade sig över honom f\n",
      " brodern. Och inte ville Nils Holgersson slåss med en tös, utan h\n",
      "örkar. På den tiden, när Nils Holgersson for omkring med vildgäss\n",
      " ryckte omkull honom. Om Nils Holgersson genast hade ropat på hjä\n",
      "u reda dig på egen hand, Nils Holgersson,» sade han då till sig s\n",
      "r satte Fumle-Drumle ner Nils Holgersson på bottnen av en sandgro\n",
      "mlingarna. – »Jo, jag är Nils Holgersson från Västra Vemmenhög, s\n",
      "rakten. På den tiden, då Nils Holgersson for omkring med vildgäss\n",
      "Jo, det står – Det står: Nils Holgersson fr. V. Vemmenhög.» »Det \n",
      "visan 1 Sveriges karta 2 Nils Holgerssons underbara resa genom Sv\n",
      "admalsvåden 233 ________ Nils Holgerssons underbara resa genom Sv\n",
      "R. Tolv år ungefär innan Nils Holgersson hade börjat resa omkring\n",
      "och leta efter föda, men Nils Holgersson hade på morgonen tappat \n",
      "ill i Närke det året, då Nils Holgersson for fram över landskapet\n",
      "hade flyttat tassen över Nils Holgerssons ansikte, så att den sta\n",
      "29 april. Denna dag fick Nils Holgersson se södra Dalarna. Vildgä\n",
      "rliga sjön. Det året, då Nils Holgersson for med vildgässen genom\n",
      "t skänka upptäckten till Nils Holgersson. Det var ju både det tro\n",
      " som sången varade, stod Nils Holgersson och lyssnade till den, m\n",
      "ova på en vassrugge. Vad Nils Holgersson angår, så var han för hu\n",
      "e svårt för en sådan som Nils Holgersson att finna en farkost. Ha\n",
      "r de hade kommit mittför Nils Holgersson, slogo de sig ner på ett\n",
      " 5 maj. På den tiden, då Nils Holgersson drog genom landet med vi\n",
      "an vara bra lycklig. Att Nils Holgersson, som för ett par timmar \n",
      " afton. Och således hade Nils Holgersson fått se studenterna, när\n",
      "nger under marschen. Men Nils Holgersson hade tyckt, att det inte\n",
      "och glädja så som dessa. Nils Holgersson hade mest sett på studen\n",
      "m, stannade han. »Jag är Nils Holgersson från Västra Vemmenhög,» \n",
      " Ett par år före det, då Nils Holgersson drog omkring med vildgäs\n",
      " detsamma fattade han om Nils Holgersson med sin stora fot, höjde\n",
      "t ingen mer än den lilla Nils Holgersson, som följde henne. Solen\n",
      " voro klädda med is, och Nils Holgersson ville följa henne dit in\n",
      "t Lappland är mitt!» Men Nils Holgersson hade blivit så ängslig, \n",
      " över klippväggarna, och Nils Holgersson kunde förstå, att det va\n",
      " SJUKDOMEN. Det året, då Nils Holgersson for omkring med vildgäss\n",
      "jligt att undgå den. Vad Nils Holgersson beträffar, så hade han h\n",
      "hade hon slagit klorna i Nils Holgerssons skuldra och hackade eft\n",
      "g, att just det året, då Nils Holgersson for omkring med vildgäss\n",
      " lönt att vara bedrövad, Nils Holgersson,» sade solen. »Världen ä\n",
      "åga om han inte kunde ge Nils Holgersson bättre villkor. ’Det öns\n",
      "du vill,’ sade han. ’Med Nils Holgersson blir det ändå så, som ja\n",
      "a haft av honom. Ja, säg Nils Holgersson, att föräldrarna redan h\n",
      "Västergötland. Den lille Nils Holgersson hade krupit upp på en la\n",
      " honom sämre.» Den lille Nils Holgersson hade följt med barnen he\n",
      "e bara störa.» Då tyckte Nils Holgersson, att när ingen annan gjo\n",
      "n färdig att följa det.» Nils Holgersson sprang raskt neråt vägen\n",
      "rott mellan de unga. Vad Nils Holgersson beträffar, så hade han i\n",
      "on gav sig tid att se på Nils Holgersson, innan hon stötte till. \n",
      " ändå alldeles olik. Den Nils Holgersson, som hade farit bort i v\n",
      " tro det. Välkommen hem, Nils Holgersson, välkommen hem! Det här \n",
      "mig här på gården,» sade Nils Holgersson. »Min egen mor tror, att\n",
      "on riktig sjukdom,» sade Nils Holgersson. »Jag får försöka ställa\n",
      "in kniv här på din hov?» Nils Holgersson var nätt och jämnt färdi\n",
      "sslingen, som var så lik Nils Holgersson, att om det inte var han\n",
      "pojken fanns i närheten. Nils Holgersson hörde honom nog, men han\n",
      "ottrar ihop ett tack för Nils Holgersson? Vad skulle det ha blivi\n"
     ]
    }
   ],
   "source": [
    "# spaces match tabs and newlines\n",
    "pattern = re.sub(' ', r'\\\\s+', pattern)\n",
    "# Replaces newlines with spaces in the text\n",
    "clean_corpus = re.sub(r'\\s+', ' ', corpus)\n",
    "concordance = ('(.{{0,{width}}}{pattern}.{{0,{width}}})'\n",
    "               .format(pattern=pattern, width=width))\n",
    "for match in re.finditer(concordance, clean_corpus):\n",
    "    print(match.group(1))\n",
    "# print the string with 0..width characters on either side"
   ]
  },
  {
   "cell_type": "markdown",
   "metadata": {},
   "source": [
    "Run a simple <a href=\"https://github.com/pnugues/ilppp/tree/master/programs/ch05/python\">tokenization\n",
    "program</a> on your corpus."
   ]
  },
  {
   "cell_type": "code",
   "execution_count": 5,
   "metadata": {},
   "outputs": [],
   "source": [
    "def tokenize(text):\n",
    "    words = re.findall(r'\\p{L}+', text)\n",
    "    return words"
   ]
  },
  {
   "cell_type": "code",
   "execution_count": 6,
   "metadata": {},
   "outputs": [
    {
     "data": {
      "text/plain": [
       "['Selma',\n",
       " 'Lagerlöf',\n",
       " 'Nils',\n",
       " 'Holgerssons',\n",
       " 'underbara',\n",
       " 'resa',\n",
       " 'genom',\n",
       " 'Sverige',\n",
       " 'Första',\n",
       " 'bandet']"
      ]
     },
     "execution_count": 6,
     "metadata": {},
     "output_type": "execute_result"
    }
   ],
   "source": [
    "words = tokenize(corpus)\n",
    "words[:10]"
   ]
  },
  {
   "cell_type": "markdown",
   "metadata": {},
   "source": [
    "Count the number of unique words in the original corpus and when setting all the words in lowercase"
   ]
  },
  {
   "cell_type": "markdown",
   "metadata": {},
   "source": [
    "Original text"
   ]
  },
  {
   "cell_type": "code",
   "execution_count": 7,
   "metadata": {},
   "outputs": [
    {
     "data": {
      "text/plain": [
       "44256"
      ]
     },
     "execution_count": 7,
     "metadata": {},
     "output_type": "execute_result"
    }
   ],
   "source": [
    "# Write your code here\n",
    "word_set = set(words)\n",
    "len(word_set)"
   ]
  },
  {
   "cell_type": "markdown",
   "metadata": {},
   "source": [
    "Lowercased text"
   ]
  },
  {
   "cell_type": "code",
   "execution_count": 8,
   "metadata": {},
   "outputs": [
    {
     "data": {
      "text/plain": [
       "41032"
      ]
     },
     "execution_count": 8,
     "metadata": {},
     "output_type": "execute_result"
    }
   ],
   "source": [
    "# Write your code here\n",
    "word_set_lower = set(word.lower() for word in words)\n",
    "len(word_set_lower)"
   ]
  },
  {
   "cell_type": "markdown",
   "metadata": {},
   "source": [
    "### Segmenting a corpus"
   ]
  },
  {
   "cell_type": "markdown",
   "metadata": {},
   "source": [
    "You will write a program to tokenize your text, insert `<s>` and `</s>` tags to delimit sentences, and set all the words in lowercase letters. In the end, you will only keep the words."
   ]
  },
  {
   "cell_type": "markdown",
   "metadata": {},
   "source": [
    "#### Normalizing "
   ]
  },
  {
   "cell_type": "markdown",
   "metadata": {},
   "source": [
    "Write a regular expression that matches all the characters that are neither a letter nor a punctuation sign. The punctuations signs will be the followings: `.;:?!`. In your regex, use the same order. For the definition of a letter, use a Unicode regex. You will call the regex string `nonletter`"
   ]
  },
  {
   "cell_type": "code",
   "execution_count": 9,
   "metadata": {},
   "outputs": [],
   "source": [
    "# Write your code here\n",
    "nonletter = '[^\\p{L}.;:?!]+'\n",
    "\n"
   ]
  },
  {
   "cell_type": "markdown",
   "metadata": {},
   "source": [
    "Write a `clean()` function that replaces all the characters that are neither a letter nor a punctuation sign with a space. The punctuations signs will be the followings: `.;:?!`.   For the sentence:\n",
    "\n",
    "_En gång hade de på Mårbacka en barnpiga, som hette Back-Kajsa._\n",
    "\n",
    "the result will be:\n",
    "\n",
    "`En gång hade de på Mårbacka en barnpiga som hette Back Kajsa.`"
   ]
  },
  {
   "cell_type": "code",
   "execution_count": 10,
   "metadata": {},
   "outputs": [],
   "source": [
    "# Write your code here\n",
    "def clean(text):\n",
    "    return re.sub(nonletter, ' ', text)"
   ]
  },
  {
   "cell_type": "code",
   "execution_count": 11,
   "metadata": {},
   "outputs": [],
   "source": [
    "test_para = 'En gång hade de på Mårbacka en barnpiga, som hette Back-Kajsa. \\\n",
    "Hon var nog sina tre alnar lång, hon hade ett stort, grovt ansikte med stränga, mörka drag, \\\n",
    "hennes händer voro hårda och fulla av sprickor, som barnens hår fastnade i, \\\n",
    "när hon kammade dem, och till humöret var hon dyster och sorgbunden.'"
   ]
  },
  {
   "cell_type": "code",
   "execution_count": 12,
   "metadata": {},
   "outputs": [
    {
     "data": {
      "text/plain": [
       "'En gång hade de på Mårbacka en barnpiga som hette Back Kajsa. Hon var nog sina tre alnar lång hon hade ett stort grovt ansikte med stränga mörka drag hennes händer voro hårda och fulla av sprickor som barnens hår fastnade i när hon kammade dem och till humöret var hon dyster och sorgbunden.'"
      ]
     },
     "execution_count": 12,
     "metadata": {},
     "output_type": "execute_result"
    }
   ],
   "source": [
    "test_para = clean(test_para)\n",
    "test_para"
   ]
  },
  {
   "cell_type": "code",
   "execution_count": 13,
   "metadata": {},
   "outputs": [
    {
     "name": "stdout",
     "output_type": "stream",
     "text": [
      "Selma Lagerlöf\n",
      "\n",
      "\n",
      "Nils Holgerssons underbara resa genom Sverige. Första bandet\n",
      "\n",
      "\n",
      "\n",
      "\n",
      "\n",
      "Bokutgåva\n",
      "\n",
      "\n",
      "Albert Bonniers förlag, Stockholm 1907.\n",
      "\n",
      "\n",
      "\n",
      "\n",
      "DEN KRISTLIGA DAGVISAN.\n",
      "\n",
      "\n",
      "\n",
      "\n",
      "\n",
      "Den signade dag, som vi nu här s\n"
     ]
    }
   ],
   "source": [
    "print(corpus[:200])"
   ]
  },
  {
   "cell_type": "code",
   "execution_count": 14,
   "metadata": {},
   "outputs": [
    {
     "name": "stdout",
     "output_type": "stream",
     "text": [
      "Selma Lagerlöf Nils Holgerssons underbara resa genom Sverige. Första bandet Bokutgåva Albert Bonniers förlag Stockholm . DEN KRISTLIGA DAGVISAN. Den signade dag som vi nu här s\n"
     ]
    }
   ],
   "source": [
    "print(clean(corpus[:200]))"
   ]
  },
  {
   "cell_type": "markdown",
   "metadata": {},
   "source": [
    "#### Segmenter"
   ]
  },
  {
   "cell_type": "markdown",
   "metadata": {},
   "source": [
    "In this section, you will write a sentence segmenter that will delimit each sentence with `</s>` and `<s>` symbols. For example the sentence:\n",
    "\n",
    "_En gång hade de på Mårbacka en barnpiga, som hette Back-Kajsa._\n",
    "\n",
    "will be bracketed as:\n",
    "\n",
    "`<s> En gång hade de på Mårbacka en barnpiga som hette Back-Kajsa </s>`\n",
    "\n",
    "As algorithm, you will use a simple heuristics to detect the sentence boundaries: A sentence starts with a capital letter and ends with a period-equivalent punctuation sign. You will write a regex to match these boundaries with a regular expression and you will insert `</s>\\n<s>` symbols with a substitution function."
   ]
  },
  {
   "cell_type": "markdown",
   "metadata": {},
   "source": [
    "##### Detecting sentence boundaries"
   ]
  },
  {
   "cell_type": "markdown",
   "metadata": {},
   "source": [
    "Write a regular expression that matches a punctuation, a sequence of spaces, and an uppercase letter. Call this regex string `sentence_boundaries`. In the regex, you will remember the value of the uppercase letter using a backreference. Use the Unicode regexes for the letters and the spaces. You may use `\\s` though."
   ]
  },
  {
   "cell_type": "code",
   "execution_count": 15,
   "metadata": {},
   "outputs": [],
   "source": [
    "# Write your code here\n",
    "sentence_boundaries = '[.;:?!]\\s+(\\p{Lu})'"
   ]
  },
  {
   "cell_type": "markdown",
   "metadata": {},
   "source": [
    "##### Replacement markup"
   ]
  },
  {
   "cell_type": "markdown",
   "metadata": {},
   "source": [
    "Write a string to replace the matched boundaries with the sentence boundary markup. Remember that a sentence ends with `</s>` and starts with `<s>` and that there is one sentence per line. Hint: The markup is `</s>\\n<s>`. Remember also that the first letter of your sentence is in a regex backreference. Call the regex string `sentence_markup`."
   ]
  },
  {
   "cell_type": "code",
   "execution_count": 16,
   "metadata": {},
   "outputs": [],
   "source": [
    "# Write your code here\n",
    "sentence_markup = r' </s>\\n<s> \\1'"
   ]
  },
  {
   "cell_type": "markdown",
   "metadata": {},
   "source": [
    "##### Applying the substitution"
   ]
  },
  {
   "cell_type": "markdown",
   "metadata": {},
   "source": [
    "Use your regexes to segment your text. Use the string `sentence_boundaries`, `sentence_markup`, and `test_para` as input and `text` as output."
   ]
  },
  {
   "cell_type": "code",
   "execution_count": 17,
   "metadata": {},
   "outputs": [],
   "source": [
    "# Write your code here\n",
    "text = re.sub(sentence_boundaries, sentence_markup, test_para)"
   ]
  },
  {
   "cell_type": "code",
   "execution_count": 18,
   "metadata": {},
   "outputs": [
    {
     "name": "stdout",
     "output_type": "stream",
     "text": [
      "En gång hade de på Mårbacka en barnpiga som hette Back Kajsa </s>\n",
      "<s> Hon var nog sina tre alnar lång hon hade ett stort grovt ansikte med stränga mörka drag hennes händer voro hårda och fulla av sprickor som barnens hår fastnade i när hon kammade dem och till humöret var hon dyster och sorgbunden.\n"
     ]
    }
   ],
   "source": [
    "print(text)"
   ]
  },
  {
   "cell_type": "markdown",
   "metadata": {},
   "source": [
    "Insert markup codes in the beginning and end of the text"
   ]
  },
  {
   "cell_type": "code",
   "execution_count": 19,
   "metadata": {},
   "outputs": [],
   "source": [
    "# Write your code here\n",
    "text = '<s> ' + text + ' </s>'"
   ]
  },
  {
   "cell_type": "code",
   "execution_count": 20,
   "metadata": {},
   "outputs": [
    {
     "name": "stdout",
     "output_type": "stream",
     "text": [
      "<s> En gång hade de på Mårbacka en barnpiga som hette Back Kajsa </s>\n",
      "<s> Hon var nog sina tre alnar lång hon hade ett stort grovt ansikte med stränga mörka drag hennes händer voro hårda och fulla av sprickor som barnens hår fastnade i när hon kammade dem och till humöret var hon dyster och sorgbunden. </s>\n"
     ]
    }
   ],
   "source": [
    "print(text)"
   ]
  },
  {
   "cell_type": "markdown",
   "metadata": {},
   "source": [
    "Replace the space duplicates with one space and remove the punctuation signs. For the spaces, use the Unicode regex. You may use `\\s` though."
   ]
  },
  {
   "cell_type": "code",
   "execution_count": 21,
   "metadata": {},
   "outputs": [],
   "source": [
    "# Write your code here\n",
    "text = re.sub('[.;:?!]', ' ', text)\n",
    "text = re.sub(' +', ' ', text)"
   ]
  },
  {
   "cell_type": "code",
   "execution_count": 22,
   "metadata": {},
   "outputs": [
    {
     "name": "stdout",
     "output_type": "stream",
     "text": [
      "<s> En gång hade de på Mårbacka en barnpiga som hette Back Kajsa </s>\n",
      "<s> Hon var nog sina tre alnar lång hon hade ett stort grovt ansikte med stränga mörka drag hennes händer voro hårda och fulla av sprickor som barnens hår fastnade i när hon kammade dem och till humöret var hon dyster och sorgbunden </s>\n"
     ]
    }
   ],
   "source": [
    "print(text)"
   ]
  },
  {
   "cell_type": "markdown",
   "metadata": {},
   "source": [
    "Write a `segment_sentences(text)` function to gather the code in the Segmenter section and set the text in lowercase"
   ]
  },
  {
   "cell_type": "code",
   "execution_count": 23,
   "metadata": {},
   "outputs": [],
   "source": [
    "# Write your code here\n",
    "def segment_sentences(text):\n",
    "    text = re.sub(sentence_boundaries, sentence_markup, text)\n",
    "    text = '<s> ' + text + ' </s>'\n",
    "    text = re.sub('[.;:?!]', ' ', text)\n",
    "    text = re.sub(' +', ' ', text)\n",
    "    return text.lower()"
   ]
  },
  {
   "cell_type": "code",
   "execution_count": 24,
   "metadata": {},
   "outputs": [
    {
     "name": "stdout",
     "output_type": "stream",
     "text": [
      "<s> en gång hade de på mårbacka en barnpiga som hette back kajsa </s>\n",
      "<s> hon var nog sina tre alnar lång hon hade ett stort grovt ansikte med stränga mörka drag hennes händer voro hårda och fulla av sprickor som barnens hår fastnade i när hon kammade dem och till humöret var hon dyster och sorgbunden </s>\n"
     ]
    }
   ],
   "source": [
    "print(segment_sentences(test_para))"
   ]
  },
  {
   "cell_type": "markdown",
   "metadata": {},
   "source": [
    "Estimate qualitatively the accuracy of your program."
   ]
  },
  {
   "cell_type": "markdown",
   "metadata": {},
   "source": [
    "#### Tokenizing the corpus"
   ]
  },
  {
   "cell_type": "markdown",
   "metadata": {},
   "source": [
    "Clean and segment the corpus using the functions you have written"
   ]
  },
  {
   "cell_type": "code",
   "execution_count": 25,
   "metadata": {},
   "outputs": [],
   "source": [
    "# Write your code here\n",
    "corpus = clean(corpus)\n",
    "corpus = segment_sentences(corpus)"
   ]
  },
  {
   "cell_type": "markdown",
   "metadata": {},
   "source": [
    "The result should be a normalized text without punctuation signs where all the sentences are delimited with `<s>` and `</s>` tags. The five last lines of the text should look like this. You may have some small differences."
   ]
  },
  {
   "cell_type": "code",
   "execution_count": 26,
   "metadata": {},
   "outputs": [
    {
     "name": "stdout",
     "output_type": "stream",
     "text": [
      "<s> hon hade fått större kärlek av sina föräldrar än någon annan han visste och sådan kärlek måste vändas i välsignelse </s>\n",
      "<s> då prästen sade detta kom alla människor att se bort mot klara gulla och de förundrade sig över vad de såg </s>\n",
      "<s> prästens ord tycktes redan ha gått i uppfyllelse </s>\n",
      "<s> där stod klara fina gulleborg ifrån skrolycka hon som var uppkallad efter själva solen vid sina föräldrars grav och lyste som en förklarad </s>\n",
      "<s> hon var likaså vacker som den söndagen då hon gick till kyrkan i den röda klänningen om inte vackrare </s>\n"
     ]
    }
   ],
   "source": [
    "print(corpus[-557:])"
   ]
  },
  {
   "cell_type": "markdown",
   "metadata": {},
   "source": [
    "You will now create a list of words from your string. You will consider that a space or a carriage return is an item separator"
   ]
  },
  {
   "cell_type": "code",
   "execution_count": 27,
   "metadata": {},
   "outputs": [],
   "source": [
    "# Write your code here\n",
    "words = re.split(r'[ \\n]', corpus)"
   ]
  },
  {
   "cell_type": "markdown",
   "metadata": {},
   "source": [
    "The five last lines of the corpus should like this:"
   ]
  },
  {
   "cell_type": "code",
   "execution_count": 28,
   "metadata": {},
   "outputs": [
    {
     "name": "stdout",
     "output_type": "stream",
     "text": [
      "['<s>', 'hon', 'hade', 'fått', 'större', 'kärlek', 'av', 'sina', 'föräldrar', 'än', 'någon', 'annan', 'han', 'visste', 'och', 'sådan', 'kärlek', 'måste', 'vändas', 'i', 'välsignelse', '</s>', '<s>', 'då', 'prästen', 'sade', 'detta', 'kom', 'alla', 'människor', 'att', 'se', 'bort', 'mot', 'klara', 'gulla', 'och', 'de', 'förundrade', 'sig', 'över', 'vad', 'de', 'såg', '</s>', '<s>', 'prästens', 'ord', 'tycktes', 'redan', 'ha', 'gått', 'i', 'uppfyllelse', '</s>', '<s>', 'där', 'stod', 'klara', 'fina', 'gulleborg', 'ifrån', 'skrolycka', 'hon', 'som', 'var', 'uppkallad', 'efter', 'själva', 'solen', 'vid', 'sina', 'föräldrars', 'grav', 'och', 'lyste', 'som', 'en', 'förklarad', '</s>', '<s>', 'hon', 'var', 'likaså', 'vacker', 'som', 'den', 'söndagen', 'då', 'hon', 'gick', 'till', 'kyrkan', 'i', 'den', 'röda', 'klänningen', 'om', 'inte', 'vackrare', '</s>']\n"
     ]
    }
   ],
   "source": [
    "print(words[-101:])"
   ]
  },
  {
   "cell_type": "markdown",
   "metadata": {},
   "source": [
    "### Counting unigrams and bigrams"
   ]
  },
  {
   "cell_type": "markdown",
   "metadata": {},
   "source": [
    "Read and try programs to compute the frequency of unigrams and bigrams of the training set in the noteboo: [https://github.com/pnugues/pnlp/blob/main/notebooks/10_01_ngrams.ipynb](https://github.com/pnugues/pnlp/blob/main/notebooks/10_01_ngrams.ipynb)."
   ]
  },
  {
   "cell_type": "markdown",
   "metadata": {},
   "source": [
    "#### Unigrams"
   ]
  },
  {
   "cell_type": "code",
   "execution_count": 29,
   "metadata": {},
   "outputs": [],
   "source": [
    "def unigrams(words):\n",
    "    frequency = {}\n",
    "    for i in range(len(words)):\n",
    "        if words[i] in frequency:\n",
    "            frequency[words[i]] += 1\n",
    "        else:\n",
    "            frequency[words[i]] = 1\n",
    "    return frequency"
   ]
  },
  {
   "cell_type": "markdown",
   "metadata": {},
   "source": [
    "We compute the frequencies."
   ]
  },
  {
   "cell_type": "code",
   "execution_count": 30,
   "metadata": {},
   "outputs": [
    {
     "data": {
      "text/plain": [
       "[('<s>', 59047),\n",
       " ('selma', 52),\n",
       " ('lagerlöf', 270),\n",
       " ('nils', 87),\n",
       " ('holgerssons', 6),\n",
       " ('underbara', 23),\n",
       " ('resa', 317),\n",
       " ('genom', 688),\n",
       " ('sverige', 56),\n",
       " ('</s>', 59047),\n",
       " ('första', 525),\n",
       " ('bandet', 6),\n",
       " ('bokutgåva', 11),\n",
       " ('albert', 15),\n",
       " ('bonniers', 11),\n",
       " ('förlag', 11),\n",
       " ('stockholm', 77),\n",
       " ('den', 11624),\n",
       " ('kristliga', 2),\n",
       " ('dagvisan', 2)]"
      ]
     },
     "execution_count": 30,
     "metadata": {},
     "output_type": "execute_result"
    }
   ],
   "source": [
    "frequency = unigrams(words)\n",
    "list(frequency.items())[:20]"
   ]
  },
  {
   "cell_type": "markdown",
   "metadata": {},
   "source": [
    "#### Bigrams"
   ]
  },
  {
   "cell_type": "code",
   "execution_count": 31,
   "metadata": {},
   "outputs": [],
   "source": [
    "def bigrams(words):\n",
    "    bigrams = []\n",
    "    for i in range(len(words) - 1):\n",
    "        bigrams.append((words[i], words[i + 1]))\n",
    "    frequency_bigrams = {}\n",
    "    for i in range(len(words) - 1):\n",
    "        if bigrams[i] in frequency_bigrams:\n",
    "            frequency_bigrams[bigrams[i]] += 1\n",
    "        else:\n",
    "            frequency_bigrams[bigrams[i]] = 1\n",
    "    return frequency_bigrams"
   ]
  },
  {
   "cell_type": "code",
   "execution_count": 32,
   "metadata": {},
   "outputs": [
    {
     "data": {
      "text/plain": [
       "[(('<s>', 'selma'), 8),\n",
       " (('selma', 'lagerlöf'), 11),\n",
       " (('lagerlöf', 'nils'), 1),\n",
       " (('nils', 'holgerssons'), 6),\n",
       " (('holgerssons', 'underbara'), 4),\n",
       " (('underbara', 'resa'), 4),\n",
       " (('resa', 'genom'), 6),\n",
       " (('genom', 'sverige'), 5),\n",
       " (('sverige', '</s>'), 17),\n",
       " (('</s>', '<s>'), 59046),\n",
       " (('<s>', 'första'), 11),\n",
       " (('första', 'bandet'), 1),\n",
       " (('bandet', 'bokutgåva'), 2),\n",
       " (('bokutgåva', 'albert'), 11),\n",
       " (('albert', 'bonniers'), 11),\n",
       " (('bonniers', 'förlag'), 11),\n",
       " (('förlag', 'stockholm'), 10),\n",
       " (('stockholm', '</s>'), 24),\n",
       " (('<s>', 'den'), 1375),\n",
       " (('den', 'kristliga'), 2)]"
      ]
     },
     "execution_count": 32,
     "metadata": {},
     "output_type": "execute_result"
    }
   ],
   "source": [
    "frequency_bigrams = bigrams(words)\n",
    "list(frequency_bigrams.items())[:20]"
   ]
  },
  {
   "cell_type": "markdown",
   "metadata": {},
   "source": [
    "In the report, tell what is the possible number of bigrams and their real number? Explain why such a difference. What would be the possible number of 4-grams.\n",
    "\n",
    "Propose a solution to cope with bigrams unseen in the corpus."
   ]
  },
  {
   "cell_type": "markdown",
   "metadata": {},
   "source": [
    "### Computing the likelihood of a sentence\n",
    "You will now compute the likelihood of a sentence using a bigram and a trigram models. \n",
    "\n",
    "In both models, you will ignore the start of sentence symbol, `<s>`, as this factor is common to both models: $P(<s>)$. This will save you one multiplication."
   ]
  },
  {
   "cell_type": "markdown",
   "metadata": {},
   "source": [
    "#### Unigrams"
   ]
  },
  {
   "cell_type": "markdown",
   "metadata": {},
   "source": [
    "Write a program to compute a sentence's probability using unigrams. Your function will return the perplexity."
   ]
  },
  {
   "cell_type": "markdown",
   "metadata": {},
   "source": [
    "Your function should print and tabulate the results as in the examples below with the sentence _Det var en gång en katt som hette Nils_.\n",
    "\n",
    "Your figures might be slightly different because of differences in the sentence segmentation."
   ]
  },
  {
   "cell_type": "markdown",
   "metadata": {},
   "source": [
    "```\n",
    "=====================================================\n",
    "wi \t C(wi) \t #words \t P(wi)\n",
    "=====================================================\n",
    "det \t 21108 \t 1041631 \t 0.0202643738521607\n",
    "var \t 12090 \t 1041631 \t 0.01160679741674355\n",
    "en \t 13514 \t 1041631 \t 0.01297388422579589\n",
    "gång \t 1332 \t 1041631 \t 0.001278763784871994\n",
    "en \t 13514 \t 1041631 \t 0.01297388422579589\n",
    "katt \t 16 \t 1041631 \t 1.5360525944408337e-05\n",
    "som \t 16288 \t 1041631 \t 0.015637015411407686\n",
    "hette \t 97 \t 1041631 \t 9.312318853797554e-05\n",
    "nils \t 87 \t 1041631 \t 8.352285982272032e-05\n",
    "</s> \t 59047 \t 1041631 \t 0.056687060964967444\n",
    "=====================================================\n",
    "Prob. unigrams:\t 5.361459667285409e-27\n",
    "Geometric mean prob.: 0.0023600885848765307\n",
    "Entropy rate:\t 8.726943273141258\n",
    "Perplexity:\t 423.71290908655254\n",
    "```"
   ]
  },
  {
   "cell_type": "code",
   "execution_count": 33,
   "metadata": {},
   "outputs": [],
   "source": [
    "# Write your code\n",
    "def unigram_lm(frequency, sent_words):\n",
    "    \"\"\"\n",
    "    Computing the sentence probs with a unigram model.\n",
    "    \"\"\"\n",
    "    \n",
    "    nbr_words = sum(frequency.values())\n",
    "    word_occurrences = []\n",
    "    prob_list = []\n",
    "    for word in sent_words:\n",
    "        freq = frequency[word]\n",
    "        word_occurrences.append(freq)\n",
    "        prob_list.append(freq / nbr_words)\n",
    "\n",
    "    prob_unigrams = math.prod(prob_list)\n",
    "    geometric_mean = prob_unigrams ** (1 / len(sent_words))\n",
    "\n",
    "    # Calculate the entropy\n",
    "    entropy = -sum([math.log2(prob) for prob in prob_list]) / len(prob_list)\n",
    "    perplexity = 2 ** entropy\n",
    "\n",
    "    # print the results    \n",
    "    print('=' * 60)\n",
    "    print(f\"{'wi' : <10}{'C(wi)' : ^10}{'#words' : ^10}{'P(wi)' : >15}\")\n",
    "    print('=' * 60)\n",
    "    for i in range(len(sent_words)):\n",
    "        print(f\"{sent_words[i] : <12}{word_occurrences[i] : <10}{nbr_words : <18}{prob_list[i] : <15}\")\n",
    "    print('=' * 60)\n",
    "    print(f\"{'Prob. unigrams:' : <25}{prob_unigrams}\")\n",
    "    print(f\"{'Geometric mean prob.:' : <25}{geometric_mean}\")\n",
    "    print(f\"{'Entropy rate:' : <25}{entropy}\")\n",
    "    print(f\"{'Perplexity:' : <25}{perplexity}\")\n",
    "    \n",
    "    return perplexity\n",
    "    "
   ]
  },
  {
   "cell_type": "code",
   "execution_count": 34,
   "metadata": {},
   "outputs": [
    {
     "data": {
      "text/plain": [
       "['det', 'var', 'en', 'gång', 'en', 'katt', 'som', 'hette', 'nils', '</s>']"
      ]
     },
     "execution_count": 34,
     "metadata": {},
     "output_type": "execute_result"
    }
   ],
   "source": [
    "sentence = 'det var en gång en katt som hette nils </s>'\n",
    "sent_words = sentence.split()\n",
    "sent_words"
   ]
  },
  {
   "cell_type": "code",
   "execution_count": 35,
   "metadata": {},
   "outputs": [
    {
     "name": "stdout",
     "output_type": "stream",
     "text": [
      "============================================================\n",
      "wi          C(wi)     #words            P(wi)\n",
      "============================================================\n",
      "det         21108     1041579           0.020265385534846612\n",
      "var         12090     1041579           0.011607376876837956\n",
      "en          13514     1041579           0.012974531936607785\n",
      "gång        1332      1041579           0.0012788276261330154\n",
      "en          13514     1041579           0.012974531936607785\n",
      "katt        16        1041579           1.5361292806402586e-05\n",
      "som         16288     1041579           0.015637796076917832\n",
      "hette       97        1041579           9.312783763881568e-05\n",
      "nils        87        1041579           8.352702963481407e-05\n",
      "</s>        59047     1041579           0.056689891021228345\n",
      "============================================================\n",
      "Prob. unigrams:          5.364136934636431e-27\n",
      "Geometric mean prob.:    0.0023602064104148853\n",
      "Entropy rate:            8.726871249541002\n",
      "Perplexity:              423.6917566138697\n"
     ]
    }
   ],
   "source": [
    "perplexity_unigrams = unigram_lm(frequency, sent_words)"
   ]
  },
  {
   "cell_type": "code",
   "execution_count": 36,
   "metadata": {},
   "outputs": [
    {
     "data": {
      "text/plain": [
       "423"
      ]
     },
     "execution_count": 36,
     "metadata": {},
     "output_type": "execute_result"
    }
   ],
   "source": [
    "perplexity_unigrams = int(perplexity_unigrams)\n",
    "perplexity_unigrams"
   ]
  },
  {
   "cell_type": "code",
   "execution_count": 37,
   "metadata": {},
   "outputs": [
    {
     "data": {
      "text/plain": [
       "{('<s>', 'selma'): 8,\n",
       " ('selma', 'lagerlöf'): 11,\n",
       " ('lagerlöf', 'nils'): 1,\n",
       " ('nils', 'holgerssons'): 6,\n",
       " ('holgerssons', 'underbara'): 4,\n",
       " ('underbara', 'resa'): 4,\n",
       " ('resa', 'genom'): 6,\n",
       " ('genom', 'sverige'): 5,\n",
       " ('sverige', '</s>'): 17,\n",
       " ('</s>', '<s>'): 59046,\n",
       " ('<s>', 'första'): 11,\n",
       " ('första', 'bandet'): 1,\n",
       " ('bandet', 'bokutgåva'): 2,\n",
       " ('bokutgåva', 'albert'): 11,\n",
       " ('albert', 'bonniers'): 11,\n",
       " ('bonniers', 'förlag'): 11,\n",
       " ('förlag', 'stockholm'): 10,\n",
       " ('stockholm', '</s>'): 24,\n",
       " ('<s>', 'den'): 1375,\n",
       " ('den', 'kristliga'): 2,\n",
       " ('kristliga', 'dagvisan'): 2,\n",
       " ('dagvisan', '</s>'): 1,\n",
       " ('den', 'signade'): 2,\n",
       " ('signade', 'dag'): 2,\n",
       " ('dag', 'som'): 43,\n",
       " ('som', 'vi'): 113,\n",
       " ('vi', 'nu'): 24,\n",
       " ('nu', 'här'): 9,\n",
       " ('här', 'se'): 2,\n",
       " ('se', 'av'): 2,\n",
       " ('av', 'himmelen'): 1,\n",
       " ('himmelen', 'till'): 3,\n",
       " ('till', 'oss'): 57,\n",
       " ('oss', 'nedkomma'): 2,\n",
       " ('nedkomma', 'han'): 1,\n",
       " ('han', 'blive'): 1,\n",
       " ('blive', 'oss'): 1,\n",
       " ('oss', 'säll'): 1,\n",
       " ('säll', 'han'): 1,\n",
       " ('han', 'låte'): 1,\n",
       " ('låte', 'sig'): 1,\n",
       " ('sig', 'te'): 1,\n",
       " ('te', 'oss'): 3,\n",
       " ('oss', 'alla'): 24,\n",
       " ('alla', 'till'): 6,\n",
       " ('till', 'glädje'): 3,\n",
       " ('glädje', 'och'): 32,\n",
       " ('och', 'fromma'): 3,\n",
       " ('fromma', '</s>'): 1,\n",
       " ('<s>', 'ja'): 772,\n",
       " ('ja', 'herren'): 1,\n",
       " ('herren', 'den'): 1,\n",
       " ('den', 'högste'): 7,\n",
       " ('högste', 'oss'): 1,\n",
       " ('alla', 'i'): 20,\n",
       " ('i', 'dag'): 228,\n",
       " ('dag', 'för'): 19,\n",
       " ('för', 'synder'): 1,\n",
       " ('synder', 'och'): 1,\n",
       " ('och', 'sorger'): 2,\n",
       " ('sorger', 'bevare'): 1,\n",
       " ('bevare', '</s>'): 1,\n",
       " ('<s>', 'men'): 3824,\n",
       " ('men', 'såsom'): 2,\n",
       " ('såsom', 'en'): 21,\n",
       " ('en', 'fågel'): 15,\n",
       " ('fågel', 'mot'): 1,\n",
       " ('mot', 'himmelens'): 3,\n",
       " ('himmelens', 'höjd'): 2,\n",
       " ('höjd', 'sig'): 1,\n",
       " ('sig', 'lyfter'): 1,\n",
       " ('lyfter', 'på'): 1,\n",
       " ('på', 'lediga'): 2,\n",
       " ('lediga', 'vingar'): 1,\n",
       " ('vingar', 'han'): 1,\n",
       " ('han', 'lovar'): 2,\n",
       " ('lovar', 'sin'): 1,\n",
       " ('sin', 'gud'): 4,\n",
       " ('gud', 'är'): 8,\n",
       " ('är', 'glad'): 27,\n",
       " ('glad', 'och'): 44,\n",
       " ('och', 'förnöjd'): 1,\n",
       " ('förnöjd', 'när'): 1,\n",
       " ('när', 'han'): 596,\n",
       " ('han', 'över'): 13,\n",
       " ('över', 'jorden'): 20,\n",
       " ('jorden', 'sig'): 1,\n",
       " ('sig', 'svingar'): 1,\n",
       " ('svingar', 'så'): 1,\n",
       " ('så', 'lyfter'): 1,\n",
       " ('lyfter', 'sig'): 1,\n",
       " ('sig', 'själen'): 1,\n",
       " ('själen', 'i'): 1,\n",
       " ('i', 'hjärtelig'): 1,\n",
       " ('hjärtelig', 'fröjd'): 1,\n",
       " ('fröjd', 'till'): 2,\n",
       " ('till', 'himlen'): 4,\n",
       " ('himlen', 'med'): 2,\n",
       " ('med', 'lovsång'): 1,\n",
       " ('lovsång', 'och'): 1,\n",
       " ('och', 'böner'): 7,\n",
       " ('böner', '</s>'): 20,\n",
       " ('<s>', 'ack'): 123,\n",
       " ('ack', 'låtom'): 1,\n",
       " ('låtom', 'oss'): 3,\n",
       " ('oss', 'lova'): 1,\n",
       " ('lova', 'och'): 1,\n",
       " ('och', 'bedja'): 13,\n",
       " ('bedja', 'vår'): 1,\n",
       " ('vår', 'gud'): 1,\n",
       " ('gud', 'när'): 2,\n",
       " ('när', 'stunderna'): 1,\n",
       " ('stunderna', 'växla'): 1,\n",
       " ('växla', 'och'): 1,\n",
       " ('och', 'skrida'): 1,\n",
       " ('skrida', 'så'): 1,\n",
       " ('så', 'skola'): 1,\n",
       " ('skola', 'vi'): 16,\n",
       " ('vi', 'stärkas'): 1,\n",
       " ('stärkas', 'att'): 1,\n",
       " ('att', 'hålla'): 161,\n",
       " ('hålla', 'hans'): 1,\n",
       " ('hans', 'bud'): 5,\n",
       " ('bud', 'och'): 3,\n",
       " ('och', 'vaka'): 7,\n",
       " ('vaka', 'och'): 2,\n",
       " ('och', 'tåligen'): 1,\n",
       " ('tåligen', 'lida'): 1,\n",
       " ('lida', '</s>'): 7,\n",
       " ('ja', 'låtom'): 1,\n",
       " ('oss', 'verka'): 1,\n",
       " ('verka', 'med'): 1,\n",
       " ('med', 'allvar'): 2,\n",
       " ('allvar', 'och'): 9,\n",
       " ('och', 'flit'): 2,\n",
       " ('flit', 'så'): 1,\n",
       " ('så', 'länge'): 250,\n",
       " ('länge', 'oss'): 1,\n",
       " ('oss', 'dagen'): 1,\n",
       " ('dagen', 'förunnas'): 1,\n",
       " ('förunnas', '</s>'): 1,\n",
       " ('<s>', 'sv'): 1,\n",
       " ('sv', '</s>'): 1,\n",
       " ('<s>', 'ps'): 1,\n",
       " ('ps', '</s>'): 1,\n",
       " ('<s>', 'sveriges'): 1,\n",
       " ('sveriges', 'karta'): 2,\n",
       " ('karta', '</s>'): 1,\n",
       " ('<s>', 'jag'): 2669,\n",
       " ('jag', 'ser'): 109,\n",
       " ('ser', 'från'): 1,\n",
       " ('från', 'skolans'): 1,\n",
       " ('skolans', 'dar'): 1,\n",
       " ('dar', 'en'): 1,\n",
       " ('en', 'bild'): 7,\n",
       " ('bild', 'av'): 5,\n",
       " ('av', 'fingrar'): 1,\n",
       " ('fingrar', 'märkt'): 1,\n",
       " ('märkt', 'med'): 2,\n",
       " ('med', 'plumpar'): 1,\n",
       " ('plumpar', 'spilld'): 1,\n",
       " ('spilld', 'på'): 1,\n",
       " ('på', 'kalkad'): 1,\n",
       " ('kalkad', 'vägg'): 1,\n",
       " ('vägg', 'i'): 2,\n",
       " ('i', 'prima'): 1,\n",
       " ('prima', 'en'): 1,\n",
       " ('en', 'karta'): 5,\n",
       " ('karta', 'klistrad'): 1,\n",
       " ('klistrad', 'upp'): 1,\n",
       " ('upp', 'på'): 205,\n",
       " ('på', 'lärft'): 1,\n",
       " ('lärft', 'utav'): 1,\n",
       " ('utav', 'den'): 1,\n",
       " ('den', 'svenska'): 5,\n",
       " ('svenska', 'jord'): 1,\n",
       " ('jord', 'vi'): 1,\n",
       " ('vi', 'ärvt'): 1,\n",
       " ('ärvt', 'vårt'): 1,\n",
       " ('vårt', 'land'): 5,\n",
       " ('land', 'från'): 1,\n",
       " ('från', 'fordomtima'): 1,\n",
       " ('fordomtima', '</s>'): 1,\n",
       " ('<s>', 'där'): 489,\n",
       " ('där', 'låg'): 19,\n",
       " ('låg', 'det'): 12,\n",
       " ('det', 'mellan'): 3,\n",
       " ('mellan', 'fjäll'): 1,\n",
       " ('fjäll', 'och'): 10,\n",
       " ('och', 'sjö'): 6,\n",
       " ('sjö', 'på'): 1,\n",
       " ('på', 'skandinaviens'): 1,\n",
       " ('skandinaviens', 'halva'): 1,\n",
       " ('halva', 'ö'): 1,\n",
       " ('ö', 'som'): 1,\n",
       " ('som', 'när'): 17,\n",
       " ('när', 'den'): 98,\n",
       " ('den', 'sågs'): 1,\n",
       " ('sågs', 'från'): 1,\n",
       " ('från', 'sidan'): 2,\n",
       " ('sidan', 'för'): 12,\n",
       " ('för', 'vår'): 13,\n",
       " ('vår', 'primanska'): 1,\n",
       " ('primanska', 'fantasi'): 1,\n",
       " ('fantasi', 'ett'): 1,\n",
       " ('ett', 'utsträckt'): 1,\n",
       " ('utsträckt', 'lejon'): 1,\n",
       " ('lejon', 'kunde'): 1,\n",
       " ('kunde', 'bli'): 45,\n",
       " ('bli', 'i'): 5,\n",
       " ('i', 'vila'): 1,\n",
       " ('vila', 'och'): 17,\n",
       " ('och', 'förbidan'): 1,\n",
       " ('förbidan', '</s>'): 2,\n",
       " ('<s>', 'på'): 416,\n",
       " ('på', 'kartan'): 4,\n",
       " ('kartan', 'stirrade'): 1,\n",
       " ('stirrade', 'vi'): 1,\n",
       " ('vi', 'små'): 1,\n",
       " ('små', 'och'): 21,\n",
       " ('och', 'tanken'): 1,\n",
       " ('tanken', 'hisnade'): 1,\n",
       " ('hisnade', 'att'): 1,\n",
       " ('att', 'gå'): 360,\n",
       " ('gå', 'den'): 12,\n",
       " ('den', 'ändlöst'): 1,\n",
       " ('ändlöst', 'långa'): 2,\n",
       " ('långa', 'vägen'): 5,\n",
       " ('vägen', 'från'): 5,\n",
       " ('från', 'ystad'): 1,\n",
       " ('ystad', 'uppåt'): 1,\n",
       " ('uppåt', 'torneå'): 1,\n",
       " ('torneå', 'den'): 1,\n",
       " ('den', 'nötte'): 1,\n",
       " ('nötte', 'man'): 1,\n",
       " ('man', 'ut'): 8,\n",
       " ('ut', 'järnskor'): 1,\n",
       " ('järnskor', 'på'): 1,\n",
       " ('på', 'som'): 15,\n",
       " ('som', 'i'): 151,\n",
       " ('i', 'den'): 591,\n",
       " ('den', 'gamla'): 442,\n",
       " ('gamla', 'sägen'): 1,\n",
       " ('sägen', '</s>'): 1,\n",
       " ('<s>', 'än'): 42,\n",
       " ('än', 'tänker'): 1,\n",
       " ('tänker', 'jag'): 33,\n",
       " ('jag', 'mig'): 36,\n",
       " ('mig', 'var'): 8,\n",
       " ('var', 'provins'): 1,\n",
       " ('provins', 'i'): 1,\n",
       " ('i', 'samma'): 109,\n",
       " ('samma', 'färger'): 1,\n",
       " ('färger', 'som'): 1,\n",
       " ('som', 'jag'): 405,\n",
       " ('jag', 'minns'): 25,\n",
       " ('minns', 'från'): 1,\n",
       " ('från', 'kartans'): 1,\n",
       " ('kartans', 'bjärta'): 1,\n",
       " ('bjärta', 'gränser'): 1,\n",
       " ('gränser', 'ett'): 1,\n",
       " ('ett', 'skåne'): 1,\n",
       " ('skåne', 'gult'): 1,\n",
       " ('gult', 'som'): 3,\n",
       " ('som', 'skördefält'): 1,\n",
       " ('skördefält', 'ett'): 1,\n",
       " ('ett', 'sörmland'): 1,\n",
       " ('sörmland', 'grönt'): 1,\n",
       " ('grönt', 'som'): 1,\n",
       " ('som', 'björkens'): 1,\n",
       " ('björkens', 'tält'): 1,\n",
       " ('tält', 'då'): 1,\n",
       " ('då', 'värmland'): 1,\n",
       " ('värmland', 'stålblått'): 1,\n",
       " ('stålblått', 'glänser'): 1,\n",
       " ('glänser', '</s>'): 1,\n",
       " ('<s>', 'längst'): 8,\n",
       " ('längst', 'upp'): 1,\n",
       " ('upp', 'i'): 205,\n",
       " ('i', 'norr'): 34,\n",
       " ('norr', 'ett'): 1,\n",
       " ('ett', 'blodrött'): 1,\n",
       " ('blodrött', 'snitt'): 1,\n",
       " ('snitt', 'där'): 1,\n",
       " ('där', 'vidtog'): 1,\n",
       " ('vidtog', 'ryssland'): 1,\n",
       " ('ryssland', 'tomt'): 1,\n",
       " ('tomt', 'och'): 7,\n",
       " ('och', 'vitt'): 9,\n",
       " ('vitt', 'och'): 8,\n",
       " ('och', 'blicken'): 2,\n",
       " ('blicken', 'återvände'): 1,\n",
       " ('återvände', 'till'): 3,\n",
       " ('till', 'sveas'): 1,\n",
       " ('sveas', 'bygd'): 1,\n",
       " ('bygd', 'med'): 2,\n",
       " ('med', 'berg'): 2,\n",
       " ('berg', 'och'): 17,\n",
       " ('och', 'slätt'): 4,\n",
       " ('slätt', 'små'): 1,\n",
       " ('små', 'städer'): 2,\n",
       " ('städer', 'liksom'): 1,\n",
       " ('liksom', 'smultron'): 1,\n",
       " ('smultron', 'tätt'): 1,\n",
       " ('tätt', 'och'): 3,\n",
       " ('och', 'strömmar'): 6,\n",
       " ('strömmar', 'utan'): 1,\n",
       " ('utan', 'ände'): 1,\n",
       " ('ände', '</s>'): 2,\n",
       " ('<s>', 'de'): 2071,\n",
       " ('de', 'runno'): 1,\n",
       " ('runno', 'här'): 1,\n",
       " ('här', 'de'): 2,\n",
       " ('de', 'flöto'): 1,\n",
       " ('flöto', 'där'): 1,\n",
       " ('där', 'och'): 160,\n",
       " ('och', 'det'): 840,\n",
       " ('det', 'var'): 3839,\n",
       " ('var', 'vånda'): 1,\n",
       " ('vånda', 'och'): 2,\n",
       " ('och', 'besvär'): 4,\n",
       " ('besvär', 'att'): 8,\n",
       " ('hålla', 'hop'): 1,\n",
       " ('hop', 'dem'): 1,\n",
       " ('dem', 'alla'): 40,\n",
       " ('i', 'klassens'): 1,\n",
       " ('klassens', 'mummel'): 1,\n",
       " ('mummel', 'läxors'): 1,\n",
       " ('läxors', 'sus'): 1,\n",
       " ('sus', 'jag'): 1,\n",
       " ('jag', 'hörde'): 24,\n",
       " ('hörde', 'deras'): 5,\n",
       " ('deras', 'fjärran'): 1,\n",
       " ('fjärran', 'brus'): 1,\n",
       " ('brus', 'för'): 1,\n",
       " ('för', 'mina'): 10,\n",
       " ('mina', 'öron'): 5,\n",
       " ('öron', 'svalla'): 1,\n",
       " ('svalla', '</s>'): 1,\n",
       " ('<s>', 'ur'): 28,\n",
       " ('ur', 'minnet'): 1,\n",
       " ('minnet', 'gledo'): 1,\n",
       " ('gledo', 'namnen'): 1,\n",
       " ('namnen', 'hän'): 1,\n",
       " ('hän', 'så'): 1,\n",
       " ('så', 'snabbt'): 2,\n",
       " ('snabbt', 'som'): 3,\n",
       " ('som', 'några'): 1,\n",
       " ('några', 'timmerträn'): 1,\n",
       " ('timmerträn', 'på'): 1,\n",
       " ('på', 'västerbottens'): 1,\n",
       " ('västerbottens', 'älver'): 1,\n",
       " ('älver', 'och'): 1,\n",
       " ('och', 'barnatårars'): 1,\n",
       " ('barnatårars', 'salta'): 1,\n",
       " ('salta', 'tåg'): 1,\n",
       " ('tåg', 'förente'): 1,\n",
       " ('förente', 'sig'): 1,\n",
       " ('sig', 'med'): 304,\n",
       " ('med', 'varje'): 8,\n",
       " ('varje', 'våg'): 2,\n",
       " ('våg', 'som'): 1,\n",
       " ('som', 'genom'): 2,\n",
       " ('genom', 'norrland'): 1,\n",
       " ('norrland', 'välver'): 1,\n",
       " ('välver', '</s>'): 1,\n",
       " ('men', 'liksom'): 2,\n",
       " ('liksom', 'engelbrekt'): 1,\n",
       " ('engelbrekt', 'med'): 1,\n",
       " ('med', 'mod'): 2,\n",
       " ('mod', 'från'): 1,\n",
       " ('från', 'stad'): 1,\n",
       " ('stad', 'till'): 1,\n",
       " ('till', 'stad'): 2,\n",
       " ('stad', 'från'): 1,\n",
       " ('från', 'flod'): 1,\n",
       " ('flod', 'till'): 1,\n",
       " ('till', 'flod'): 1,\n",
       " ('flod', 'vi'): 1,\n",
       " ('vi', 'fram'): 2,\n",
       " ('fram', 'till'): 514,\n",
       " ('till', 'målet'): 4,\n",
       " ('målet', 'lände'): 1,\n",
       " ('lände', '</s>'): 1,\n",
       " ('<s>', 'erövringen'): 1,\n",
       " ('erövringen', 'var'): 1,\n",
       " ('var', 'lång'): 11,\n",
       " ('lång', 'och'): 26,\n",
       " ('och', 'svår'): 4,\n",
       " ('svår', 'men'): 1,\n",
       " ('men', 'nu'): 354,\n",
       " ('nu', 'var'): 216,\n",
       " ('var', 'fosterjorden'): 1,\n",
       " ('fosterjorden', 'vår'): 1,\n",
       " ('vår', 'nu'): 2,\n",
       " ('nu', 'då'): 82,\n",
       " ('då', 'dess'): 1,\n",
       " ('dess', 'drag'): 1,\n",
       " ('drag', 'vi'): 1,\n",
       " ('vi', 'kände'): 3,\n",
       " ('kände', '</s>'): 9,\n",
       " ('där', 'förr'): 4,\n",
       " ('förr', 'vi'): 1,\n",
       " ('vi', 'sutto'): 4,\n",
       " ('sutto', 'du'): 1,\n",
       " ('du', 'och'): 31,\n",
       " ('och', 'jag'): 443,\n",
       " ('jag', 'ett'): 6,\n",
       " ('ett', 'släkte'): 1,\n",
       " ('släkte', 'sitter'): 1,\n",
       " ('sitter', 'nu'): 3,\n",
       " ('nu', 'i'): 69,\n",
       " ('som', 'kan'): 61,\n",
       " ('kan', 'vad'): 1,\n",
       " ('vad', 'vi'): 22,\n",
       " ('vi', 'ej'): 13,\n",
       " ('ej', 'visste'): 9,\n",
       " ('visste', '</s>'): 16,\n",
       " ('den', 'som'): 434,\n",
       " ('som', 'hos'): 5,\n",
       " ('hos', 'oss'): 33,\n",
       " ('oss', 'var'): 4,\n",
       " ('var', 'främst'): 1,\n",
       " ('främst', 'i'): 4,\n",
       " ('i', 'led'): 3,\n",
       " ('led', 'bland'): 1,\n",
       " ('bland', 'denna'): 1,\n",
       " ('denna', 'ungdom'): 1,\n",
       " ('ungdom', 'sjönke'): 1,\n",
       " ('sjönke', 'ned'): 1,\n",
       " ('ned', 'kanhända'): 1,\n",
       " ('kanhända', 'till'): 1,\n",
       " ('till', 'den'): 289,\n",
       " ('den', 'siste'): 6,\n",
       " ('siste', '</s>'): 2,\n",
       " ('<s>', 'nu'): 968,\n",
       " ('nu', 'böjas'): 1,\n",
       " ('böjas', 'över'): 1,\n",
       " ('över', 'kartans'): 1,\n",
       " ('kartans', 'blad'): 1,\n",
       " ('blad', 'de'): 3,\n",
       " ('de', 'huvun'): 1,\n",
       " ('huvun', 'små'): 1,\n",
       " ('små', 'i'): 1,\n",
       " ('i', 'lockig'): 1,\n",
       " ('lockig', 'rad'): 1,\n",
       " ('rad', 'som'): 1,\n",
       " ('som', 'efter'): 10,\n",
       " ('efter', 'oss'): 10,\n",
       " ('oss', 'ta'): 1,\n",
       " ('ta', 'arvet'): 2,\n",
       " ('arvet', '</s>'): 3,\n",
       " ('<s>', 'vad'): 552,\n",
       " ('vad', 'oss'): 1,\n",
       " ('oss', 'synts'): 1,\n",
       " ('synts', 'långt'): 1,\n",
       " ('långt', 'för'): 4,\n",
       " ('för', 'dem'): 182,\n",
       " ('dem', 'syns'): 1,\n",
       " ('syns', 'kort'): 1,\n",
       " ('kort', 'och'): 18,\n",
       " ('och', 'alla'): 132,\n",
       " ('alla', 'avstånd'): 2,\n",
       " ('avstånd', 'svinna'): 1,\n",
       " ('svinna', 'bort'): 1,\n",
       " ('bort', 'i'): 36,\n",
       " ('i', 'järnvägstidevarvet'): 1,\n",
       " ('järnvägstidevarvet', '</s>'): 1,\n",
       " ('de', 'läsa'): 3,\n",
       " ('läsa', 'på'): 4,\n",
       " ('på', 'det'): 410,\n",
       " ('det', 'svarta'): 15,\n",
       " ('svarta', 'nät'): 1,\n",
       " ('nät', 'som'): 3,\n",
       " ('som', 'korsar'): 1,\n",
       " ('korsar', 'älvens'): 1,\n",
       " ('älvens', 'blåa'): 1,\n",
       " ('blåa', 'fjät'): 1,\n",
       " ('fjät', 'och'): 1,\n",
       " ('och', 'genom'): 15,\n",
       " ('genom', 'fjället'): 1,\n",
       " ('fjället', 'spränger'): 1,\n",
       " ('spränger', '</s>'): 1,\n",
       " ('<s>', 'lokomotivets'): 1,\n",
       " ('lokomotivets', 'gälla'): 1,\n",
       " ('gälla', 'sus'): 1,\n",
       " ('sus', 'i'): 3,\n",
       " ('i', 'flodsystemets'): 1,\n",
       " ('flodsystemets', 'dova'): 1,\n",
       " ('dova', 'brus'): 1,\n",
       " ('brus', 'på'): 1,\n",
       " ('kartan', 'in'): 1,\n",
       " ('in', 'sig'): 17,\n",
       " ('sig', 'mänger'): 1,\n",
       " ('mänger', '</s>'): 1,\n",
       " ('men', 'säg'): 1,\n",
       " ('säg', 'vad'): 4,\n",
       " ('vad', 'tänker'): 7,\n",
       " ('tänker', 'du'): 15,\n",
       " ('du', 'därvid'): 1,\n",
       " ('därvid', 'du'): 1,\n",
       " ('du', 'unga'): 2,\n",
       " ('unga', 'ätt'): 1,\n",
       " ('ätt', 'i'): 1,\n",
       " ('i', 'ångans'): 1,\n",
       " ('ångans', 'tid'): 1,\n",
       " ('tid', 'vars'): 1,\n",
       " ('vars', 'kinder'): 1,\n",
       " ('kinder', 'kunskap'): 1,\n",
       " ('kunskap', 'bleker'): 1,\n",
       " ('bleker', '</s>'): 1,\n",
       " ('<s>', 'har'): 152,\n",
       " ('har', 'väl'): 38,\n",
       " ('väl', 'i'): 26,\n",
       " ('i', 'brinnande'): 3,\n",
       " ('brinnande', 'termin'): 1,\n",
       " ('termin', 'du'): 1,\n",
       " ('du', 'dörren'): 1,\n",
       " ('dörren', 'stängt'): 1,\n",
       " ('stängt', 'för'): 2,\n",
       " ('för', 'fantasin'): 1,\n",
       " ('fantasin', 'som'): 1,\n",
       " ('som', 'skimrar'): 1,\n",
       " ('skimrar', 'och'): 1,\n",
       " ('och', 'som'): 177,\n",
       " ('som', 'leker'): 2,\n",
       " ('leker', '</s>'): 2,\n",
       " ('<s>', 'nej'): 400,\n",
       " ('nej', 'än'): 1,\n",
       " ('än', 'mot'): 2,\n",
       " ('mot', 'gossens'): 1,\n",
       " ('gossens', 'skolpulpet'): 1,\n",
       " ('skolpulpet', 'hon'): 1,\n",
       " ('hon', 'lutar'): 1,\n",
       " ('lutar', 'sig'): 7,\n",
       " ('sig', 'i'): 409,\n",
       " ('i', 'hemlighet'): 1,\n",
       " ('hemlighet', 'vår'): 1,\n",
       " ('vår', 'barndoms'): 1,\n",
       " ('barndoms', 'tröstarinna'): 1,\n",
       " ('tröstarinna', '</s>'): 1,\n",
       " ('<s>', 'med'): 129,\n",
       " ('med', 'hennes'): 15,\n",
       " ('hennes', 'trollglas'): 1,\n",
       " ('trollglas', 'i'): 1,\n",
       " ('i', 'sin'): 337,\n",
       " ('sin', 'hand'): 84,\n",
       " ('hand', 'i'): 17,\n",
       " ('i', 'läxans'): 1,\n",
       " ('läxans', 'torra'): 1,\n",
       " ('torra', 'ökensand'): 1,\n",
       " ('ökensand', 'skall'): 1,\n",
       " ('skall', 'liv'): 1,\n",
       " ('liv', 'och'): 55,\n",
       " ('och', 'färg'): 2,\n",
       " ('färg', 'han'): 1,\n",
       " ('han', 'finna'): 2,\n",
       " ('finna', '</s>'): 12,\n",
       " ('<s>', 'du'): 861,\n",
       " ('du', 'hulda'): 1,\n",
       " ('hulda', 'fe'): 1,\n",
       " ('fe', 'du'): 1,\n",
       " ('du', 'barnens'): 1,\n",
       " ('barnens', 'vän'): 2,\n",
       " ('vän', 'i'): 6,\n",
       " ('i', 'bokens'): 1,\n",
       " ('bokens', 'bräddar'): 1,\n",
       " ('bräddar', 'måla'): 1,\n",
       " ('måla', 'än'): 1,\n",
       " ('än', 'din'): 2,\n",
       " ('din', 'bildvärld'): 1,\n",
       " ('bildvärld', 'för'): 1,\n",
       " ('för', 'de'): 118,\n",
       " ('de', 'unga'): 59,\n",
       " ('unga', '</s>'): 12,\n",
       " ('<s>', 'åt'): 11,\n",
       " ('åt', 'hemmets'): 1,\n",
       " ('hemmets', 'skog'): 1,\n",
       " ('skog', 'och'): 27,\n",
       " ('och', 'fjäll'): 6,\n",
       " ('och', 'älv'): 1,\n",
       " ('älv', 'åt'): 1,\n",
       " ('åt', 'järnets'): 1,\n",
       " ('järnets', 'döda'): 1,\n",
       " ('döda', 'massa'): 1,\n",
       " ('massa', 'själv'): 1,\n",
       " ('själv', 'giv'): 1,\n",
       " ('giv', 'så'): 1,\n",
       " ('så', 'en'): 19,\n",
       " ('en', 'själ'): 13,\n",
       " ('själ', 'en'): 4,\n",
       " ('en', 'tunga'): 1,\n",
       " ('tunga', '</s>'): 4,\n",
       " ('<s>', 'och'): 2702,\n",
       " ('och', 'prägla'): 1,\n",
       " ('prägla', 'levande'): 1,\n",
       " ('levande', 'och'): 5,\n",
       " ('och', 'varm'): 4,\n",
       " ('varm', 'en'): 1,\n",
       " ('en', 'sveriges'): 1,\n",
       " ('sveriges', 'bild'): 1,\n",
       " ('bild', 'i'): 2,\n",
       " ('i', 'barnets'): 1,\n",
       " ('barnets', 'barm'): 1,\n",
       " ('barm', 'som'): 1,\n",
       " ('som', 'mannen'): 6,\n",
       " ('mannen', 'skall'): 2,\n",
       " ('skall', 'bevara'): 1,\n",
       " ('bevara', 'som'): 1,\n",
       " ('som', 'han'): 867,\n",
       " ('han', 'skall'): 31,\n",
       " ('skall', 'ägna'): 1,\n",
       " ('ägna', 'glad'): 1,\n",
       " ('glad', 'en'): 2,\n",
       " ('en', 'gång'): 706,\n",
       " ('gång', 'sin'): 1,\n",
       " ('sin', 'levnads'): 1,\n",
       " ('levnads', 'gärning'): 1,\n",
       " ('gärning', 'eller'): 1,\n",
       " ('eller', 'sång'): 1,\n",
       " ('sång', 'och'): 12,\n",
       " ('och', 'dö'): 8,\n",
       " ('dö', 'för'): 5,\n",
       " ('för', 'att'): 2932,\n",
       " ('att', 'försvara'): 20,\n",
       " ('försvara', '</s>'): 1,\n",
       " ('<s>', 'carl'): 1,\n",
       " ('carl', 'snoilsky'): 1,\n",
       " ('snoilsky', '</s>'): 5,\n",
       " ('<s>', 'nils'): 7,\n",
       " ('sverige', 'i'): 2,\n",
       " ('i', '</s>'): 53,\n",
       " ('<s>', 'pojken'): 282,\n",
       " ('pojken', '</s>'): 146,\n",
       " ('<s>', 'tomten'): 6,\n",
       " ('tomten', '</s>'): 19,\n",
       " ('<s>', 'söndag'): 7,\n",
       " ('söndag', 'mars'): 1,\n",
       " ('mars', '</s>'): 10,\n",
       " ('<s>', 'det'): 5672,\n",
       " ('var', 'en'): 712,\n",
       " ('gång', 'en'): 20,\n",
       " ('en', 'pojke'): 13,\n",
       " ('pojke', '</s>'): 10,\n",
       " ('<s>', 'han'): 5059,\n",
       " ('han', 'var'): 986,\n",
       " ('var', 'så'): 504,\n",
       " ('så', 'där'): 84,\n",
       " ('där', 'en'): 52,\n",
       " ('en', 'fjorton'): 1,\n",
       " ('fjorton', 'år'): 5,\n",
       " ('år', 'gammal'): 28,\n",
       " ('gammal', 'lång'): 1,\n",
       " ('och', 'ranglig'): 1,\n",
       " ('ranglig', 'och'): 1,\n",
       " ('och', 'linhårig'): 1,\n",
       " ('linhårig', '</s>'): 1,\n",
       " ('<s>', 'inte'): 380,\n",
       " ('inte', 'stort'): 10,\n",
       " ('stort', 'dugde'): 1,\n",
       " ('dugde', 'han'): 1,\n",
       " ('han', 'till'): 142,\n",
       " ('till', 'han'): 2,\n",
       " ('han', 'hade'): 2044,\n",
       " ('hade', 'mest'): 5,\n",
       " ('mest', 'av'): 11,\n",
       " ('av', 'allt'): 59,\n",
       " ('allt', 'lust'): 1,\n",
       " ('lust', 'att'): 115,\n",
       " ('att', 'sova'): 50,\n",
       " ('sova', 'och'): 12,\n",
       " ('och', 'äta'): 18,\n",
       " ('äta', 'och'): 10,\n",
       " ('och', 'därnäst'): 1,\n",
       " ('därnäst', 'tyckte'): 1,\n",
       " ('tyckte', 'han'): 87,\n",
       " ('han', 'om'): 69,\n",
       " ('om', 'att'): 620,\n",
       " ('att', 'ställa'): 37,\n",
       " ('ställa', 'till'): 33,\n",
       " ('till', 'odygd'): 1,\n",
       " ('odygd', '</s>'): 1,\n",
       " ('var', 'det'): 958,\n",
       " ('det', 'en'): 119,\n",
       " ('en', 'söndagsmorgon'): 1,\n",
       " ('söndagsmorgon', 'och'): 1,\n",
       " ('och', 'pojkens'): 1,\n",
       " ('pojkens', 'föräldrar'): 1,\n",
       " ('föräldrar', 'höllo'): 1,\n",
       " ('höllo', 'på'): 31,\n",
       " ('på', 'att'): 876,\n",
       " ('att', 'göra'): 369,\n",
       " ('göra', 'sig'): 82,\n",
       " ('i', 'ordning'): 66,\n",
       " ('ordning', 'för'): 7,\n",
       " ('gå', 'i'): 53,\n",
       " ('i', 'kyrkan'): 98,\n",
       " ('kyrkan', '</s>'): 90,\n",
       " ('pojken', 'själv'): 2,\n",
       " ('själv', 'satt'): 6,\n",
       " ('satt', 'i'): 81,\n",
       " ('i', 'skjortärmarna'): 2,\n",
       " ('skjortärmarna', 'på'): 1,\n",
       " ('på', 'bordskanten'): 1,\n",
       " ('bordskanten', 'och'): 1,\n",
       " ('och', 'tänkte'): 101,\n",
       " ('tänkte', 'på'): 252,\n",
       " ('på', 'hur'): 136,\n",
       " ('hur', 'lyckligt'): 1,\n",
       " ('lyckligt', 'det'): 1,\n",
       " ('var', 'att'): 182,\n",
       " ('att', 'både'): 31,\n",
       " ('både', 'far'): 10,\n",
       " ('far', 'och'): 130,\n",
       " ('och', 'mor'): 101,\n",
       " ('mor', 'gingo'): 2,\n",
       " ('gingo', 'sin'): 2,\n",
       " ('sin', 'väg'): 123,\n",
       " ('väg', 'så'): 8,\n",
       " ('så', 'att'): 1264,\n",
       " ('att', 'han'): 2958,\n",
       " ('han', 'skulle'): 655,\n",
       " ('skulle', 'få'): 331,\n",
       " ('få', 'rå'): 2,\n",
       " ('rå', 'sig'): 1,\n",
       " ('sig', 'själv'): 278,\n",
       " ('själv', 'under'): 2,\n",
       " ('under', 'ett'): 31,\n",
       " ('ett', 'par'): 770,\n",
       " ('par', 'timmar'): 29,\n",
       " ('timmar', '</s>'): 18,\n",
       " ('nu', 'kan'): 37,\n",
       " ('kan', 'jag'): 129,\n",
       " ('jag', 'då'): 35,\n",
       " ('då', 'ta'): 1,\n",
       " ('ta', 'ner'): 3,\n",
       " ('ner', 'fars'): 1,\n",
       " ('fars', 'bössa'): 2,\n",
       " ('bössa', 'och'): 3,\n",
       " ('och', 'skjuta'): 6,\n",
       " ('skjuta', 'av'): 4,\n",
       " ('av', 'ett'): 79,\n",
       " ('ett', 'skott'): 10,\n",
       " ('skott', 'utan'): 1,\n",
       " ('utan', 'att'): 562,\n",
       " ('att', 'någon'): 108,\n",
       " ('någon', 'behöver'): 1,\n",
       " ('behöver', 'lägga'): 1,\n",
       " ('lägga', 'sig'): 48,\n",
       " ('i', 'det'): 332,\n",
       " ('det', 'sade'): 82,\n",
       " ('sade', 'han'): 782,\n",
       " ('han', 'för'): 91,\n",
       " ('för', 'sig'): 270,\n",
       " ('själv', '</s>'): 203,\n",
       " ('men', 'det'): 786,\n",
       " ('var', 'nästan'): 43,\n",
       " ('nästan', 'som'): 23,\n",
       " ('som', 'om'): 789,\n",
       " ('om', 'far'): 12,\n",
       " ('far', 'skulle'): 12,\n",
       " ('skulle', 'ha'): 430,\n",
       " ('ha', 'gissat'): 1,\n",
       " ('gissat', 'sig'): 1,\n",
       " ('sig', 'till'): 338,\n",
       " ('till', 'pojkens'): 2,\n",
       " ('pojkens', 'tankar'): 1,\n",
       " ('tankar', 'för'): 5,\n",
       " ('för', 'just'): 1,\n",
       " ('just', 'som'): 72,\n",
       " ('han', 'stod'): 132,\n",
       " ('stod', 'på'): 94,\n",
       " ('på', 'tröskeln'): 27,\n",
       " ('tröskeln', 'och'): 7,\n",
       " ('och', 'var'): 176,\n",
       " ('var', 'färdig'): 30,\n",
       " ('färdig', 'att'): 40,\n",
       " ('gå', 'stannade'): 1,\n",
       " ('stannade', 'han'): 39,\n",
       " ('han', 'och'): 350,\n",
       " ('och', 'vände'): 66,\n",
       " ('vände', 'sig'): 160,\n",
       " ('sig', 'mot'): 89,\n",
       " ('mot', 'honom'): 96,\n",
       " ('honom', '</s>'): 1740,\n",
       " ('<s>', 'eftersom'): 24,\n",
       " ('eftersom', 'du'): 11,\n",
       " ('du', 'inte'): 286,\n",
       " ('inte', 'vill'): 58,\n",
       " ('vill', 'gå'): 19,\n",
       " ('kyrkan', 'med'): 8,\n",
       " ('med', 'mor'): 14,\n",
       " ('mor', 'och'): 64,\n",
       " ('och', 'mig'): 16,\n",
       " ('mig', 'sade'): 99,\n",
       " ('han', 'så'): 100,\n",
       " ('så', 'tycker'): 10,\n",
       " ('tycker', 'jag'): 31,\n",
       " ('jag', 'att'): 195,\n",
       " ('att', 'du'): 587,\n",
       " ('du', 'åtminstone'): 2,\n",
       " ('åtminstone', 'kan'): 1,\n",
       " ('kan', 'läsa'): 3,\n",
       " ('läsa', 'predikan'): 2,\n",
       " ('predikan', 'hemma'): 1,\n",
       " ('hemma', '</s>'): 59,\n",
       " ('<s>', 'vill'): 66,\n",
       " ('vill', 'du'): 70,\n",
       " ('du', 'lova'): 2,\n",
       " ('lova', 'att'): 3,\n",
       " ('du', 'gör'): 26,\n",
       " ('gör', 'det'): 43,\n",
       " ('det', '</s>'): 615,\n",
       " ('ja', 'sade'): 66,\n",
       " ('sade', 'pojken'): 118,\n",
       " ('pojken', 'det'): 3,\n",
       " ('det', 'kan'): 230,\n",
       " ('jag', 'väl'): 54,\n",
       " ('väl', 'göra'): 11,\n",
       " ('göra', '</s>'): 88,\n",
       " ('och', 'han'): 734,\n",
       " ('han', 'tänkte'): 120,\n",
       " ('tänkte', 'förstås'): 3,\n",
       " ('förstås', 'att'): 13,\n",
       " ('att', 'inte'): 183,\n",
       " ('inte', 'skulle'): 194,\n",
       " ('skulle', 'han'): 248,\n",
       " ('han', 'läsa'): 2,\n",
       " ('läsa', 'mer'): 4,\n",
       " ('mer', 'än'): 267,\n",
       " ('än', 'han'): 75,\n",
       " ('hade', 'lust'): 19,\n",
       " ('lust', 'till'): 14,\n",
       " ('till', '</s>'): 237,\n",
       " ('pojken', 'tyckte'): 20,\n",
       " ('tyckte', 'att'): 320,\n",
       " ('han', 'aldrig'): 99,\n",
       " ('aldrig', 'hade'): 113,\n",
       " ('hade', 'sett'): 224,\n",
       " ('sett', 'mor'): 1,\n",
       " ('mor', 'så'): 8,\n",
       " ('så', 'fortfärdig'): 2,\n",
       " ('fortfärdig', '</s>'): 1,\n",
       " ('<s>', 'i'): 682,\n",
       " ('i', 'ett'): 252,\n",
       " ('ett', 'nu'): 3,\n",
       " ('var', 'hon'): 172,\n",
       " ('hon', 'borta'): 3,\n",
       " ('borta', 'vid'): 26,\n",
       " ('vid', 'vägghyllan'): 1,\n",
       " ('vägghyllan', 'tog'): 1,\n",
       " ('tog', 'ner'): 5,\n",
       " ('ner', 'luthers'): 1,\n",
       " ('luthers', 'postilla'): 1,\n",
       " ('postilla', 'och'): 1,\n",
       " ('och', 'lade'): 93,\n",
       " ('lade', 'den'): 12,\n",
       " ('den', 'på'): 73,\n",
       " ('på', 'bordet'): 43,\n",
       " ('bordet', 'framme'): 1,\n",
       " ('framme', 'vid'): 43,\n",
       " ('vid', 'fönstret'): 30,\n",
       " ('fönstret', 'med'): 4,\n",
       " ('med', 'dagens'): 1,\n",
       " ('dagens', 'predikan'): 1,\n",
       " ('predikan', 'uppslagen'): 1,\n",
       " ('uppslagen', '</s>'): 1,\n",
       " ('<s>', 'hon'): 3310,\n",
       " ('hon', 'slog'): 12,\n",
       " ('slog', 'också'): 1,\n",
       " ('också', 'upp'): 5,\n",
       " ('i', 'evangelieboken'): 1,\n",
       " ('evangelieboken', 'och'): 1,\n",
       " ('den', 'bredvid'): 4,\n",
       " ('bredvid', 'postillan'): 1,\n",
       " ('postillan', '</s>'): 1,\n",
       " ('<s>', 'sist'): 6,\n",
       " ('sist', 'drog'): 3,\n",
       " ('drog', 'hon'): 14,\n",
       " ('hon', 'fram'): 29,\n",
       " ('till', 'bordet'): 19,\n",
       " ('bordet', 'den'): 2,\n",
       " ('den', 'stora'): 358,\n",
       " ('stora', 'länstolen'): 1,\n",
       " ('länstolen', 'som'): 2,\n",
       " ('som', 'blev'): 22,\n",
       " ('blev', 'köpt'): 1,\n",
       " ('köpt', 'på'): 1,\n",
       " ('på', 'auktionen'): 6,\n",
       " ('auktionen', 'i'): 2,\n",
       " ('i', 'vemmenhögs'): 2,\n",
       " ('vemmenhögs', 'prästgård'): 1,\n",
       " ('prästgård', 'förra'): 1,\n",
       " ('förra', 'året'): 13,\n",
       " ('året', 'och'): 10,\n",
       " ('och', 'där'): 224,\n",
       " ('där', 'eljest'): 1,\n",
       " ('eljest', 'ingen'): 1,\n",
       " ('ingen', 'annan'): 92,\n",
       " ('annan', 'än'): 43,\n",
       " ('än', 'far'): 4,\n",
       " ('far', 'fick'): 1,\n",
       " ('fick', 'sitta'): 6,\n",
       " ('sitta', '</s>'): 2,\n",
       " ('pojken', 'satt'): 23,\n",
       " ('satt', 'och'): 160,\n",
       " ('tänkte', 'att'): 72,\n",
       " ('att', 'mor'): 24,\n",
       " ('mor', 'gjorde'): 1,\n",
       " ('gjorde', 'sig'): 56,\n",
       " ('sig', 'alltför'): 3,\n",
       " ('alltför', 'mycket'): 4,\n",
       " ('mycket', 'besvär'): 8,\n",
       " ('besvär', 'med'): 9,\n",
       " ('med', 'den'): 299,\n",
       " ('den', 'där'): 353,\n",
       " ('där', 'uppdukningen'): 1,\n",
       " ('uppdukningen', 'för'): 1,\n",
       " ('för', 'han'): 100,\n",
       " ('han', 'ämnade'): 23,\n",
       " ('ämnade', 'inte'): 4,\n",
       " ('inte', 'läsa'): 5,\n",
       " ('än', 'en'): 291,\n",
       " ('en', 'eller'): 13,\n",
       " ('eller', 'annan'): 11,\n",
       " ('annan', 'sida'): 2,\n",
       " ('sida', '</s>'): 26,\n",
       " ('det', 'för'): 171,\n",
       " ('för', 'andra'): 26,\n",
       " ('andra', 'gången'): 11,\n",
       " ('gången', 'alldeles'): 1,\n",
       " ('alldeles', 'så'): 5,\n",
       " ('så', 'som'): 116,\n",
       " ('ha', 'kunnat'): 49,\n",
       " ('kunnat', 'se'): 15,\n",
       " ('se', 'tvärsigenom'): 2,\n",
       " ('tvärsigenom', 'honom'): 1,\n",
       " ('han', 'gick'): 246,\n",
       " ('gick', 'fram'): 109,\n",
       " ('till', 'pojken'): 14,\n",
       " ('pojken', 'och'): 62,\n",
       " ('och', 'sade'): 177,\n",
       " ('sade', 'med'): 25,\n",
       " ('med', 'sträng'): 7,\n",
       " ('sträng', 'röst'): 5,\n",
       " ('röst', '</s>'): 115,\n",
       " ('<s>', 'kom'): 127,\n",
       " ('kom', 'nu'): 34,\n",
       " ('nu', 'ihåg'): 5,\n",
       " ('ihåg', 'att'): 68,\n",
       " ('du', 'läser'): 8,\n",
       " ('läser', 'ordentligt'): 1,\n",
       " ('ordentligt', '</s>'): 5,\n",
       " ('<s>', 'för'): 293,\n",
       " ('för', 'när'): 21,\n",
       " ('när', 'vi'): 46,\n",
       " ('vi', 'kommer'): 13,\n",
       " ('kommer', 'tillbaka'): 13,\n",
       " ('tillbaka', 'ska'): 2,\n",
       " ('ska', 'jag'): 192,\n",
       " ('jag', 'förhöra'): 1,\n",
       " ('förhöra', 'dig'): 1,\n",
       " ('dig', 'på'): 25,\n",
       " ('på', 'varenda'): 7,\n",
       " ('varenda', 'sida'): 1,\n",
       " ('sida', 'och'): 8,\n",
       " ('och', 'har'): 34,\n",
       " ('har', 'du'): 159,\n",
       " ('du', 'då'): 23,\n",
       " ('då', 'hoppat'): 1,\n",
       " ('hoppat', 'över'): 2,\n",
       " ('över', 'någon'): 2,\n",
       " ('någon', 'så'): 5,\n",
       " ('så', 'går'): 19,\n",
       " ('går', 'det'): 40,\n",
       " ('det', 'inte'): 624,\n",
       " ('inte', 'väl'): 8,\n",
       " ('väl', 'för'): 31,\n",
       " ('för', 'dig'): 132,\n",
       " ('dig', '</s>'): 288,\n",
       " ('<s>', 'predikan'): 2,\n",
       " ('predikan', 'är'): 1,\n",
       " ('är', 'fjorton'): 1,\n",
       " ('fjorton', 'och'): 2,\n",
       " ('och', 'en'): 414,\n",
       " ('en', 'halv'): 6,\n",
       " ('halv', 'sida'): 1,\n",
       " ('sida', 'sade'): 2,\n",
       " ('sade', 'mor'): 24,\n",
       " ('mor', 'liksom'): 1,\n",
       " ('liksom', 'för'): 44,\n",
       " ('att', 'råga'): 1,\n",
       " ('råga', 'måttet'): 1,\n",
       " ('måttet', '</s>'): 2,\n",
       " ('du', 'får'): 116,\n",
       " ('får', 'nog'): 11,\n",
       " ('nog', 'sätta'): 2,\n",
       " ('sätta', 'dig'): 6,\n",
       " ('dig', 'att'): 126,\n",
       " ('att', 'läsa'): 54,\n",
       " ...}"
      ]
     },
     "execution_count": 37,
     "metadata": {},
     "output_type": "execute_result"
    }
   ],
   "source": [
    "frequency_bigrams"
   ]
  },
  {
   "cell_type": "markdown",
   "metadata": {},
   "source": [
    "#### Bigrams"
   ]
  },
  {
   "cell_type": "markdown",
   "metadata": {},
   "source": [
    "Write a program to compute the sentence probability using bigrams. Your function will tabulate and print the results as below. It will return the perplexity."
   ]
  },
  {
   "cell_type": "markdown",
   "metadata": {},
   "source": [
    "```\n",
    "=====================================================\n",
    "wi \t wi+1 \t Ci,i+1 \t C(i) \t P(wi+1|wi)\n",
    "=====================================================\n",
    "<s>\t det \t 5672 \t 59047 \t 0.09605907158704083\n",
    "det \t var \t 3839 \t 21108 \t 0.1818741709304529\n",
    "var \t en \t 712 \t 12090 \t 0.058891645988420185\n",
    "en \t gång \t 706 \t 13514 \t 0.052242119283705785\n",
    "gång \t en \t 20 \t 1332 \t 0.015015015015015015\n",
    "en \t katt \t 6 \t 13514 \t 0.0004439840165754033\n",
    "katt \t som \t 2 \t 16 \t 0.125\n",
    "som \t hette \t 45 \t 16288 \t 0.002762770137524558\n",
    "hette \t nils \t 0 \t 97 \t 0.0 \t *backoff: \t 8.352285982272032e-05\n",
    "nils \t </s> \t 2 \t 87 \t 0.022988505747126436\n",
    "=====================================================\n",
    "Prob. bigrams:\t 2.376007803503683e-19\n",
    "Geometric mean prob.: 0.013727289294133601\n",
    "Entropy rate:\t 6.186809422848149\n",
    "Perplexity:\t 72.84759420254609\n",
    "```"
   ]
  },
  {
   "cell_type": "code",
   "execution_count": 38,
   "metadata": {},
   "outputs": [],
   "source": [
    "# Write your code\n",
    "def bigram_lm(frequency, frequency_bigrams, sent_words):\n",
    "\n",
    "    unique_words = set(frequency.keys())\n",
    "    \n",
    "    recived_words = sent_words.copy()\n",
    "    if(recived_words[0] != '<s>'):\n",
    "        recived_words.insert(0, '<s>')\n",
    "\n",
    "    unigram_occurrences = []\n",
    "    unigram_prob_list = []\n",
    "    bigram_occurrences = []\n",
    "    bigram_prob_list = []\n",
    "\n",
    "    # Calculate the unigram occurances\n",
    "    nbr_words = sum(frequency.values())\n",
    "    for word in recived_words:\n",
    "        unigram_occurrences.append(frequency[word])\n",
    "        unigram_prob_list.append(frequency[word] / nbr_words)\n",
    "\n",
    "    # Calculate the bigram occurances\n",
    "    nbr_bigrams = sum(frequency_bigrams.values())\n",
    "    for i in range(len(recived_words) - 1):\n",
    "        try:\n",
    "            bigram_occurrences.append(frequency_bigrams[(recived_words[i], recived_words[i + 1])])\n",
    "        except:\n",
    "            bigram_occurrences.append(0)\n",
    "        bigram = (recived_words[i], recived_words[i + 1])\n",
    "        nbr_bigrams_with_word = 0\n",
    "        for word in unique_words:\n",
    "            if (recived_words[i], word) in frequency_bigrams:\n",
    "                nbr_bigrams_with_word += frequency_bigrams[(recived_words[i], word)]\n",
    "        try:\n",
    "            bigram_prob_list.append(frequency_bigrams[bigram] / nbr_bigrams_with_word)\n",
    "        except KeyError:\n",
    "            bigram_prob_list.append(0)\n",
    "\n",
    "    # Calculate bigram probabilities\n",
    "    prob_bigrams = 1\n",
    "    for i in range(len(bigram_prob_list)):\n",
    "        if bigram_occurrences[i] != 0:\n",
    "            prob_bigrams *= bigram_prob_list[i]\n",
    "        else:\n",
    "            prob_bigrams *= unigram_prob_list[i + 1]\n",
    "    geometric_mean = prob_bigrams ** (1 / len(bigram_prob_list))\n",
    "\n",
    "    # Calculate the entropy\n",
    "    entropy = 0\n",
    "    for i in range(len(bigram_prob_list)):\n",
    "        if bigram_prob_list[i] != 0:\n",
    "            entropy -= math.log2(bigram_prob_list[i])\n",
    "        else:\n",
    "            entropy -= math.log2(unigram_prob_list[i])\n",
    "    entropy /= len(bigram_prob_list)\n",
    "    #entropy = -sum([math.log2(prob) for prob in bigram_prob_list]) / len(bigram_prob_list)\n",
    "    perplexity = 2 ** entropy\n",
    "\n",
    "    # print the results\n",
    "    print('Bigram model')\n",
    "    print('=' * 70)\n",
    "    print(f\"{'wi' : <10}{'wi+1' : <10}{'Ci,i+1' : <12}{'Ci' : <12}{'P(wi+1|wi)' : <15}\")\n",
    "    print('=' * 70)\n",
    "    for i in range(len(recived_words) - 1):\n",
    "        print(f\"{recived_words[i] : <10}{recived_words[i+1] : <10}{bigram_occurrences[i] : <12}{unigram_occurrences[i] : <12}{bigram_prob_list[i] : <5}\",end='')\n",
    "        if bigram_occurrences[i] == 0:\n",
    "            print('*backoff:  ',end='')\n",
    "            print(unigram_prob_list[i+1],end='')\n",
    "        print('\\n',end='')\n",
    "    print('=' * 70)\n",
    "    print(f\"{'Prob. bigrams:' : <25}{prob_bigrams}\")\n",
    "    print(f\"{'Geometric mean prob.:' : <25}{geometric_mean}\")\n",
    "    print(f\"{'Entropy rate:' : <25}{entropy}\")\n",
    "    print(f\"{'Perplexity:' : <25}{perplexity}\")\n",
    "    \n",
    "    return perplexity"
   ]
  },
  {
   "cell_type": "code",
   "execution_count": 39,
   "metadata": {},
   "outputs": [
    {
     "name": "stdout",
     "output_type": "stream",
     "text": [
      "Bigram model\n",
      "======================================================================\n",
      "wi        wi+1      Ci,i+1      Ci          P(wi+1|wi)     \n",
      "======================================================================\n",
      "<s>       det       5672        59047       0.09605907158704083\n",
      "det       var       3839        21108       0.1818741709304529\n",
      "var       en        712         12090       0.058891645988420185\n",
      "en        gång      706         13514       0.052242119283705785\n",
      "gång      en        20          1332        0.015015015015015015\n",
      "en        katt      6           13514       0.0004439840165754033\n",
      "katt      som       2           16          0.125\n",
      "som       hette     45          16288       0.002762770137524558\n",
      "hette     nils      0           97          0    *backoff:  8.352702963481407e-05\n",
      "nils      </s>      2           87          0.022988505747126436\n",
      "======================================================================\n",
      "Prob. bigrams:           2.376126423796318e-19\n",
      "Geometric mean prob.:    0.013727357824989852\n",
      "Entropy rate:            6.171105285854283\n",
      "Perplexity:              72.05892808005697\n"
     ]
    }
   ],
   "source": [
    "perplexity_bigrams = bigram_lm(frequency, frequency_bigrams, sent_words)"
   ]
  },
  {
   "cell_type": "code",
   "execution_count": 40,
   "metadata": {},
   "outputs": [
    {
     "data": {
      "text/plain": [
       "72"
      ]
     },
     "execution_count": 40,
     "metadata": {},
     "output_type": "execute_result"
    }
   ],
   "source": [
    "perplexity_bigrams = int(perplexity_bigrams)\n",
    "perplexity_bigrams"
   ]
  },
  {
   "cell_type": "code",
   "execution_count": 41,
   "metadata": {},
   "outputs": [
    {
     "name": "stdout",
     "output_type": "stream",
     "text": [
      "Bigram model\n",
      "======================================================================\n",
      "wi        wi+1      Ci,i+1      Ci          P(wi+1|wi)     \n",
      "======================================================================\n",
      "<s>       att       74          59047       0.0012532389452470066\n",
      "att       gräva     9           28020       0.00032119914346895073\n",
      "gräva     ett       0           25          0    *backoff:  0.004858008850024818\n",
      "ett       hål       10          5060        0.001976284584980237\n",
      "hål       i         10          42          0.23809523809523808\n",
      "i         jorden    37          16508       0.0022413375333171794\n",
      "jorden    är        6           277         0.021660649819494584\n",
      "är        ingen     65          6290        0.010333863275039745\n",
      "ingen     konst     9           1593        0.005649717514124294\n",
      "konst     </s>      1           19          0.05263157894736842\n",
      "======================================================================\n",
      "Prob. bigrams:           1.3727180502262595e-22\n",
      "Geometric mean prob.:    0.006512655927905372\n",
      "Entropy rate:            8.028644823413199\n",
      "Perplexity:              261.1336964401223\n"
     ]
    }
   ],
   "source": [
    "test_sentence_1 = 'att gräva ett hål i jorden är ingen konst </s>'\n",
    "test_sentence_2 = '<s> ute i skogen finns det många djur </s>'\n",
    "perplexity_bigrams_1 = bigram_lm(frequency, frequency_bigrams, test_sentence_1.split())"
   ]
  },
  {
   "cell_type": "code",
   "execution_count": 42,
   "metadata": {},
   "outputs": [
    {
     "name": "stdout",
     "output_type": "stream",
     "text": [
      "Bigram model\n",
      "======================================================================\n",
      "wi        wi+1      Ci,i+1      Ci          P(wi+1|wi)     \n",
      "======================================================================\n",
      "<s>       ute       19          59047       0.00032177756702288007\n",
      "ute       i         121         471         0.25690021231422505\n",
      "i         skogen    202         16508       0.012236491398110007\n",
      "skogen    finns     0           542         0    *backoff:  0.0003878726433616653\n",
      "finns     det       49          404         0.12128712871287128\n",
      "det       många     3           21108       0.0001421262080727686\n",
      "många     djur      0           715         0    *backoff:  0.00011808993844921989\n",
      "djur      </s>      31          123         0.25203252032520324\n",
      "======================================================================\n",
      "Prob. bigrams:           2.0129113502884032e-19\n",
      "Geometric mean prob.:    0.004602333449499705\n",
      "Entropy rate:            7.39301596016849\n",
      "Perplexity:              168.0813634854025\n"
     ]
    }
   ],
   "source": [
    "perplexity_bigrams_2 = bigram_lm(frequency, frequency_bigrams, test_sentence_2.split())"
   ]
  },
  {
   "cell_type": "markdown",
   "metadata": {},
   "source": [
    "In addition to this sentence, _Det var en gång en katt som hette Nils_, write two other sentences that will form your test set and run your programs on them. You will insert them in your report."
   ]
  },
  {
   "cell_type": "markdown",
   "metadata": {},
   "source": [
    "### Online prediction of words"
   ]
  },
  {
   "cell_type": "markdown",
   "metadata": {},
   "source": [
    "You will now carry out an online prediction of words. You will consider two cases:\n",
    "1. Prediction of the current word a user is typing;\n",
    "2. Prediction of the next word.\n",
    "\n",
    "Ideally, you would write a loop that reads the words and apply the models while typing. As the Jupyter labs are not designed for interactive input and output, we will simplify the experimental settings with constant strings at a given time of the input.  \n",
    "\n",
    "We will assume the user is typing the phrase: _Det var en gång_. "
   ]
  },
  {
   "cell_type": "markdown",
   "metadata": {},
   "source": [
    "#### Trigrams"
   ]
  },
  {
   "cell_type": "markdown",
   "metadata": {},
   "source": [
    "To have a more accurate prediction, you will use a trigram counting function. Program this function following the model of your bigram counting function."
   ]
  },
  {
   "cell_type": "code",
   "execution_count": 43,
   "metadata": {},
   "outputs": [],
   "source": [
    "# Write your code\n",
    "def trigrams(words):\n",
    "    trigrams = []\n",
    "    for i in range(len(words) - 2):\n",
    "        trigrams.append((words[i], words[i + 1], words[i + 2]))\n",
    "    frequency_trigrams = {}\n",
    "    for i in range(len(words) - 2):\n",
    "        if trigrams[i] in frequency_trigrams:\n",
    "            frequency_trigrams[trigrams[i]] += 1\n",
    "        else:\n",
    "            frequency_trigrams[trigrams[i]] = 1\n",
    "    return frequency_trigrams"
   ]
  },
  {
   "cell_type": "code",
   "execution_count": 44,
   "metadata": {},
   "outputs": [
    {
     "data": {
      "text/plain": [
       "330"
      ]
     },
     "execution_count": 44,
     "metadata": {},
     "output_type": "execute_result"
    }
   ],
   "source": [
    "frequency_trigrams = trigrams(words)\n",
    "frequency_trigrams[('det', 'var', 'en')]"
   ]
  },
  {
   "cell_type": "markdown",
   "metadata": {},
   "source": [
    "#### Prediction"
   ]
  },
  {
   "cell_type": "markdown",
   "metadata": {},
   "source": [
    "The user starts typing _Det var en gång_. After the 2nd character, your program tries to help the user with suggested words."
   ]
  },
  {
   "cell_type": "code",
   "execution_count": 45,
   "metadata": {},
   "outputs": [
    {
     "data": {
      "text/plain": [
       "'de'"
      ]
     },
     "execution_count": 45,
     "metadata": {},
     "output_type": "execute_result"
    }
   ],
   "source": [
    "starting_text = 'De'.lower()\n",
    "starting_text"
   ]
  },
  {
   "cell_type": "markdown",
   "metadata": {},
   "source": [
    "Write a program to rank the five first candidates at this point. Assign these predictions in a list that you will call `current_word_predictions_1`. Note that you are starting a sentence and you can then use the bigram frequencies. Write a sorting key that will enable you to have a deterministic ranking of the words or bigrams with identical frequencies: When two words have the same frequency, you will sort them by alphabetic order. You can do this with a tuple."
   ]
  },
  {
   "cell_type": "code",
   "execution_count": 46,
   "metadata": {},
   "outputs": [],
   "source": [
    "cand_nbr = 5"
   ]
  },
  {
   "cell_type": "code",
   "execution_count": 47,
   "metadata": {},
   "outputs": [],
   "source": [
    "# Write your code here\n",
    "current_word_predictions_1 = []\n",
    "start_icon = '<s>'\n",
    "for word_to_test in frequency_bigrams.keys(): \n",
    "    # Check if the word starts with the start icon\n",
    "    if word_to_test[0] != start_icon:\n",
    "        continue\n",
    "\n",
    "    if word_to_test[1].startswith(starting_text):\n",
    "        if len(current_word_predictions_1) < cand_nbr + 1:\n",
    "            current_word_predictions_1.append((word_to_test[1], frequency_bigrams[word_to_test]))\n",
    "        else:\n",
    "            current_word_predictions_1.sort(key=lambda x: (-x[1], x[0]))\n",
    "            if frequency_bigrams[word_to_test] > current_word_predictions_1[-1][1]:\n",
    "                current_word_predictions_1[-1] = (word_to_test[1], frequency_bigrams[word_to_test])\n",
    "\n",
    "current_word_predictions_1.sort(key=lambda x: (-x[1], x[0]))\n",
    "\n",
    "# Extract the words\n",
    "current_word_predictions_1 = [word for word, _ in current_word_predictions_1]\n",
    "current_word_predictions_1 = current_word_predictions_1[:-1]"
   ]
  },
  {
   "cell_type": "code",
   "execution_count": 48,
   "metadata": {},
   "outputs": [
    {
     "data": {
      "text/plain": [
       "['det', 'de', 'den', 'detta', 'denna']"
      ]
     },
     "execution_count": 48,
     "metadata": {},
     "output_type": "execute_result"
    }
   ],
   "source": [
    "current_word_predictions_1"
   ]
  },
  {
   "cell_type": "markdown",
   "metadata": {},
   "source": [
    "Let us now suppose that the user has typed: _Det var en_. After detecting a space, your program starts predicting a next possible word."
   ]
  },
  {
   "cell_type": "code",
   "execution_count": 49,
   "metadata": {},
   "outputs": [
    {
     "data": {
      "text/plain": [
       "'det var en '"
      ]
     },
     "execution_count": 49,
     "metadata": {},
     "output_type": "execute_result"
    }
   ],
   "source": [
    "current_text = \"Det var en \".lower()\n",
    "current_text"
   ]
  },
  {
   "cell_type": "markdown",
   "metadata": {},
   "source": [
    "Tokenize this text and return a list of tokens. Call it `tokens`."
   ]
  },
  {
   "cell_type": "code",
   "execution_count": 50,
   "metadata": {},
   "outputs": [],
   "source": [
    "# Write your code here\n",
    "tokens = tokenize(current_text)"
   ]
  },
  {
   "cell_type": "code",
   "execution_count": 51,
   "metadata": {},
   "outputs": [
    {
     "data": {
      "text/plain": [
       "['det', 'var', 'en']"
      ]
     },
     "execution_count": 51,
     "metadata": {},
     "output_type": "execute_result"
    }
   ],
   "source": [
    "tokens"
   ]
  },
  {
   "cell_type": "markdown",
   "metadata": {},
   "source": [
    "Write a program to propose the five next possible words ranked by frequency using a trigram model. Assign these predictions to a variable that you will call `next_word_predictions`. Write a sorting key that will enable you have a deterministic ranking of the words or bigrams with identical frequencies: When two words have the same frequency, you will sort them by alphabetic order. You can do this with a tuple."
   ]
  },
  {
   "cell_type": "code",
   "execution_count": 52,
   "metadata": {},
   "outputs": [],
   "source": [
    "# Write your code here\n",
    "next_word_predictions = []\n",
    "\n",
    "for word_to_test in frequency_trigrams.keys(): \n",
    "    # Check if the word starts with the start icon\n",
    "    if word_to_test[0] != tokens[1] or word_to_test[1] != tokens[2]:\n",
    "        continue\n",
    "\n",
    "    if len(next_word_predictions) < cand_nbr + 1:\n",
    "        next_word_predictions.append((word_to_test[2], frequency_trigrams[word_to_test]))\n",
    "    else:\n",
    "        next_word_predictions.sort(key=lambda x: (-x[1], x[0]))\n",
    "        if frequency_trigrams[word_to_test] > next_word_predictions[-1][1]:\n",
    "            next_word_predictions[-1] = (word_to_test[2], frequency_trigrams[word_to_test])\n",
    "\n",
    "next_word_predictions.sort(key=lambda x: (-x[1], x[0]))\n",
    "\n",
    "# Extract the words\n",
    "next_word_predictions = [word for word, _ in next_word_predictions]\n",
    "next_word_predictions = next_word_predictions[:-1]"
   ]
  },
  {
   "cell_type": "code",
   "execution_count": 53,
   "metadata": {},
   "outputs": [
    {
     "data": {
      "text/plain": [
       "['stor', 'liten', 'gammal', 'god', 'sådan']"
      ]
     },
     "execution_count": 53,
     "metadata": {},
     "output_type": "execute_result"
    }
   ],
   "source": [
    "next_word_predictions"
   ]
  },
  {
   "cell_type": "markdown",
   "metadata": {},
   "source": [
    "Finally, let us suppose that the user has typed _Det var en g_, rank the five possible candidates. Assign these predictions in a list that you will call `current_word_predictions_2`"
   ]
  },
  {
   "cell_type": "code",
   "execution_count": 54,
   "metadata": {},
   "outputs": [],
   "source": [
    "current_text = \"Det var en g\".lower()"
   ]
  },
  {
   "cell_type": "code",
   "execution_count": 55,
   "metadata": {},
   "outputs": [],
   "source": [
    "# Write your code here\n",
    "tokens = tokenize(current_text)\n",
    "current_word_predictions_2 = []\n",
    "\n",
    "for word_to_test in frequency_trigrams.keys(): \n",
    "    # Check if the word starts with the start icon\n",
    "    \n",
    "    if word_to_test[0] != tokens[1] or word_to_test[1] != tokens[2]:\n",
    "        continue\n",
    "\n",
    "    if word_to_test[2].startswith(tokens[3]):\n",
    "        if len(current_word_predictions_2) < cand_nbr + 1:\n",
    "            current_word_predictions_2.append((word_to_test[2], frequency_trigrams[word_to_test]))\n",
    "        else:\n",
    "            current_word_predictions_2.sort(key=lambda x: (-x[1], x[0]))\n",
    "            if frequency_trigrams[word_to_test] > current_word_predictions_2[-1][1]:\n",
    "                current_word_predictions_2[-1] = (word_to_test[2], frequency_trigrams[word_to_test])\n",
    "\n",
    "current_word_predictions_2.sort(key=lambda x: (-x[1], x[0]))\n",
    "\n",
    "# Extract the words\n",
    "current_word_predictions_2 = [word for word, _ in current_word_predictions_2]\n",
    "# Keep the first 5 words\n",
    "current_word_predictions_2 = current_word_predictions_2[:-1]"
   ]
  },
  {
   "cell_type": "code",
   "execution_count": 56,
   "metadata": {},
   "outputs": [
    {
     "data": {
      "text/plain": [
       "['gammal', 'god', 'gång', 'ganska', 'glädje']"
      ]
     },
     "execution_count": 56,
     "metadata": {},
     "output_type": "execute_result"
    }
   ],
   "source": [
    "current_word_predictions_2"
   ]
  },
  {
   "cell_type": "markdown",
   "metadata": {},
   "source": [
    "## Turning in your assignment"
   ]
  },
  {
   "cell_type": "markdown",
   "metadata": {},
   "source": [
    "Now your are done with the program. To complete this assignment, you will:\n",
    "1. Write a short individual report on your program. I suggest that you use this structure for your report:\n",
    "      1. Objectives and dataset\n",
    "      2. Method and program structure, where you should outline your program and possibly describe difficult parts. In this section, you will include the __regular expression you used to segment the text__.\n",
    "      3. Results. You will include the __unigram and bigram tables__ for _Det var en gång en katt som hette Nils_ and __two other sentences__. You will also include the results of your __next word prediction__.\n",
    "      4. Conclusion\n",
    "      5. Answer to possible questions\n",
    "2. Execute the Jupyter notebook by Peter Norvig here: <a href=\"http://nbviewer.jupyter.org/url/norvig.com/ipython/How%20to%20Do%20Things%20with%20Words.ipynb\">https://nbviewer.jupyter.org/url/norvig.com/ipython/How to Do Things with Words.ipynb</a>. Just run all the cells and be sure that you understand the code. You will find the data here: <a href=\"http://norvig.com/ngrams/\">http://norvig.com/ngrams/</a>.\n",
    "3. In your report, after the description of your program and conclusion, you will describe one experiment with Norvig's notebook and a __long string of words your will create yourself or copy from a text you like__. You will remove all the punctuation and white spaces from this string. You will set this string in lowercase letters. You will just add a cell at the end of Sect. 7 in Norvig's notebook, where you will use your string and run the notebook cell with the <tt>segment()</tt> and <tt>segment2()</tt> functions. __You will comment the segmentation results you obtained__ with the unigram and bigram models.\n",
    "\n",
    "Submit your report as well as your notebook (for archiving purposes) to Canvas: https://canvas.education.lu.se/. To write your report, you can either\n",
    "1. Use Latex and Overleaf (<a href=\"https://www.overleaf.com/\">www.overleaf.com</a>). This will probably help you structure your text. You will then upload a PDF file in Canvas.\n",
    "2. You can also write directly your text in Canvas.\n",
    "\n",
    "The submission deadline is September 27, 2024. You will have only three submission attempts. The deadline for the second and third ones are one week after you are noticed of your result."
   ]
  }
 ],
 "metadata": {
  "kernelspec": {
   "display_name": "Python 3.9.12 ('base')",
   "language": "python",
   "name": "python3"
  },
  "language_info": {
   "codemirror_mode": {
    "name": "ipython",
    "version": 3
   },
   "file_extension": ".py",
   "mimetype": "text/x-python",
   "name": "python",
   "nbconvert_exporter": "python",
   "pygments_lexer": "ipython3",
   "version": "3.11.5"
  },
  "vscode": {
   "interpreter": {
    "hash": "b97b11a820675205aae8f1d7f2a3f22bbd3a2c30189f44042310baf5b4cd1987"
   }
  }
 },
 "nbformat": 4,
 "nbformat_minor": 4
}
